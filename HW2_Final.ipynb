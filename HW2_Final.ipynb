{
 "cells": [
  {
   "cell_type": "code",
   "execution_count": 1,
   "id": "8d56eb71",
   "metadata": {},
   "outputs": [],
   "source": [
    "import numpy as np\n",
    "import pandas as pd\n",
    "import matplotlib.pyplot as plt\n",
    "import seaborn as sns\n",
    "import mpl_toolkits\n",
    "from sklearn.linear_model import LinearRegression\n",
    "from sklearn.model_selection import train_test_split\n",
    "%matplotlib inline\n",
    "import numpy as np"
   ]
  },
  {
   "cell_type": "code",
   "execution_count": 2,
   "id": "dcd335fc",
   "metadata": {},
   "outputs": [
    {
     "data": {
      "text/html": [
       "<div>\n",
       "<style scoped>\n",
       "    .dataframe tbody tr th:only-of-type {\n",
       "        vertical-align: middle;\n",
       "    }\n",
       "\n",
       "    .dataframe tbody tr th {\n",
       "        vertical-align: top;\n",
       "    }\n",
       "\n",
       "    .dataframe thead th {\n",
       "        text-align: right;\n",
       "    }\n",
       "</style>\n",
       "<table border=\"1\" class=\"dataframe\">\n",
       "  <thead>\n",
       "    <tr style=\"text-align: right;\">\n",
       "      <th></th>\n",
       "      <th>Car Make</th>\n",
       "      <th>Car Model</th>\n",
       "      <th>Dealer or Individual</th>\n",
       "      <th>Price</th>\n",
       "      <th>Year</th>\n",
       "      <th>Location</th>\n",
       "      <th>Mileage</th>\n",
       "      <th>Doors</th>\n",
       "      <th>Color</th>\n",
       "      <th>Transmission</th>\n",
       "      <th>VIN#</th>\n",
       "      <th>Engine</th>\n",
       "      <th>Description</th>\n",
       "      <th>Web link</th>\n",
       "      <th>Dealer Web</th>\n",
       "    </tr>\n",
       "  </thead>\n",
       "  <tbody>\n",
       "    <tr>\n",
       "      <th>0</th>\n",
       "      <td>Honda</td>\n",
       "      <td>Accord</td>\n",
       "      <td>Dealer</td>\n",
       "      <td>19254</td>\n",
       "      <td>2016</td>\n",
       "      <td>Butler, PA</td>\n",
       "      <td>102547</td>\n",
       "      <td>4.0</td>\n",
       "      <td>Silver</td>\n",
       "      <td>Automatic</td>\n",
       "      <td>1HGCR2F56GA062753</td>\n",
       "      <td>Regular Unleaded I-4 2.4 L/144</td>\n",
       "      <td>Used 2016 Honda Accord Sport in Butler, PA</td>\n",
       "      <td>https://www.hondanorth.net/auto/*/63078629/?st...</td>\n",
       "      <td>NaN</td>\n",
       "    </tr>\n",
       "    <tr>\n",
       "      <th>1</th>\n",
       "      <td>Honda</td>\n",
       "      <td>Accord</td>\n",
       "      <td>Dealer</td>\n",
       "      <td>13896</td>\n",
       "      <td>2014</td>\n",
       "      <td>Wexford, PA</td>\n",
       "      <td>123089</td>\n",
       "      <td>4.0</td>\n",
       "      <td>Metallic</td>\n",
       "      <td>Automatic</td>\n",
       "      <td>1HGCR2F83EA071238</td>\n",
       "      <td>4</td>\n",
       "      <td>Pre-Owned 2014 Honda Accord EX-L Sedan</td>\n",
       "      <td>https://www.baierlhonda.com/used/Honda/2014-Ho...</td>\n",
       "      <td>www.baierlhonda.com</td>\n",
       "    </tr>\n",
       "    <tr>\n",
       "      <th>2</th>\n",
       "      <td>Honda</td>\n",
       "      <td>Accord</td>\n",
       "      <td>Dealer</td>\n",
       "      <td>19788</td>\n",
       "      <td>2015</td>\n",
       "      <td>Bellevue WA</td>\n",
       "      <td>36071</td>\n",
       "      <td>4.0</td>\n",
       "      <td>Red</td>\n",
       "      <td>Manual</td>\n",
       "      <td>1HGCR2F80FA101703</td>\n",
       "      <td>Regular Unleaded I-4 2.4 L/144</td>\n",
       "      <td>Check out this 2015 Honda Accord Sedan EX-L. I...</td>\n",
       "      <td>https://www.bellevuehonda.com/vehicle-details/...</td>\n",
       "      <td>www.bellevuehonda.com</td>\n",
       "    </tr>\n",
       "    <tr>\n",
       "      <th>3</th>\n",
       "      <td>Honda</td>\n",
       "      <td>Accord</td>\n",
       "      <td>Not specified</td>\n",
       "      <td>12410</td>\n",
       "      <td>2012</td>\n",
       "      <td>McMurray, PA</td>\n",
       "      <td>112098</td>\n",
       "      <td>NaN</td>\n",
       "      <td>Black</td>\n",
       "      <td>Automatic</td>\n",
       "      <td>1HGCP2F40CA030226</td>\n",
       "      <td>4 Cyl - 2.4 L</td>\n",
       "      <td>NaN</td>\n",
       "      <td>https://www.3riversvw.com/used-McMurray-2012-H...</td>\n",
       "      <td>www.3riversvw.com</td>\n",
       "    </tr>\n",
       "    <tr>\n",
       "      <th>4</th>\n",
       "      <td>Honda</td>\n",
       "      <td>Accord</td>\n",
       "      <td>Individual</td>\n",
       "      <td>15990</td>\n",
       "      <td>2013</td>\n",
       "      <td>Sammamish, WA</td>\n",
       "      <td>144074</td>\n",
       "      <td>4.0</td>\n",
       "      <td>Black</td>\n",
       "      <td>Automatic</td>\n",
       "      <td>1HGCR2F59DA101668</td>\n",
       "      <td>4 cylinders</td>\n",
       "      <td>Original Owner, Clean title, 144k miles.\\rAlwa...</td>\n",
       "      <td>https://seattle.craigslist.org/est/cto/d/issaq...</td>\n",
       "      <td>NaN</td>\n",
       "    </tr>\n",
       "    <tr>\n",
       "      <th>...</th>\n",
       "      <td>...</td>\n",
       "      <td>...</td>\n",
       "      <td>...</td>\n",
       "      <td>...</td>\n",
       "      <td>...</td>\n",
       "      <td>...</td>\n",
       "      <td>...</td>\n",
       "      <td>...</td>\n",
       "      <td>...</td>\n",
       "      <td>...</td>\n",
       "      <td>...</td>\n",
       "      <td>...</td>\n",
       "      <td>...</td>\n",
       "      <td>...</td>\n",
       "      <td>...</td>\n",
       "    </tr>\n",
       "    <tr>\n",
       "      <th>252</th>\n",
       "      <td>Honda</td>\n",
       "      <td>Accord</td>\n",
       "      <td>Individual</td>\n",
       "      <td>22990</td>\n",
       "      <td>2016</td>\n",
       "      <td>Pittsburgh, PA</td>\n",
       "      <td>50000</td>\n",
       "      <td>4.0</td>\n",
       "      <td>Silver</td>\n",
       "      <td>Manual</td>\n",
       "      <td>1HGCR2F32GA096249</td>\n",
       "      <td>4-Cyl, i-VTEC, 2.4 Liter</td>\n",
       "      <td>LX Sedan 4D</td>\n",
       "      <td>https://www.carvana.com/vehicle/2188998</td>\n",
       "      <td>www.carvana.com</td>\n",
       "    </tr>\n",
       "    <tr>\n",
       "      <th>253</th>\n",
       "      <td>Honda</td>\n",
       "      <td>Accord</td>\n",
       "      <td>Individual</td>\n",
       "      <td>25811</td>\n",
       "      <td>2016</td>\n",
       "      <td>IL</td>\n",
       "      <td>49572</td>\n",
       "      <td>4.0</td>\n",
       "      <td>Red</td>\n",
       "      <td>Automatic</td>\n",
       "      <td>1HGCR2F58GA197331</td>\n",
       "      <td>4-Cyl, i-VTEC, 2.4 Liter</td>\n",
       "      <td>NaN</td>\n",
       "      <td>https://www.carvana.com/vehicle/2254840#vehicl...</td>\n",
       "      <td>www.carvana.com</td>\n",
       "    </tr>\n",
       "    <tr>\n",
       "      <th>254</th>\n",
       "      <td>Honda</td>\n",
       "      <td>Accord</td>\n",
       "      <td>Individual</td>\n",
       "      <td>23990</td>\n",
       "      <td>2016</td>\n",
       "      <td>IL</td>\n",
       "      <td>40886</td>\n",
       "      <td>4.0</td>\n",
       "      <td>Black</td>\n",
       "      <td>Automatic</td>\n",
       "      <td>1HGCR2F50GA172939</td>\n",
       "      <td>4-Cyl, i-VTEC, 2.4 Liter</td>\n",
       "      <td>NaN</td>\n",
       "      <td>https://www.carvana.com/vehicle/2212139#vehicl...</td>\n",
       "      <td>www.carvana.com</td>\n",
       "    </tr>\n",
       "    <tr>\n",
       "      <th>255</th>\n",
       "      <td>Honda</td>\n",
       "      <td>Accord</td>\n",
       "      <td>Dealer</td>\n",
       "      <td>15987</td>\n",
       "      <td>2015</td>\n",
       "      <td>PA</td>\n",
       "      <td>122928</td>\n",
       "      <td>4.0</td>\n",
       "      <td>Silver</td>\n",
       "      <td>Automatic</td>\n",
       "      <td>1HGCR2F82FA094138</td>\n",
       "      <td>2.4L I4 16V GDI DOHC</td>\n",
       "      <td>NaN</td>\n",
       "      <td>https://www.cars.com/vehicledetail/dfddcd4f-75...</td>\n",
       "      <td>www.cars.com</td>\n",
       "    </tr>\n",
       "    <tr>\n",
       "      <th>256</th>\n",
       "      <td>Honda</td>\n",
       "      <td>Accord</td>\n",
       "      <td>Dealer</td>\n",
       "      <td>14988</td>\n",
       "      <td>2011</td>\n",
       "      <td>PA</td>\n",
       "      <td>85100</td>\n",
       "      <td>4.0</td>\n",
       "      <td>Metallic</td>\n",
       "      <td>Automatic</td>\n",
       "      <td>1HGCS1B86BA001636</td>\n",
       "      <td>2.4L I4 16V MPFI DOHC</td>\n",
       "      <td>NaN</td>\n",
       "      <td>https://www.cars.com/vehicledetail/5c0d2e33-e1...</td>\n",
       "      <td>www.cars.com</td>\n",
       "    </tr>\n",
       "  </tbody>\n",
       "</table>\n",
       "<p>257 rows × 15 columns</p>\n",
       "</div>"
      ],
      "text/plain": [
       "    Car Make Car Model Dealer or Individual  Price  Year        Location  \\\n",
       "0      Honda    Accord               Dealer  19254  2016      Butler, PA   \n",
       "1      Honda    Accord               Dealer  13896  2014     Wexford, PA   \n",
       "2      Honda    Accord               Dealer  19788  2015     Bellevue WA   \n",
       "3      Honda    Accord        Not specified  12410  2012    McMurray, PA   \n",
       "4      Honda    Accord           Individual  15990  2013   Sammamish, WA   \n",
       "..       ...       ...                  ...    ...   ...             ...   \n",
       "252    Honda    Accord           Individual  22990  2016  Pittsburgh, PA   \n",
       "253    Honda    Accord           Individual  25811  2016              IL   \n",
       "254    Honda    Accord           Individual  23990  2016              IL   \n",
       "255    Honda    Accord               Dealer  15987  2015              PA   \n",
       "256    Honda    Accord               Dealer  14988  2011              PA   \n",
       "\n",
       "     Mileage  Doors     Color Transmission               VIN#  \\\n",
       "0     102547    4.0    Silver    Automatic  1HGCR2F56GA062753   \n",
       "1     123089    4.0  Metallic    Automatic  1HGCR2F83EA071238   \n",
       "2      36071    4.0       Red       Manual  1HGCR2F80FA101703   \n",
       "3     112098    NaN     Black    Automatic  1HGCP2F40CA030226   \n",
       "4     144074    4.0     Black    Automatic  1HGCR2F59DA101668   \n",
       "..       ...    ...       ...          ...                ...   \n",
       "252    50000    4.0    Silver       Manual  1HGCR2F32GA096249   \n",
       "253    49572    4.0       Red    Automatic  1HGCR2F58GA197331   \n",
       "254    40886    4.0     Black    Automatic  1HGCR2F50GA172939   \n",
       "255   122928    4.0    Silver    Automatic  1HGCR2F82FA094138   \n",
       "256    85100    4.0  Metallic    Automatic  1HGCS1B86BA001636   \n",
       "\n",
       "                             Engine  \\\n",
       "0    Regular Unleaded I-4 2.4 L/144   \n",
       "1                                 4   \n",
       "2    Regular Unleaded I-4 2.4 L/144   \n",
       "3                     4 Cyl - 2.4 L   \n",
       "4                       4 cylinders   \n",
       "..                              ...   \n",
       "252        4-Cyl, i-VTEC, 2.4 Liter   \n",
       "253        4-Cyl, i-VTEC, 2.4 Liter   \n",
       "254        4-Cyl, i-VTEC, 2.4 Liter   \n",
       "255            2.4L I4 16V GDI DOHC   \n",
       "256           2.4L I4 16V MPFI DOHC   \n",
       "\n",
       "                                           Description  \\\n",
       "0           Used 2016 Honda Accord Sport in Butler, PA   \n",
       "1               Pre-Owned 2014 Honda Accord EX-L Sedan   \n",
       "2    Check out this 2015 Honda Accord Sedan EX-L. I...   \n",
       "3                                                  NaN   \n",
       "4    Original Owner, Clean title, 144k miles.\\rAlwa...   \n",
       "..                                                 ...   \n",
       "252                                        LX Sedan 4D   \n",
       "253                                                NaN   \n",
       "254                                                NaN   \n",
       "255                                                NaN   \n",
       "256                                                NaN   \n",
       "\n",
       "                                              Web link             Dealer Web  \n",
       "0    https://www.hondanorth.net/auto/*/63078629/?st...                    NaN  \n",
       "1    https://www.baierlhonda.com/used/Honda/2014-Ho...    www.baierlhonda.com  \n",
       "2    https://www.bellevuehonda.com/vehicle-details/...  www.bellevuehonda.com  \n",
       "3    https://www.3riversvw.com/used-McMurray-2012-H...      www.3riversvw.com  \n",
       "4    https://seattle.craigslist.org/est/cto/d/issaq...                    NaN  \n",
       "..                                                 ...                    ...  \n",
       "252            https://www.carvana.com/vehicle/2188998        www.carvana.com  \n",
       "253  https://www.carvana.com/vehicle/2254840#vehicl...        www.carvana.com  \n",
       "254  https://www.carvana.com/vehicle/2212139#vehicl...        www.carvana.com  \n",
       "255  https://www.cars.com/vehicledetail/dfddcd4f-75...           www.cars.com  \n",
       "256  https://www.cars.com/vehicledetail/5c0d2e33-e1...           www.cars.com  \n",
       "\n",
       "[257 rows x 15 columns]"
      ]
     },
     "execution_count": 2,
     "metadata": {},
     "output_type": "execute_result"
    }
   ],
   "source": [
    "df= pd.read_csv('DS2.csv', encoding='unicode_escape')\n",
    "df"
   ]
  },
  {
   "cell_type": "code",
   "execution_count": 3,
   "id": "e520085f",
   "metadata": {},
   "outputs": [
    {
     "data": {
      "text/html": [
       "<div>\n",
       "<style scoped>\n",
       "    .dataframe tbody tr th:only-of-type {\n",
       "        vertical-align: middle;\n",
       "    }\n",
       "\n",
       "    .dataframe tbody tr th {\n",
       "        vertical-align: top;\n",
       "    }\n",
       "\n",
       "    .dataframe thead th {\n",
       "        text-align: right;\n",
       "    }\n",
       "</style>\n",
       "<table border=\"1\" class=\"dataframe\">\n",
       "  <thead>\n",
       "    <tr style=\"text-align: right;\">\n",
       "      <th></th>\n",
       "      <th>Car Make</th>\n",
       "      <th>Car Model</th>\n",
       "      <th>Dealer or Individual</th>\n",
       "      <th>Price</th>\n",
       "      <th>Year</th>\n",
       "      <th>Location</th>\n",
       "      <th>Mileage</th>\n",
       "      <th>Doors</th>\n",
       "      <th>Color</th>\n",
       "      <th>Transmission</th>\n",
       "      <th>VIN#</th>\n",
       "      <th>Engine</th>\n",
       "      <th>Description</th>\n",
       "      <th>Web link</th>\n",
       "      <th>Dealer Web</th>\n",
       "    </tr>\n",
       "  </thead>\n",
       "  <tbody>\n",
       "    <tr>\n",
       "      <th>0</th>\n",
       "      <td>Honda</td>\n",
       "      <td>Accord</td>\n",
       "      <td>Dealer</td>\n",
       "      <td>19254</td>\n",
       "      <td>2016</td>\n",
       "      <td>Butler, PA</td>\n",
       "      <td>102547</td>\n",
       "      <td>4.0</td>\n",
       "      <td>Silver</td>\n",
       "      <td>Automatic</td>\n",
       "      <td>1HGCR2F56GA062753</td>\n",
       "      <td>Regular Unleaded I-4 2.4 L/144</td>\n",
       "      <td>Used 2016 Honda Accord Sport in Butler, PA</td>\n",
       "      <td>https://www.hondanorth.net/auto/*/63078629/?st...</td>\n",
       "      <td>NaN</td>\n",
       "    </tr>\n",
       "    <tr>\n",
       "      <th>1</th>\n",
       "      <td>Honda</td>\n",
       "      <td>Accord</td>\n",
       "      <td>Dealer</td>\n",
       "      <td>13896</td>\n",
       "      <td>2014</td>\n",
       "      <td>Wexford, PA</td>\n",
       "      <td>123089</td>\n",
       "      <td>4.0</td>\n",
       "      <td>Metallic</td>\n",
       "      <td>Automatic</td>\n",
       "      <td>1HGCR2F83EA071238</td>\n",
       "      <td>4</td>\n",
       "      <td>Pre-Owned 2014 Honda Accord EX-L Sedan</td>\n",
       "      <td>https://www.baierlhonda.com/used/Honda/2014-Ho...</td>\n",
       "      <td>www.baierlhonda.com</td>\n",
       "    </tr>\n",
       "    <tr>\n",
       "      <th>2</th>\n",
       "      <td>Honda</td>\n",
       "      <td>Accord</td>\n",
       "      <td>Dealer</td>\n",
       "      <td>19788</td>\n",
       "      <td>2015</td>\n",
       "      <td>Bellevue WA</td>\n",
       "      <td>36071</td>\n",
       "      <td>4.0</td>\n",
       "      <td>Red</td>\n",
       "      <td>Manual</td>\n",
       "      <td>1HGCR2F80FA101703</td>\n",
       "      <td>Regular Unleaded I-4 2.4 L/144</td>\n",
       "      <td>Check out this 2015 Honda Accord Sedan EX-L. I...</td>\n",
       "      <td>https://www.bellevuehonda.com/vehicle-details/...</td>\n",
       "      <td>www.bellevuehonda.com</td>\n",
       "    </tr>\n",
       "    <tr>\n",
       "      <th>3</th>\n",
       "      <td>Honda</td>\n",
       "      <td>Accord</td>\n",
       "      <td>Not specified</td>\n",
       "      <td>12410</td>\n",
       "      <td>2012</td>\n",
       "      <td>McMurray, PA</td>\n",
       "      <td>112098</td>\n",
       "      <td>NaN</td>\n",
       "      <td>Black</td>\n",
       "      <td>Automatic</td>\n",
       "      <td>1HGCP2F40CA030226</td>\n",
       "      <td>4 Cyl - 2.4 L</td>\n",
       "      <td>NaN</td>\n",
       "      <td>https://www.3riversvw.com/used-McMurray-2012-H...</td>\n",
       "      <td>www.3riversvw.com</td>\n",
       "    </tr>\n",
       "    <tr>\n",
       "      <th>4</th>\n",
       "      <td>Honda</td>\n",
       "      <td>Accord</td>\n",
       "      <td>Individual</td>\n",
       "      <td>15990</td>\n",
       "      <td>2013</td>\n",
       "      <td>Sammamish, WA</td>\n",
       "      <td>144074</td>\n",
       "      <td>4.0</td>\n",
       "      <td>Black</td>\n",
       "      <td>Automatic</td>\n",
       "      <td>1HGCR2F59DA101668</td>\n",
       "      <td>4 cylinders</td>\n",
       "      <td>Original Owner, Clean title, 144k miles.\\rAlwa...</td>\n",
       "      <td>https://seattle.craigslist.org/est/cto/d/issaq...</td>\n",
       "      <td>NaN</td>\n",
       "    </tr>\n",
       "  </tbody>\n",
       "</table>\n",
       "</div>"
      ],
      "text/plain": [
       "  Car Make Car Model Dealer or Individual  Price  Year       Location  \\\n",
       "0    Honda    Accord               Dealer  19254  2016     Butler, PA   \n",
       "1    Honda    Accord               Dealer  13896  2014    Wexford, PA   \n",
       "2    Honda    Accord               Dealer  19788  2015    Bellevue WA   \n",
       "3    Honda    Accord        Not specified  12410  2012   McMurray, PA   \n",
       "4    Honda    Accord           Individual  15990  2013  Sammamish, WA   \n",
       "\n",
       "   Mileage  Doors     Color Transmission               VIN#  \\\n",
       "0   102547    4.0    Silver    Automatic  1HGCR2F56GA062753   \n",
       "1   123089    4.0  Metallic    Automatic  1HGCR2F83EA071238   \n",
       "2    36071    4.0       Red       Manual  1HGCR2F80FA101703   \n",
       "3   112098    NaN     Black    Automatic  1HGCP2F40CA030226   \n",
       "4   144074    4.0     Black    Automatic  1HGCR2F59DA101668   \n",
       "\n",
       "                           Engine  \\\n",
       "0  Regular Unleaded I-4 2.4 L/144   \n",
       "1                               4   \n",
       "2  Regular Unleaded I-4 2.4 L/144   \n",
       "3                   4 Cyl - 2.4 L   \n",
       "4                     4 cylinders   \n",
       "\n",
       "                                         Description  \\\n",
       "0         Used 2016 Honda Accord Sport in Butler, PA   \n",
       "1             Pre-Owned 2014 Honda Accord EX-L Sedan   \n",
       "2  Check out this 2015 Honda Accord Sedan EX-L. I...   \n",
       "3                                                NaN   \n",
       "4  Original Owner, Clean title, 144k miles.\\rAlwa...   \n",
       "\n",
       "                                            Web link             Dealer Web  \n",
       "0  https://www.hondanorth.net/auto/*/63078629/?st...                    NaN  \n",
       "1  https://www.baierlhonda.com/used/Honda/2014-Ho...    www.baierlhonda.com  \n",
       "2  https://www.bellevuehonda.com/vehicle-details/...  www.bellevuehonda.com  \n",
       "3  https://www.3riversvw.com/used-McMurray-2012-H...      www.3riversvw.com  \n",
       "4  https://seattle.craigslist.org/est/cto/d/issaq...                    NaN  "
      ]
     },
     "execution_count": 3,
     "metadata": {},
     "output_type": "execute_result"
    }
   ],
   "source": [
    "df.head()"
   ]
  },
  {
   "cell_type": "code",
   "execution_count": 4,
   "id": "88b1cf6f",
   "metadata": {},
   "outputs": [
    {
     "data": {
      "text/html": [
       "<div>\n",
       "<style scoped>\n",
       "    .dataframe tbody tr th:only-of-type {\n",
       "        vertical-align: middle;\n",
       "    }\n",
       "\n",
       "    .dataframe tbody tr th {\n",
       "        vertical-align: top;\n",
       "    }\n",
       "\n",
       "    .dataframe thead th {\n",
       "        text-align: right;\n",
       "    }\n",
       "</style>\n",
       "<table border=\"1\" class=\"dataframe\">\n",
       "  <thead>\n",
       "    <tr style=\"text-align: right;\">\n",
       "      <th></th>\n",
       "      <th>Price</th>\n",
       "      <th>Year</th>\n",
       "      <th>Mileage</th>\n",
       "      <th>Doors</th>\n",
       "    </tr>\n",
       "  </thead>\n",
       "  <tbody>\n",
       "    <tr>\n",
       "      <th>count</th>\n",
       "      <td>257.000000</td>\n",
       "      <td>257.000000</td>\n",
       "      <td>257.000000</td>\n",
       "      <td>250.000000</td>\n",
       "    </tr>\n",
       "    <tr>\n",
       "      <th>mean</th>\n",
       "      <td>17643.521401</td>\n",
       "      <td>2013.727626</td>\n",
       "      <td>76692.151751</td>\n",
       "      <td>3.856000</td>\n",
       "    </tr>\n",
       "    <tr>\n",
       "      <th>std</th>\n",
       "      <td>4288.233627</td>\n",
       "      <td>2.492907</td>\n",
       "      <td>34508.143665</td>\n",
       "      <td>0.518013</td>\n",
       "    </tr>\n",
       "    <tr>\n",
       "      <th>min</th>\n",
       "      <td>5700.000000</td>\n",
       "      <td>2009.000000</td>\n",
       "      <td>13412.000000</td>\n",
       "      <td>2.000000</td>\n",
       "    </tr>\n",
       "    <tr>\n",
       "      <th>25%</th>\n",
       "      <td>14950.000000</td>\n",
       "      <td>2012.000000</td>\n",
       "      <td>50110.000000</td>\n",
       "      <td>4.000000</td>\n",
       "    </tr>\n",
       "    <tr>\n",
       "      <th>50%</th>\n",
       "      <td>17990.000000</td>\n",
       "      <td>2014.000000</td>\n",
       "      <td>71208.000000</td>\n",
       "      <td>4.000000</td>\n",
       "    </tr>\n",
       "    <tr>\n",
       "      <th>75%</th>\n",
       "      <td>20590.000000</td>\n",
       "      <td>2016.000000</td>\n",
       "      <td>97681.000000</td>\n",
       "      <td>4.000000</td>\n",
       "    </tr>\n",
       "    <tr>\n",
       "      <th>max</th>\n",
       "      <td>26590.000000</td>\n",
       "      <td>2017.000000</td>\n",
       "      <td>184465.000000</td>\n",
       "      <td>4.000000</td>\n",
       "    </tr>\n",
       "  </tbody>\n",
       "</table>\n",
       "</div>"
      ],
      "text/plain": [
       "              Price         Year        Mileage       Doors\n",
       "count    257.000000   257.000000     257.000000  250.000000\n",
       "mean   17643.521401  2013.727626   76692.151751    3.856000\n",
       "std     4288.233627     2.492907   34508.143665    0.518013\n",
       "min     5700.000000  2009.000000   13412.000000    2.000000\n",
       "25%    14950.000000  2012.000000   50110.000000    4.000000\n",
       "50%    17990.000000  2014.000000   71208.000000    4.000000\n",
       "75%    20590.000000  2016.000000   97681.000000    4.000000\n",
       "max    26590.000000  2017.000000  184465.000000    4.000000"
      ]
     },
     "execution_count": 4,
     "metadata": {},
     "output_type": "execute_result"
    }
   ],
   "source": [
    "df.describe()\n",
    "#Shows the statistics about the data\n",
    "\n",
    "#Next Steps: We have to predict price, so we plot price with various available parameters to see the impact on price"
   ]
  },
  {
   "cell_type": "code",
   "execution_count": 5,
   "id": "e251f0a6",
   "metadata": {},
   "outputs": [
    {
     "data": {
      "text/plain": [
       "Text(0.5, 1.0, 'Price vs Mileage')"
      ]
     },
     "execution_count": 5,
     "metadata": {},
     "output_type": "execute_result"
    },
    {
     "data": {
      "image/png": "[encoded data removed]",
      "text/plain": [
       "<Figure size 432x288 with 1 Axes>"
      ]
     },
     "metadata": {
      "needs_background": "light"
     },
     "output_type": "display_data"
    }
   ],
   "source": [
    "plt.scatter(df.Price,df.Mileage)\n",
    "plt.title(\"Price vs Mileage\")\n",
    "#Some data-points shows price high for low mileage "
   ]
  },
  {
   "cell_type": "code",
   "execution_count": 6,
   "id": "7fcef0c1",
   "metadata": {},
   "outputs": [
    {
     "data": {
      "text/plain": [
       "Text(0.5, 1.0, 'Price vs Year')"
      ]
     },
     "execution_count": 6,
     "metadata": {},
     "output_type": "execute_result"
    },
    {
     "data": {
      "image/png": "[encoded data removed]",
      "text/plain": [
       "<Figure size 432x288 with 1 Axes>"
      ]
     },
     "metadata": {
      "needs_background": "light"
     },
     "output_type": "display_data"
    }
   ],
   "source": [
    "plt.scatter(df.Price,df.Year)\n",
    "plt.title(\"Price vs Year\")"
   ]
  },
  {
   "cell_type": "code",
   "execution_count": 7,
   "id": "d50e2e79",
   "metadata": {},
   "outputs": [
    {
     "data": {
      "text/plain": [
       "Text(0.5, 1.0, 'Price vs Doors')"
      ]
     },
     "execution_count": 7,
     "metadata": {},
     "output_type": "execute_result"
    },
    {
     "data": {
      "image/png": "[encoded data removed]",
      "text/plain": [
       "<Figure size 432x288 with 1 Axes>"
      ]
     },
     "metadata": {
      "needs_background": "light"
     },
     "output_type": "display_data"
    }
   ],
   "source": [
    "plt.scatter(df.Doors,df.Price)\n",
    "plt.title(\"Price vs Doors\")"
   ]
  },
  {
   "cell_type": "code",
   "execution_count": 8,
   "id": "0ef1133e",
   "metadata": {},
   "outputs": [
    {
     "data": {
      "text/plain": [
       "Text(0.5, 1.0, 'Mileage vs Year')"
      ]
     },
     "execution_count": 8,
     "metadata": {},
     "output_type": "execute_result"
    },
    {
     "data": {
      "image/png": "[encoded data removed]",
      "text/plain": [
       "<Figure size 432x288 with 1 Axes>"
      ]
     },
     "metadata": {
      "needs_background": "light"
     },
     "output_type": "display_data"
    }
   ],
   "source": [
    "plt.scatter(df.Mileage,df.Year)\n",
    "plt.title(\"Mileage vs Year\")"
   ]
  },
  {
   "cell_type": "code",
   "execution_count": 9,
   "id": "2569ebe1",
   "metadata": {},
   "outputs": [
    {
     "data": {
      "text/plain": [
       "<function seaborn.utils.despine(fig=None, ax=None, top=True, right=True, left=False, bottom=False, offset=None, trim=False)>"
      ]
     },
     "execution_count": 9,
     "metadata": {},
     "output_type": "execute_result"
    },
    {
     "data": {
      "image/png": "[encoded data removed]",
      "text/plain": [
       "<Figure size 432x288 with 1 Axes>"
      ]
     },
     "metadata": {
      "needs_background": "light"
     },
     "output_type": "display_data"
    }
   ],
   "source": [
    "df['Year'].value_counts().plot(kind='bar')\n",
    "plt.title('number of car per year')\n",
    "plt.xlabel('Year')\n",
    "plt.ylabel('Count')\n",
    "sns.despine"
   ]
  },
  {
   "cell_type": "code",
   "execution_count": 10,
   "id": "6d7648d2",
   "metadata": {},
   "outputs": [
    {
     "data": {
      "text/plain": [
       "Text(0.5, 1.0, 'Price vs Location')"
      ]
     },
     "execution_count": 10,
     "metadata": {},
     "output_type": "execute_result"
    },
    {
     "data": {
      "image/png": "[encoded data removed]",
      "text/plain": [
       "<Figure size 432x288 with 1 Axes>"
      ]
     },
     "metadata": {
      "needs_background": "light"
     },
     "output_type": "display_data"
    }
   ],
   "source": [
    "plt.scatter(df.Location,df.Price)\n",
    "plt.title(\"Price vs Location\")"
   ]
  },
  {
   "cell_type": "code",
   "execution_count": 11,
   "id": "c332632c",
   "metadata": {},
   "outputs": [
    {
     "data": {
      "text/plain": [
       "<AxesSubplot:>"
      ]
     },
     "execution_count": 11,
     "metadata": {},
     "output_type": "execute_result"
    },
    {
     "data": {
      "image/png": "[encoded data removed]",
      "text/plain": [
       "<Figure size 432x288 with 1 Axes>"
      ]
     },
     "metadata": {
      "needs_background": "light"
     },
     "output_type": "display_data"
    }
   ],
   "source": [
    "df.Doors.value_counts().plot(kind='bar')"
   ]
  },
  {
   "cell_type": "code",
   "execution_count": 12,
   "id": "379d0413",
   "metadata": {},
   "outputs": [
    {
     "name": "stdout",
     "output_type": "stream",
     "text": [
      "            Price      Year   Mileage     Doors\n",
      "Price    1.000000  0.652334 -0.774662 -0.029982\n",
      "Year     0.652334  1.000000 -0.341406  0.005939\n",
      "Mileage -0.774662 -0.341406  1.000000  0.051665\n",
      "Doors   -0.029982  0.005939  0.051665  1.000000\n"
     ]
    }
   ],
   "source": [
    "corrMatrix = df.corr()\n",
    "print (corrMatrix)"
   ]
  },
  {
   "cell_type": "code",
   "execution_count": 13,
   "id": "50bf0063",
   "metadata": {},
   "outputs": [
    {
     "data": {
      "image/png": "[encoded data removed]",
      "text/plain": [
       "<Figure size 432x288 with 2 Axes>"
      ]
     },
     "metadata": {
      "needs_background": "light"
     },
     "output_type": "display_data"
    }
   ],
   "source": [
    "import seaborn as sn\n",
    "corrMatrix = df.corr()\n",
    "sn.heatmap(corrMatrix, annot=True)\n",
    "plt.show()\n",
    "#Helps me understand all the coorelation of different parameters with price"
   ]
  },
  {
   "cell_type": "code",
   "execution_count": 14,
   "id": "73791981",
   "metadata": {},
   "outputs": [],
   "source": [
    "#train1 = df.drop(['VIN#', 'Price'],axis=1)\n",
    "#train1.head()\n",
    "#We mark survived column as our label (output) and use data_train (variable) as our training input without the survived column"
   ]
  },
  {
   "cell_type": "code",
   "execution_count": 15,
   "id": "11e6d7fc",
   "metadata": {},
   "outputs": [],
   "source": [
    "labels = df['Price']\n",
    "df['Doors'] = df['Doors'].fillna(4)\n",
    "df1 = df.drop(['VIN#', 'Price','Dealer or Individual','Dealer Web','Web link','Car Make', 'Car Model','Description', 'Location', 'Transmission', 'Color','Engine'],axis=1)"
   ]
  },
  {
   "cell_type": "code",
   "execution_count": 16,
   "id": "0cca2c56",
   "metadata": {},
   "outputs": [],
   "source": [
    "x_train , x_test , y_train , y_test = train_test_split(df1 , labels , test_size = 0.10,random_state =2)\n",
    "#X_train, X_test, y_train, y_test = train_test_split(X, y, test_size=0.20)\n",
    "#x_train , x_test , y_train , y_test = train_test_split(train1 , labels , test_size = 0.10,random_state =2)"
   ]
  },
  {
   "cell_type": "code",
   "execution_count": 17,
   "id": "e7cefae7",
   "metadata": {},
   "outputs": [],
   "source": [
    "reg = LinearRegression()\n",
    "#initialize Linear Regression to a variable reg\n",
    "#Then we import sklearn , and define model (variable) to use the function logistic regression.\n",
    "#We then fit our model , here’s where our computer tries to recognize the pattern. This enables our computer to give predictions when a similar data is passed on to it .\n",
    "#we have a separate data called test ,where survived doesn’t exist. We use the function predict to predict the outcome based on the training dataset."
   ]
  },
  {
   "cell_type": "code",
   "execution_count": 18,
   "id": "3b15fa5b",
   "metadata": {},
   "outputs": [
    {
     "data": {
      "text/plain": [
       "LinearRegression()"
      ]
     },
     "execution_count": 18,
     "metadata": {},
     "output_type": "execute_result"
    }
   ],
   "source": [
    "reg.fit(x_train,y_train)"
   ]
  },
  {
   "cell_type": "code",
   "execution_count": 20,
   "id": "c7208237",
   "metadata": {},
   "outputs": [
    {
     "data": {
      "text/plain": [
       "0.7537884081659441"
      ]
     },
     "execution_count": 20,
     "metadata": {},
     "output_type": "execute_result"
    }
   ],
   "source": [
    "reg.score(x_test,y_test)"
   ]
  },
  {
   "cell_type": "code",
   "execution_count": 21,
   "id": "1bd8d75d",
   "metadata": {},
   "outputs": [],
   "source": [
    "y_pred = reg.predict(x_test)"
   ]
  },
  {
   "cell_type": "code",
   "execution_count": 24,
   "id": "343ab0b8",
   "metadata": {},
   "outputs": [
    {
     "data": {
      "text/html": [
       "<div>\n",
       "<style scoped>\n",
       "    .dataframe tbody tr th:only-of-type {\n",
       "        vertical-align: middle;\n",
       "    }\n",
       "\n",
       "    .dataframe tbody tr th {\n",
       "        vertical-align: top;\n",
       "    }\n",
       "\n",
       "    .dataframe thead th {\n",
       "        text-align: right;\n",
       "    }\n",
       "</style>\n",
       "<table border=\"1\" class=\"dataframe\">\n",
       "  <thead>\n",
       "    <tr style=\"text-align: right;\">\n",
       "      <th></th>\n",
       "      <th>Actual</th>\n",
       "      <th>Predicted</th>\n",
       "      <th>Difference</th>\n",
       "    </tr>\n",
       "  </thead>\n",
       "  <tbody>\n",
       "    <tr>\n",
       "      <th>53</th>\n",
       "      <td>18979</td>\n",
       "      <td>18784.90559</td>\n",
       "      <td>194.09441</td>\n",
       "    </tr>\n",
       "    <tr>\n",
       "      <th>206</th>\n",
       "      <td>19990</td>\n",
       "      <td>18204.36231</td>\n",
       "      <td>1785.63769</td>\n",
       "    </tr>\n",
       "    <tr>\n",
       "      <th>35</th>\n",
       "      <td>20990</td>\n",
       "      <td>21372.20535</td>\n",
       "      <td>-382.20535</td>\n",
       "    </tr>\n",
       "    <tr>\n",
       "      <th>10</th>\n",
       "      <td>14999</td>\n",
       "      <td>14830.37251</td>\n",
       "      <td>168.62749</td>\n",
       "    </tr>\n",
       "    <tr>\n",
       "      <th>188</th>\n",
       "      <td>22590</td>\n",
       "      <td>21228.77348</td>\n",
       "      <td>1361.22652</td>\n",
       "    </tr>\n",
       "    <tr>\n",
       "      <th>30</th>\n",
       "      <td>17590</td>\n",
       "      <td>17364.85880</td>\n",
       "      <td>225.14120</td>\n",
       "    </tr>\n",
       "    <tr>\n",
       "      <th>160</th>\n",
       "      <td>15590</td>\n",
       "      <td>14045.52250</td>\n",
       "      <td>1544.47750</td>\n",
       "    </tr>\n",
       "    <tr>\n",
       "      <th>126</th>\n",
       "      <td>16990</td>\n",
       "      <td>15762.67426</td>\n",
       "      <td>1227.32574</td>\n",
       "    </tr>\n",
       "    <tr>\n",
       "      <th>241</th>\n",
       "      <td>22590</td>\n",
       "      <td>21829.03189</td>\n",
       "      <td>760.96811</td>\n",
       "    </tr>\n",
       "    <tr>\n",
       "      <th>13</th>\n",
       "      <td>16999</td>\n",
       "      <td>18287.35000</td>\n",
       "      <td>-1288.35000</td>\n",
       "    </tr>\n",
       "    <tr>\n",
       "      <th>3</th>\n",
       "      <td>12410</td>\n",
       "      <td>13650.74804</td>\n",
       "      <td>-1240.74804</td>\n",
       "    </tr>\n",
       "    <tr>\n",
       "      <th>111</th>\n",
       "      <td>16999</td>\n",
       "      <td>21740.91061</td>\n",
       "      <td>-4741.91061</td>\n",
       "    </tr>\n",
       "    <tr>\n",
       "      <th>184</th>\n",
       "      <td>19590</td>\n",
       "      <td>20693.52772</td>\n",
       "      <td>-1103.52772</td>\n",
       "    </tr>\n",
       "    <tr>\n",
       "      <th>41</th>\n",
       "      <td>15000</td>\n",
       "      <td>17206.96104</td>\n",
       "      <td>-2206.96104</td>\n",
       "    </tr>\n",
       "    <tr>\n",
       "      <th>248</th>\n",
       "      <td>18990</td>\n",
       "      <td>20321.63914</td>\n",
       "      <td>-1331.63914</td>\n",
       "    </tr>\n",
       "    <tr>\n",
       "      <th>85</th>\n",
       "      <td>18295</td>\n",
       "      <td>19903.88110</td>\n",
       "      <td>-1608.88110</td>\n",
       "    </tr>\n",
       "    <tr>\n",
       "      <th>66</th>\n",
       "      <td>23450</td>\n",
       "      <td>23105.56135</td>\n",
       "      <td>344.43865</td>\n",
       "    </tr>\n",
       "    <tr>\n",
       "      <th>156</th>\n",
       "      <td>13900</td>\n",
       "      <td>15807.27251</td>\n",
       "      <td>-1907.27251</td>\n",
       "    </tr>\n",
       "    <tr>\n",
       "      <th>64</th>\n",
       "      <td>12950</td>\n",
       "      <td>13596.43692</td>\n",
       "      <td>-646.43692</td>\n",
       "    </tr>\n",
       "    <tr>\n",
       "      <th>141</th>\n",
       "      <td>25970</td>\n",
       "      <td>24122.39743</td>\n",
       "      <td>1847.60257</td>\n",
       "    </tr>\n",
       "    <tr>\n",
       "      <th>74</th>\n",
       "      <td>24990</td>\n",
       "      <td>22861.74779</td>\n",
       "      <td>2128.25221</td>\n",
       "    </tr>\n",
       "    <tr>\n",
       "      <th>230</th>\n",
       "      <td>18990</td>\n",
       "      <td>19127.52000</td>\n",
       "      <td>-137.52000</td>\n",
       "    </tr>\n",
       "    <tr>\n",
       "      <th>235</th>\n",
       "      <td>10487</td>\n",
       "      <td>16176.10282</td>\n",
       "      <td>-5689.10282</td>\n",
       "    </tr>\n",
       "    <tr>\n",
       "      <th>94</th>\n",
       "      <td>15990</td>\n",
       "      <td>13901.40076</td>\n",
       "      <td>2088.59924</td>\n",
       "    </tr>\n",
       "    <tr>\n",
       "      <th>165</th>\n",
       "      <td>13245</td>\n",
       "      <td>13728.31989</td>\n",
       "      <td>-483.31989</td>\n",
       "    </tr>\n",
       "    <tr>\n",
       "      <th>131</th>\n",
       "      <td>16590</td>\n",
       "      <td>17311.02421</td>\n",
       "      <td>-721.02421</td>\n",
       "    </tr>\n",
       "  </tbody>\n",
       "</table>\n",
       "</div>"
      ],
      "text/plain": [
       "     Actual   Predicted  Difference\n",
       "53    18979 18784.90559   194.09441\n",
       "206   19990 18204.36231  1785.63769\n",
       "35    20990 21372.20535  -382.20535\n",
       "10    14999 14830.37251   168.62749\n",
       "188   22590 21228.77348  1361.22652\n",
       "30    17590 17364.85880   225.14120\n",
       "160   15590 14045.52250  1544.47750\n",
       "126   16990 15762.67426  1227.32574\n",
       "241   22590 21829.03189   760.96811\n",
       "13    16999 18287.35000 -1288.35000\n",
       "3     12410 13650.74804 -1240.74804\n",
       "111   16999 21740.91061 -4741.91061\n",
       "184   19590 20693.52772 -1103.52772\n",
       "41    15000 17206.96104 -2206.96104\n",
       "248   18990 20321.63914 -1331.63914\n",
       "85    18295 19903.88110 -1608.88110\n",
       "66    23450 23105.56135   344.43865\n",
       "156   13900 15807.27251 -1907.27251\n",
       "64    12950 13596.43692  -646.43692\n",
       "141   25970 24122.39743  1847.60257\n",
       "74    24990 22861.74779  2128.25221\n",
       "230   18990 19127.52000  -137.52000\n",
       "235   10487 16176.10282 -5689.10282\n",
       "94    15990 13901.40076  2088.59924\n",
       "165   13245 13728.31989  -483.31989\n",
       "131   16590 17311.02421  -721.02421"
      ]
     },
     "execution_count": 24,
     "metadata": {},
     "output_type": "execute_result"
    }
   ],
   "source": [
    "pd.options.display.float_format = '{:.5f}'.format\n",
    "df2 = pd.DataFrame({'Actual': y_test, 'Predicted': y_pred})\n",
    "sum_column = df2['Actual'] - df2['Predicted']\n",
    "df2['Difference'] = sum_column\n",
    "df2"
   ]
  },
  {
   "cell_type": "code",
   "execution_count": 40,
   "id": "33a03b46",
   "metadata": {},
   "outputs": [
    {
     "name": "stdout",
     "output_type": "stream",
     "text": [
      "0.4412555906229979\n",
      "0.516226728878201\n",
      "0.6002913731179398\n",
      "0.6287411667379973\n",
      "0.6200887662177444\n",
      "0.6855806088259978\n",
      "0.7163258167251734\n",
      "0.7078654671655875\n",
      "0.6406827214374867\n",
      "0.6086529137228269\n",
      "0.7152919840097418\n",
      "0.714090847703239\n",
      "0.7049242780148233\n",
      "0.5830257475308527\n",
      "0.5845410800545963\n",
      "0.704590535607836\n",
      "0.6180246686811316\n",
      "0.6289206586686771\n",
      "0.5377692884698619\n",
      "0.5471393066262755\n",
      "0.6965707501174851\n",
      "0.5908873683828062\n",
      "0.6069306113167456\n",
      "0.528445100689452\n",
      "0.5740035578835441\n"
     ]
    }
   ],
   "source": [
    "#Tried Ensemble but could not immprove the score\n",
    "from sklearn import ensemble\n",
    "\n",
    "for n_est_loop in [10, 50, 100, 800, 1500]:\n",
    "    for max_depth_loop in [1, 2 ,3 ,4 ,5]:\n",
    "        clf = ensemble.GradientBoostingRegressor(n_estimators = n_est_loop, max_depth = max_depth_loop, min_samples_split = 2,\n",
    "                  learning_rate = 0.1, loss = 'ls')\n",
    "        clf.fit(x_train, y_train)\n",
    "        score = clf.score(x_test,y_test)\n",
    "        print (score)"
   ]
  }
 ],
 "metadata": {
  "kernelspec": {
   "display_name": "Python 3 (ipykernel)",
   "language": "python",
   "name": "python3"
  },
  "language_info": {
   "codemirror_mode": {
    "name": "ipython",
    "version": 3
   },
   "file_extension": ".py",
   "mimetype": "text/x-python",
   "name": "python",
   "nbconvert_exporter": "python",
   "pygments_lexer": "ipython3",
   "version": "3.9.7"
  }
 },
 "nbformat": 4,
 "nbformat_minor": 5
}
