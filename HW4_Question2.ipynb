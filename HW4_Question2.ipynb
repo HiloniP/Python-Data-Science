{
  "nbformat": 4,
  "nbformat_minor": 0,
  "metadata": {
    "colab": {
      "name": "HW4_Question2.ipynb",
      "provenance": [],
      "collapsed_sections": []
    },
    "kernelspec": {
      "name": "python3",
      "display_name": "Python 3"
    },
    "language_info": {
      "name": "python"
    }
  },
  "cells": [
    {
      "cell_type": "code",
      "execution_count": 1,
      "metadata": {
        "colab": {
          "resources": {
            "http://localhost:8080/nbextensions/google.colab/files.js": {
              "data": "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",
              "ok": true,
              "headers": [
                [
                  "content-type",
                  "application/javascript"
                ]
              ],
              "status": 200,
              "status_text": ""
            }
          },
          "base_uri": "https://localhost:8080/",
          "height": 74
        },
        "id": "81kZmG6Xkndw",
        "outputId": "3260a59c-87ab-4df5-c5a9-fb6171e3a620"
      },
      "outputs": [
        {
          "output_type": "display_data",
          "data": {
            "text/plain": [
              "<IPython.core.display.HTML object>"
            ],
            "text/html": [
              "\n",
              "     <input type=\"file\" id=\"files-f2c98bf5-e98c-4c70-b812-d663d3948aac\" name=\"files[]\" multiple disabled\n",
              "        style=\"border:none\" />\n",
              "     <output id=\"result-f2c98bf5-e98c-4c70-b812-d663d3948aac\">\n",
              "      Upload widget is only available when the cell has been executed in the\n",
              "      current browser session. Please rerun this cell to enable.\n",
              "      </output>\n",
              "      <script src=\"/nbextensions/google.colab/files.js\"></script> "
            ]
          },
          "metadata": {}
        },
        {
          "output_type": "stream",
          "name": "stdout",
          "text": [
            "Saving 2019-Dec.csv to 2019-Dec.csv\n"
          ]
        }
      ],
      "source": [
        "# Command to upload files\n",
        "# I am uploading one month's worth of website events data for a cosmetics company\n",
        "from google.colab import files\n",
        "uploaded = files.upload()"
      ]
    },
    {
      "cell_type": "code",
      "source": [
        "# Importing all libraries required for: data processing, linear regression, data visualization, matlab plotting, statistics, and date changes\n",
        "import pandas as pd\n",
        "import pandas as pd\n",
        "import numpy as np\n",
        "import os\n",
        "import seaborn as sns\n",
        "import matplotlib.pyplot as plt\n",
        "import datetime\n",
        "from IPython.display import display, Markdown, Latex\n",
        "import plotly.express as px\n",
        "import missingno as msno\n",
        "from plotly import graph_objects as go\n",
        "from plotly.subplots import make_subplots\n",
        "%matplotlib inline"
      ],
      "metadata": {
        "id": "Xk5qUhQpo2-Z"
      },
      "execution_count": 28,
      "outputs": []
    },
    {
      "cell_type": "code",
      "source": [
        "# Assigning csv to a dataframe\n",
        "import io\n",
        "Shopping_Dec = pd.read_csv(io.BytesIO(uploaded['2019-Dec.csv']))\n",
        "\n",
        "print(\"No of shopping events in Dec:\" , len(Shopping_Dec))\n",
        "print(\"Columns in events data:\" , Shopping_Dec.columns)"
      ],
      "metadata": {
        "colab": {
          "base_uri": "https://localhost:8080/"
        },
        "id": "O53JrESuqcvj",
        "outputId": "2e72ef1c-5417-41d0-fcd7-960b9ec43e15"
      },
      "execution_count": 67,
      "outputs": [
        {
          "output_type": "stream",
          "name": "stdout",
          "text": [
            "No of shopping events in Dec: 3533286\n",
            "Columns in events data: Index(['event_time', 'event_type', 'product_id', 'category_id',\n",
            "       'category_code', 'brand', 'price', 'user_id', 'user_session'],\n",
            "      dtype='object')\n"
          ]
        }
      ]
    },
    {
      "cell_type": "code",
      "source": [
        "# Checking the numerical columns \n",
        "Shopping_Dec.describe()"
      ],
      "metadata": {
        "colab": {
          "base_uri": "https://localhost:8080/",
          "height": 279
        },
        "id": "CkPYtgRKshI9",
        "outputId": "ad74ba16-c35e-408b-d046-3db2f70810d4"
      },
      "execution_count": 68,
      "outputs": [
        {
          "output_type": "execute_result",
          "data": {
            "text/plain": [
              "         product_id   category_id         price       user_id\n",
              "count  3.533286e+06  3.533286e+06  3.533286e+06  3.533286e+06\n",
              "mean   5.473054e+06  1.555023e+18  8.871856e+00  5.223318e+08\n",
              "std    1.331331e+06  1.689262e+17  1.986474e+01  8.494819e+07\n",
              "min    3.752000e+03  1.487580e+18 -7.937000e+01  1.180452e+06\n",
              "25%    5.726191e+06  1.487580e+18  2.060000e+00  4.866830e+08\n",
              "50%    5.811429e+06  1.487580e+18  4.210000e+00  5.566496e+08\n",
              "75%    5.859462e+06  1.487580e+18  7.140000e+00  5.828019e+08\n",
              "max    5.917178e+06  2.235524e+18  3.277800e+02  5.954145e+08"
            ],
            "text/html": [
              "\n",
              "  <div id=\"df-3e17a6ec-1816-4642-838b-66c08b8d23cd\">\n",
              "    <div class=\"colab-df-container\">\n",
              "      <div>\n",
              "<style scoped>\n",
              "    .dataframe tbody tr th:only-of-type {\n",
              "        vertical-align: middle;\n",
              "    }\n",
              "\n",
              "    .dataframe tbody tr th {\n",
              "        vertical-align: top;\n",
              "    }\n",
              "\n",
              "    .dataframe thead th {\n",
              "        text-align: right;\n",
              "    }\n",
              "</style>\n",
              "<table border=\"1\" class=\"dataframe\">\n",
              "  <thead>\n",
              "    <tr style=\"text-align: right;\">\n",
              "      <th></th>\n",
              "      <th>product_id</th>\n",
              "      <th>category_id</th>\n",
              "      <th>price</th>\n",
              "      <th>user_id</th>\n",
              "    </tr>\n",
              "  </thead>\n",
              "  <tbody>\n",
              "    <tr>\n",
              "      <th>count</th>\n",
              "      <td>3.533286e+06</td>\n",
              "      <td>3.533286e+06</td>\n",
              "      <td>3.533286e+06</td>\n",
              "      <td>3.533286e+06</td>\n",
              "    </tr>\n",
              "    <tr>\n",
              "      <th>mean</th>\n",
              "      <td>5.473054e+06</td>\n",
              "      <td>1.555023e+18</td>\n",
              "      <td>8.871856e+00</td>\n",
              "      <td>5.223318e+08</td>\n",
              "    </tr>\n",
              "    <tr>\n",
              "      <th>std</th>\n",
              "      <td>1.331331e+06</td>\n",
              "      <td>1.689262e+17</td>\n",
              "      <td>1.986474e+01</td>\n",
              "      <td>8.494819e+07</td>\n",
              "    </tr>\n",
              "    <tr>\n",
              "      <th>min</th>\n",
              "      <td>3.752000e+03</td>\n",
              "      <td>1.487580e+18</td>\n",
              "      <td>-7.937000e+01</td>\n",
              "      <td>1.180452e+06</td>\n",
              "    </tr>\n",
              "    <tr>\n",
              "      <th>25%</th>\n",
              "      <td>5.726191e+06</td>\n",
              "      <td>1.487580e+18</td>\n",
              "      <td>2.060000e+00</td>\n",
              "      <td>4.866830e+08</td>\n",
              "    </tr>\n",
              "    <tr>\n",
              "      <th>50%</th>\n",
              "      <td>5.811429e+06</td>\n",
              "      <td>1.487580e+18</td>\n",
              "      <td>4.210000e+00</td>\n",
              "      <td>5.566496e+08</td>\n",
              "    </tr>\n",
              "    <tr>\n",
              "      <th>75%</th>\n",
              "      <td>5.859462e+06</td>\n",
              "      <td>1.487580e+18</td>\n",
              "      <td>7.140000e+00</td>\n",
              "      <td>5.828019e+08</td>\n",
              "    </tr>\n",
              "    <tr>\n",
              "      <th>max</th>\n",
              "      <td>5.917178e+06</td>\n",
              "      <td>2.235524e+18</td>\n",
              "      <td>3.277800e+02</td>\n",
              "      <td>5.954145e+08</td>\n",
              "    </tr>\n",
              "  </tbody>\n",
              "</table>\n",
              "</div>\n",
              "      <button class=\"colab-df-convert\" onclick=\"convertToInteractive('df-3e17a6ec-1816-4642-838b-66c08b8d23cd')\"\n",
              "              title=\"Convert this dataframe to an interactive table.\"\n",
              "              style=\"display:none;\">\n",
              "        \n",
              "  <svg xmlns=\"http://www.w3.org/2000/svg\" height=\"24px\"viewBox=\"0 0 24 24\"\n",
              "       width=\"24px\">\n",
              "    <path d=\"M0 0h24v24H0V0z\" fill=\"none\"/>\n",
              "    <path d=\"M18.56 5.44l.94 2.06.94-2.06 2.06-.94-2.06-.94-.94-2.06-.94 2.06-2.06.94zm-11 1L8.5 8.5l.94-2.06 2.06-.94-2.06-.94L8.5 2.5l-.94 2.06-2.06.94zm10 10l.94 2.06.94-2.06 2.06-.94-2.06-.94-.94-2.06-.94 2.06-2.06.94z\"/><path d=\"M17.41 7.96l-1.37-1.37c-.4-.4-.92-.59-1.43-.59-.52 0-1.04.2-1.43.59L10.3 9.45l-7.72 7.72c-.78.78-.78 2.05 0 2.83L4 21.41c.39.39.9.59 1.41.59.51 0 1.02-.2 1.41-.59l7.78-7.78 2.81-2.81c.8-.78.8-2.07 0-2.86zM5.41 20L4 18.59l7.72-7.72 1.47 1.35L5.41 20z\"/>\n",
              "  </svg>\n",
              "      </button>\n",
              "      \n",
              "  <style>\n",
              "    .colab-df-container {\n",
              "      display:flex;\n",
              "      flex-wrap:wrap;\n",
              "      gap: 12px;\n",
              "    }\n",
              "\n",
              "    .colab-df-convert {\n",
              "      background-color: #E8F0FE;\n",
              "      border: none;\n",
              "      border-radius: 50%;\n",
              "      cursor: pointer;\n",
              "      display: none;\n",
              "      fill: #1967D2;\n",
              "      height: 32px;\n",
              "      padding: 0 0 0 0;\n",
              "      width: 32px;\n",
              "    }\n",
              "\n",
              "    .colab-df-convert:hover {\n",
              "      background-color: #E2EBFA;\n",
              "      box-shadow: 0px 1px 2px rgba(60, 64, 67, 0.3), 0px 1px 3px 1px rgba(60, 64, 67, 0.15);\n",
              "      fill: #174EA6;\n",
              "    }\n",
              "\n",
              "    [theme=dark] .colab-df-convert {\n",
              "      background-color: #3B4455;\n",
              "      fill: #D2E3FC;\n",
              "    }\n",
              "\n",
              "    [theme=dark] .colab-df-convert:hover {\n",
              "      background-color: #434B5C;\n",
              "      box-shadow: 0px 1px 3px 1px rgba(0, 0, 0, 0.15);\n",
              "      filter: drop-shadow(0px 1px 2px rgba(0, 0, 0, 0.3));\n",
              "      fill: #FFFFFF;\n",
              "    }\n",
              "  </style>\n",
              "\n",
              "      <script>\n",
              "        const buttonEl =\n",
              "          document.querySelector('#df-3e17a6ec-1816-4642-838b-66c08b8d23cd button.colab-df-convert');\n",
              "        buttonEl.style.display =\n",
              "          google.colab.kernel.accessAllowed ? 'block' : 'none';\n",
              "\n",
              "        async function convertToInteractive(key) {\n",
              "          const element = document.querySelector('#df-3e17a6ec-1816-4642-838b-66c08b8d23cd');\n",
              "          const dataTable =\n",
              "            await google.colab.kernel.invokeFunction('convertToInteractive',\n",
              "                                                     [key], {});\n",
              "          if (!dataTable) return;\n",
              "\n",
              "          const docLinkHtml = 'Like what you see? Visit the ' +\n",
              "            '<a target=\"_blank\" href=https://colab.research.google.com/notebooks/data_table.ipynb>data table notebook</a>'\n",
              "            + ' to learn more about interactive tables.';\n",
              "          element.innerHTML = '';\n",
              "          dataTable['output_type'] = 'display_data';\n",
              "          await google.colab.output.renderOutput(dataTable, element);\n",
              "          const docLink = document.createElement('div');\n",
              "          docLink.innerHTML = docLinkHtml;\n",
              "          element.appendChild(docLink);\n",
              "        }\n",
              "      </script>\n",
              "    </div>\n",
              "  </div>\n",
              "  "
            ]
          },
          "metadata": {},
          "execution_count": 68
        }
      ]
    },
    {
      "cell_type": "markdown",
      "source": [
        "\n",
        "*   All **ID columns** are **numerical**, so we may need to do a ***string conversion*** there to avoid issues down the line; we will decide this later if required during a step.\n",
        "*   The **price** column seems to have some **incorrect** values: Min is **-79.37** which cannot be true. We will do further analysis here and ***clean*** this data.\n",
        "\n"
      ],
      "metadata": {
        "id": "7z2hH7gTumfQ"
      }
    },
    {
      "cell_type": "code",
      "source": [
        "# Calculating volume of shopping data so that we can understand scale for cleaning activities\n",
        "\n",
        "Shopping_Dec[\"event_id\"]= Shopping_Dec[\"event_time\"].str.cat(Shopping_Dec[\"user_session\"], sep =\"-\")\n",
        "Shopping_Dec[\"event_id\"].head()\n",
        "print(\"No of unique events:\" , len(Shopping_Dec['event_id'].unique().tolist()))\n",
        "print(\"No of unique users:\" , len(Shopping_Dec['user_id'].unique().tolist()))\n",
        "print(\"No of unique sessions:\" , len(Shopping_Dec['user_session'].unique().tolist()))"
      ],
      "metadata": {
        "colab": {
          "base_uri": "https://localhost:8080/"
        },
        "id": "HB8GuwnPrKq8",
        "outputId": "6ba1b03b-8dcd-4eb6-b173-5b40bc32e139"
      },
      "execution_count": 69,
      "outputs": [
        {
          "output_type": "stream",
          "name": "stdout",
          "text": [
            "No of unique events: 3136227\n",
            "No of unique users: 370154\n",
            "No of unique sessions: 839813\n"
          ]
        }
      ]
    },
    {
      "cell_type": "code",
      "source": [
        "# Now that we know the scale, we will check for volume of data with < 0 price and then decide on the appropriate action for cleaning\n",
        "\n",
        "# We are grouping price < and > 0, to check the extent of the negative prices in the data, based on the min value shown in the describe table\n",
        "Shopping_Dec.loc[Shopping_Dec.price < 0, 'price_lvl'] = 0\n",
        "Shopping_Dec.loc[Shopping_Dec.price > 0, 'price_lvl'] = 1\n",
        " \n",
        "# Now, performing counts based on this grouping to understand scale of issue\n",
        "Shopping_Dec.groupby('price_lvl').count()"
      ],
      "metadata": {
        "colab": {
          "base_uri": "https://localhost:8080/",
          "height": 143
        },
        "id": "ThehzGOx967R",
        "outputId": "22a70241-df69-4446-cd42-d3fa9f4a2535"
      },
      "execution_count": 70,
      "outputs": [
        {
          "output_type": "execute_result",
          "data": {
            "text/plain": [
              "           event_time  event_type  product_id  category_id  category_code  \\\n",
              "price_lvl                                                                   \n",
              "0.0                18          18          18           18              0   \n",
              "1.0           3525679     3525679     3525679      3525679          58346   \n",
              "\n",
              "             brand    price  user_id  user_session  event_id  \n",
              "price_lvl                                                     \n",
              "0.0              0       18       18            18        18  \n",
              "1.0        2022988  3525679  3525679       3524900   3524900  "
            ],
            "text/html": [
              "\n",
              "  <div id=\"df-99a1febe-63d7-4b74-acca-882a02f54fa2\">\n",
              "    <div class=\"colab-df-container\">\n",
              "      <div>\n",
              "<style scoped>\n",
              "    .dataframe tbody tr th:only-of-type {\n",
              "        vertical-align: middle;\n",
              "    }\n",
              "\n",
              "    .dataframe tbody tr th {\n",
              "        vertical-align: top;\n",
              "    }\n",
              "\n",
              "    .dataframe thead th {\n",
              "        text-align: right;\n",
              "    }\n",
              "</style>\n",
              "<table border=\"1\" class=\"dataframe\">\n",
              "  <thead>\n",
              "    <tr style=\"text-align: right;\">\n",
              "      <th></th>\n",
              "      <th>event_time</th>\n",
              "      <th>event_type</th>\n",
              "      <th>product_id</th>\n",
              "      <th>category_id</th>\n",
              "      <th>category_code</th>\n",
              "      <th>brand</th>\n",
              "      <th>price</th>\n",
              "      <th>user_id</th>\n",
              "      <th>user_session</th>\n",
              "      <th>event_id</th>\n",
              "    </tr>\n",
              "    <tr>\n",
              "      <th>price_lvl</th>\n",
              "      <th></th>\n",
              "      <th></th>\n",
              "      <th></th>\n",
              "      <th></th>\n",
              "      <th></th>\n",
              "      <th></th>\n",
              "      <th></th>\n",
              "      <th></th>\n",
              "      <th></th>\n",
              "      <th></th>\n",
              "    </tr>\n",
              "  </thead>\n",
              "  <tbody>\n",
              "    <tr>\n",
              "      <th>0.0</th>\n",
              "      <td>18</td>\n",
              "      <td>18</td>\n",
              "      <td>18</td>\n",
              "      <td>18</td>\n",
              "      <td>0</td>\n",
              "      <td>0</td>\n",
              "      <td>18</td>\n",
              "      <td>18</td>\n",
              "      <td>18</td>\n",
              "      <td>18</td>\n",
              "    </tr>\n",
              "    <tr>\n",
              "      <th>1.0</th>\n",
              "      <td>3525679</td>\n",
              "      <td>3525679</td>\n",
              "      <td>3525679</td>\n",
              "      <td>3525679</td>\n",
              "      <td>58346</td>\n",
              "      <td>2022988</td>\n",
              "      <td>3525679</td>\n",
              "      <td>3525679</td>\n",
              "      <td>3524900</td>\n",
              "      <td>3524900</td>\n",
              "    </tr>\n",
              "  </tbody>\n",
              "</table>\n",
              "</div>\n",
              "      <button class=\"colab-df-convert\" onclick=\"convertToInteractive('df-99a1febe-63d7-4b74-acca-882a02f54fa2')\"\n",
              "              title=\"Convert this dataframe to an interactive table.\"\n",
              "              style=\"display:none;\">\n",
              "        \n",
              "  <svg xmlns=\"http://www.w3.org/2000/svg\" height=\"24px\"viewBox=\"0 0 24 24\"\n",
              "       width=\"24px\">\n",
              "    <path d=\"M0 0h24v24H0V0z\" fill=\"none\"/>\n",
              "    <path d=\"M18.56 5.44l.94 2.06.94-2.06 2.06-.94-2.06-.94-.94-2.06-.94 2.06-2.06.94zm-11 1L8.5 8.5l.94-2.06 2.06-.94-2.06-.94L8.5 2.5l-.94 2.06-2.06.94zm10 10l.94 2.06.94-2.06 2.06-.94-2.06-.94-.94-2.06-.94 2.06-2.06.94z\"/><path d=\"M17.41 7.96l-1.37-1.37c-.4-.4-.92-.59-1.43-.59-.52 0-1.04.2-1.43.59L10.3 9.45l-7.72 7.72c-.78.78-.78 2.05 0 2.83L4 21.41c.39.39.9.59 1.41.59.51 0 1.02-.2 1.41-.59l7.78-7.78 2.81-2.81c.8-.78.8-2.07 0-2.86zM5.41 20L4 18.59l7.72-7.72 1.47 1.35L5.41 20z\"/>\n",
              "  </svg>\n",
              "      </button>\n",
              "      \n",
              "  <style>\n",
              "    .colab-df-container {\n",
              "      display:flex;\n",
              "      flex-wrap:wrap;\n",
              "      gap: 12px;\n",
              "    }\n",
              "\n",
              "    .colab-df-convert {\n",
              "      background-color: #E8F0FE;\n",
              "      border: none;\n",
              "      border-radius: 50%;\n",
              "      cursor: pointer;\n",
              "      display: none;\n",
              "      fill: #1967D2;\n",
              "      height: 32px;\n",
              "      padding: 0 0 0 0;\n",
              "      width: 32px;\n",
              "    }\n",
              "\n",
              "    .colab-df-convert:hover {\n",
              "      background-color: #E2EBFA;\n",
              "      box-shadow: 0px 1px 2px rgba(60, 64, 67, 0.3), 0px 1px 3px 1px rgba(60, 64, 67, 0.15);\n",
              "      fill: #174EA6;\n",
              "    }\n",
              "\n",
              "    [theme=dark] .colab-df-convert {\n",
              "      background-color: #3B4455;\n",
              "      fill: #D2E3FC;\n",
              "    }\n",
              "\n",
              "    [theme=dark] .colab-df-convert:hover {\n",
              "      background-color: #434B5C;\n",
              "      box-shadow: 0px 1px 3px 1px rgba(0, 0, 0, 0.15);\n",
              "      filter: drop-shadow(0px 1px 2px rgba(0, 0, 0, 0.3));\n",
              "      fill: #FFFFFF;\n",
              "    }\n",
              "  </style>\n",
              "\n",
              "      <script>\n",
              "        const buttonEl =\n",
              "          document.querySelector('#df-99a1febe-63d7-4b74-acca-882a02f54fa2 button.colab-df-convert');\n",
              "        buttonEl.style.display =\n",
              "          google.colab.kernel.accessAllowed ? 'block' : 'none';\n",
              "\n",
              "        async function convertToInteractive(key) {\n",
              "          const element = document.querySelector('#df-99a1febe-63d7-4b74-acca-882a02f54fa2');\n",
              "          const dataTable =\n",
              "            await google.colab.kernel.invokeFunction('convertToInteractive',\n",
              "                                                     [key], {});\n",
              "          if (!dataTable) return;\n",
              "\n",
              "          const docLinkHtml = 'Like what you see? Visit the ' +\n",
              "            '<a target=\"_blank\" href=https://colab.research.google.com/notebooks/data_table.ipynb>data table notebook</a>'\n",
              "            + ' to learn more about interactive tables.';\n",
              "          element.innerHTML = '';\n",
              "          dataTable['output_type'] = 'display_data';\n",
              "          await google.colab.output.renderOutput(dataTable, element);\n",
              "          const docLink = document.createElement('div');\n",
              "          docLink.innerHTML = docLinkHtml;\n",
              "          element.appendChild(docLink);\n",
              "        }\n",
              "      </script>\n",
              "    </div>\n",
              "  </div>\n",
              "  "
            ]
          },
          "metadata": {},
          "execution_count": 70
        }
      ]
    },
    {
      "cell_type": "markdown",
      "source": [
        "Since this is only **18 events**, we can ***drop*** these records"
      ],
      "metadata": {
        "id": "Nw1AsRGX_XhP"
      }
    },
    {
      "cell_type": "code",
      "source": [
        "# Deleting records with prices less than 0 (Though these might be 'returns', since the event name doesn't explicitly mention this, we're deleting)\n",
        "# Then dropping the column previously created for the price analysis\n",
        "Shopping_Dec = Shopping_Dec[Shopping_Dec['price_lvl'] > 0]\n",
        "Shopping_Dec.drop([\"price_lvl\"],axis=1,inplace=True)\n",
        "len(Shopping_Dec)\n",
        "Shopping_Dec.columns"
      ],
      "metadata": {
        "colab": {
          "base_uri": "https://localhost:8080/"
        },
        "id": "iYTtBVBe_d8S",
        "outputId": "b29f4f29-1806-4b35-b192-d62149e0b757"
      },
      "execution_count": 71,
      "outputs": [
        {
          "output_type": "execute_result",
          "data": {
            "text/plain": [
              "Index(['event_time', 'event_type', 'product_id', 'category_id',\n",
              "       'category_code', 'brand', 'price', 'user_id', 'user_session',\n",
              "       'event_id'],\n",
              "      dtype='object')"
            ]
          },
          "metadata": {},
          "execution_count": 71
        }
      ]
    },
    {
      "cell_type": "code",
      "source": [
        "# Check for nulls\n",
        "Shopping_Dec.isna().sum()"
      ],
      "metadata": {
        "colab": {
          "base_uri": "https://localhost:8080/"
        },
        "id": "CdtJrSfLymMa",
        "outputId": "206a35f7-34da-476a-ea7f-fb6125d810fc"
      },
      "execution_count": 149,
      "outputs": [
        {
          "output_type": "execute_result",
          "data": {
            "text/plain": [
              "event_time             0\n",
              "event_type             0\n",
              "product_id             0\n",
              "category_id            0\n",
              "category_code    3467333\n",
              "brand            1502691\n",
              "price                  0\n",
              "user_id                0\n",
              "user_session         779\n",
              "event_id             779\n",
              "event_time_2           0\n",
              "day                    0\n",
              "date                   0\n",
              "time                   0\n",
              "hours                  0\n",
              "weekday                0\n",
              "weeknum                0\n",
              "event_type_id          0\n",
              "dtype: int64"
            ]
          },
          "metadata": {},
          "execution_count": 149
        }
      ]
    },
    {
      "cell_type": "code",
      "source": [
        "# Of the above, I am not going to look at category or brand data.\n",
        "# User session is important though, so I will clean values here\n",
        "Shopping_Dec = Shopping_Dec.loc[Shopping_Dec['user_session'].notnull()]\n",
        "len(Shopping_Dec)"
      ],
      "metadata": {
        "colab": {
          "base_uri": "https://localhost:8080/"
        },
        "id": "oIWn8ZOHy2rg",
        "outputId": "c649ea06-e398-4827-9f17-aacb9581fd7e"
      },
      "execution_count": 152,
      "outputs": [
        {
          "output_type": "execute_result",
          "data": {
            "text/plain": [
              "3524900"
            ]
          },
          "metadata": {},
          "execution_count": 152
        }
      ]
    },
    {
      "cell_type": "code",
      "source": [
        "# Checking data type of all columns in order to perform data type transformations if required\n",
        "Shopping_Dec.info()"
      ],
      "metadata": {
        "colab": {
          "base_uri": "https://localhost:8080/"
        },
        "id": "_vbheL7CtVZg",
        "outputId": "b157f58a-42f0-4e5a-d06c-892a090d3394"
      },
      "execution_count": 72,
      "outputs": [
        {
          "output_type": "stream",
          "name": "stdout",
          "text": [
            "<class 'pandas.core.frame.DataFrame'>\n",
            "Int64Index: 3525679 entries, 0 to 3533285\n",
            "Data columns (total 10 columns):\n",
            " #   Column         Dtype  \n",
            "---  ------         -----  \n",
            " 0   event_time     object \n",
            " 1   event_type     object \n",
            " 2   product_id     int64  \n",
            " 3   category_id    int64  \n",
            " 4   category_code  object \n",
            " 5   brand          object \n",
            " 6   price          float64\n",
            " 7   user_id        int64  \n",
            " 8   user_session   object \n",
            " 9   event_id       object \n",
            "dtypes: float64(1), int64(3), object(6)\n",
            "memory usage: 295.9+ MB\n"
          ]
        }
      ]
    },
    {
      "cell_type": "code",
      "source": [
        "# Event_time is of data type object, which may cause issues with the analysis later\n",
        "# So, we will create a second event_time column that takes event_time and converts it to pandas type\n",
        "\n",
        "Shopping_Dec[\"event_time_2\"] = pd.to_datetime(Shopping_Dec['event_time'])\n",
        "\n",
        "# Now that this is converted, we will calculate certain time based attributes that could help with visualizations and analysis better \n",
        "Shopping_Dec['day'] = Shopping_Dec[\"event_time_2\"].dt.day\n",
        "Shopping_Dec[\"date\"]=Shopping_Dec['event_time_2'].dt.date\n",
        "Shopping_Dec[\"time\"]=Shopping_Dec['event_time_2'].dt.time\n",
        "Shopping_Dec[\"hours\"]=Shopping_Dec['event_time_2'].dt.hour\n",
        "Shopping_Dec[\"weekday\"]=Shopping_Dec['event_time_2'].dt.weekday\n",
        "Shopping_Dec['weeknum']=Shopping_Dec['event_time_2'].dt.isocalendar().week\n",
        "Shopping_Dec.head()"
      ],
      "metadata": {
        "colab": {
          "base_uri": "https://localhost:8080/",
          "height": 628
        },
        "id": "helonTh9udmj",
        "outputId": "c48b2991-4092-47da-c8b5-d3c97af84050"
      },
      "execution_count": 73,
      "outputs": [
        {
          "output_type": "execute_result",
          "data": {
            "text/plain": [
              "                event_time        event_type  product_id          category_id  \\\n",
              "0  2019-12-01 00:00:00 UTC  remove_from_cart     5712790  1487580005268456287   \n",
              "1  2019-12-01 00:00:00 UTC              view     5764655  1487580005411062629   \n",
              "2  2019-12-01 00:00:02 UTC              cart        4958  1487580009471148064   \n",
              "3  2019-12-01 00:00:05 UTC              view     5848413  1487580007675986893   \n",
              "4  2019-12-01 00:00:07 UTC              view     5824148  1487580005511725929   \n",
              "\n",
              "  category_code      brand  price    user_id  \\\n",
              "0           NaN      f.o.x   6.27  576802932   \n",
              "1           NaN        cnd  29.05  412120092   \n",
              "2           NaN     runail   1.19  494077766   \n",
              "3           NaN  freedecor   0.79  348405118   \n",
              "4           NaN        NaN   5.56  576005683   \n",
              "\n",
              "                           user_session  \\\n",
              "0  51d85cb0-897f-48d2-918b-ad63965c12dc   \n",
              "1  8adff31e-2051-4894-9758-224bfa8aec18   \n",
              "2  c99a50e8-2fac-4c4d-89ec-41c05f114554   \n",
              "3  722ffea5-73c0-4924-8e8f-371ff8031af4   \n",
              "4  28172809-7e4a-45ce-bab0-5efa90117cd5   \n",
              "\n",
              "                                            event_id  \\\n",
              "0  2019-12-01 00:00:00 UTC-51d85cb0-897f-48d2-918...   \n",
              "1  2019-12-01 00:00:00 UTC-8adff31e-2051-4894-975...   \n",
              "2  2019-12-01 00:00:02 UTC-c99a50e8-2fac-4c4d-89e...   \n",
              "3  2019-12-01 00:00:05 UTC-722ffea5-73c0-4924-8e8...   \n",
              "4  2019-12-01 00:00:07 UTC-28172809-7e4a-45ce-bab...   \n",
              "\n",
              "               event_time_2  day        date      time  hours  weekday  \\\n",
              "0 2019-12-01 00:00:00+00:00    1  2019-12-01  00:00:00      0        6   \n",
              "1 2019-12-01 00:00:00+00:00    1  2019-12-01  00:00:00      0        6   \n",
              "2 2019-12-01 00:00:02+00:00    1  2019-12-01  00:00:02      0        6   \n",
              "3 2019-12-01 00:00:05+00:00    1  2019-12-01  00:00:05      0        6   \n",
              "4 2019-12-01 00:00:07+00:00    1  2019-12-01  00:00:07      0        6   \n",
              "\n",
              "   weeknum  \n",
              "0       48  \n",
              "1       48  \n",
              "2       48  \n",
              "3       48  \n",
              "4       48  "
            ],
            "text/html": [
              "\n",
              "  <div id=\"df-6291c8da-e3ce-40a1-8291-3ec6b69b5088\">\n",
              "    <div class=\"colab-df-container\">\n",
              "      <div>\n",
              "<style scoped>\n",
              "    .dataframe tbody tr th:only-of-type {\n",
              "        vertical-align: middle;\n",
              "    }\n",
              "\n",
              "    .dataframe tbody tr th {\n",
              "        vertical-align: top;\n",
              "    }\n",
              "\n",
              "    .dataframe thead th {\n",
              "        text-align: right;\n",
              "    }\n",
              "</style>\n",
              "<table border=\"1\" class=\"dataframe\">\n",
              "  <thead>\n",
              "    <tr style=\"text-align: right;\">\n",
              "      <th></th>\n",
              "      <th>event_time</th>\n",
              "      <th>event_type</th>\n",
              "      <th>product_id</th>\n",
              "      <th>category_id</th>\n",
              "      <th>category_code</th>\n",
              "      <th>brand</th>\n",
              "      <th>price</th>\n",
              "      <th>user_id</th>\n",
              "      <th>user_session</th>\n",
              "      <th>event_id</th>\n",
              "      <th>event_time_2</th>\n",
              "      <th>day</th>\n",
              "      <th>date</th>\n",
              "      <th>time</th>\n",
              "      <th>hours</th>\n",
              "      <th>weekday</th>\n",
              "      <th>weeknum</th>\n",
              "    </tr>\n",
              "  </thead>\n",
              "  <tbody>\n",
              "    <tr>\n",
              "      <th>0</th>\n",
              "      <td>2019-12-01 00:00:00 UTC</td>\n",
              "      <td>remove_from_cart</td>\n",
              "      <td>5712790</td>\n",
              "      <td>1487580005268456287</td>\n",
              "      <td>NaN</td>\n",
              "      <td>f.o.x</td>\n",
              "      <td>6.27</td>\n",
              "      <td>576802932</td>\n",
              "      <td>51d85cb0-897f-48d2-918b-ad63965c12dc</td>\n",
              "      <td>2019-12-01 00:00:00 UTC-51d85cb0-897f-48d2-918...</td>\n",
              "      <td>2019-12-01 00:00:00+00:00</td>\n",
              "      <td>1</td>\n",
              "      <td>2019-12-01</td>\n",
              "      <td>00:00:00</td>\n",
              "      <td>0</td>\n",
              "      <td>6</td>\n",
              "      <td>48</td>\n",
              "    </tr>\n",
              "    <tr>\n",
              "      <th>1</th>\n",
              "      <td>2019-12-01 00:00:00 UTC</td>\n",
              "      <td>view</td>\n",
              "      <td>5764655</td>\n",
              "      <td>1487580005411062629</td>\n",
              "      <td>NaN</td>\n",
              "      <td>cnd</td>\n",
              "      <td>29.05</td>\n",
              "      <td>412120092</td>\n",
              "      <td>8adff31e-2051-4894-9758-224bfa8aec18</td>\n",
              "      <td>2019-12-01 00:00:00 UTC-8adff31e-2051-4894-975...</td>\n",
              "      <td>2019-12-01 00:00:00+00:00</td>\n",
              "      <td>1</td>\n",
              "      <td>2019-12-01</td>\n",
              "      <td>00:00:00</td>\n",
              "      <td>0</td>\n",
              "      <td>6</td>\n",
              "      <td>48</td>\n",
              "    </tr>\n",
              "    <tr>\n",
              "      <th>2</th>\n",
              "      <td>2019-12-01 00:00:02 UTC</td>\n",
              "      <td>cart</td>\n",
              "      <td>4958</td>\n",
              "      <td>1487580009471148064</td>\n",
              "      <td>NaN</td>\n",
              "      <td>runail</td>\n",
              "      <td>1.19</td>\n",
              "      <td>494077766</td>\n",
              "      <td>c99a50e8-2fac-4c4d-89ec-41c05f114554</td>\n",
              "      <td>2019-12-01 00:00:02 UTC-c99a50e8-2fac-4c4d-89e...</td>\n",
              "      <td>2019-12-01 00:00:02+00:00</td>\n",
              "      <td>1</td>\n",
              "      <td>2019-12-01</td>\n",
              "      <td>00:00:02</td>\n",
              "      <td>0</td>\n",
              "      <td>6</td>\n",
              "      <td>48</td>\n",
              "    </tr>\n",
              "    <tr>\n",
              "      <th>3</th>\n",
              "      <td>2019-12-01 00:00:05 UTC</td>\n",
              "      <td>view</td>\n",
              "      <td>5848413</td>\n",
              "      <td>1487580007675986893</td>\n",
              "      <td>NaN</td>\n",
              "      <td>freedecor</td>\n",
              "      <td>0.79</td>\n",
              "      <td>348405118</td>\n",
              "      <td>722ffea5-73c0-4924-8e8f-371ff8031af4</td>\n",
              "      <td>2019-12-01 00:00:05 UTC-722ffea5-73c0-4924-8e8...</td>\n",
              "      <td>2019-12-01 00:00:05+00:00</td>\n",
              "      <td>1</td>\n",
              "      <td>2019-12-01</td>\n",
              "      <td>00:00:05</td>\n",
              "      <td>0</td>\n",
              "      <td>6</td>\n",
              "      <td>48</td>\n",
              "    </tr>\n",
              "    <tr>\n",
              "      <th>4</th>\n",
              "      <td>2019-12-01 00:00:07 UTC</td>\n",
              "      <td>view</td>\n",
              "      <td>5824148</td>\n",
              "      <td>1487580005511725929</td>\n",
              "      <td>NaN</td>\n",
              "      <td>NaN</td>\n",
              "      <td>5.56</td>\n",
              "      <td>576005683</td>\n",
              "      <td>28172809-7e4a-45ce-bab0-5efa90117cd5</td>\n",
              "      <td>2019-12-01 00:00:07 UTC-28172809-7e4a-45ce-bab...</td>\n",
              "      <td>2019-12-01 00:00:07+00:00</td>\n",
              "      <td>1</td>\n",
              "      <td>2019-12-01</td>\n",
              "      <td>00:00:07</td>\n",
              "      <td>0</td>\n",
              "      <td>6</td>\n",
              "      <td>48</td>\n",
              "    </tr>\n",
              "  </tbody>\n",
              "</table>\n",
              "</div>\n",
              "      <button class=\"colab-df-convert\" onclick=\"convertToInteractive('df-6291c8da-e3ce-40a1-8291-3ec6b69b5088')\"\n",
              "              title=\"Convert this dataframe to an interactive table.\"\n",
              "              style=\"display:none;\">\n",
              "        \n",
              "  <svg xmlns=\"http://www.w3.org/2000/svg\" height=\"24px\"viewBox=\"0 0 24 24\"\n",
              "       width=\"24px\">\n",
              "    <path d=\"M0 0h24v24H0V0z\" fill=\"none\"/>\n",
              "    <path d=\"M18.56 5.44l.94 2.06.94-2.06 2.06-.94-2.06-.94-.94-2.06-.94 2.06-2.06.94zm-11 1L8.5 8.5l.94-2.06 2.06-.94-2.06-.94L8.5 2.5l-.94 2.06-2.06.94zm10 10l.94 2.06.94-2.06 2.06-.94-2.06-.94-.94-2.06-.94 2.06-2.06.94z\"/><path d=\"M17.41 7.96l-1.37-1.37c-.4-.4-.92-.59-1.43-.59-.52 0-1.04.2-1.43.59L10.3 9.45l-7.72 7.72c-.78.78-.78 2.05 0 2.83L4 21.41c.39.39.9.59 1.41.59.51 0 1.02-.2 1.41-.59l7.78-7.78 2.81-2.81c.8-.78.8-2.07 0-2.86zM5.41 20L4 18.59l7.72-7.72 1.47 1.35L5.41 20z\"/>\n",
              "  </svg>\n",
              "      </button>\n",
              "      \n",
              "  <style>\n",
              "    .colab-df-container {\n",
              "      display:flex;\n",
              "      flex-wrap:wrap;\n",
              "      gap: 12px;\n",
              "    }\n",
              "\n",
              "    .colab-df-convert {\n",
              "      background-color: #E8F0FE;\n",
              "      border: none;\n",
              "      border-radius: 50%;\n",
              "      cursor: pointer;\n",
              "      display: none;\n",
              "      fill: #1967D2;\n",
              "      height: 32px;\n",
              "      padding: 0 0 0 0;\n",
              "      width: 32px;\n",
              "    }\n",
              "\n",
              "    .colab-df-convert:hover {\n",
              "      background-color: #E2EBFA;\n",
              "      box-shadow: 0px 1px 2px rgba(60, 64, 67, 0.3), 0px 1px 3px 1px rgba(60, 64, 67, 0.15);\n",
              "      fill: #174EA6;\n",
              "    }\n",
              "\n",
              "    [theme=dark] .colab-df-convert {\n",
              "      background-color: #3B4455;\n",
              "      fill: #D2E3FC;\n",
              "    }\n",
              "\n",
              "    [theme=dark] .colab-df-convert:hover {\n",
              "      background-color: #434B5C;\n",
              "      box-shadow: 0px 1px 3px 1px rgba(0, 0, 0, 0.15);\n",
              "      filter: drop-shadow(0px 1px 2px rgba(0, 0, 0, 0.3));\n",
              "      fill: #FFFFFF;\n",
              "    }\n",
              "  </style>\n",
              "\n",
              "      <script>\n",
              "        const buttonEl =\n",
              "          document.querySelector('#df-6291c8da-e3ce-40a1-8291-3ec6b69b5088 button.colab-df-convert');\n",
              "        buttonEl.style.display =\n",
              "          google.colab.kernel.accessAllowed ? 'block' : 'none';\n",
              "\n",
              "        async function convertToInteractive(key) {\n",
              "          const element = document.querySelector('#df-6291c8da-e3ce-40a1-8291-3ec6b69b5088');\n",
              "          const dataTable =\n",
              "            await google.colab.kernel.invokeFunction('convertToInteractive',\n",
              "                                                     [key], {});\n",
              "          if (!dataTable) return;\n",
              "\n",
              "          const docLinkHtml = 'Like what you see? Visit the ' +\n",
              "            '<a target=\"_blank\" href=https://colab.research.google.com/notebooks/data_table.ipynb>data table notebook</a>'\n",
              "            + ' to learn more about interactive tables.';\n",
              "          element.innerHTML = '';\n",
              "          dataTable['output_type'] = 'display_data';\n",
              "          await google.colab.output.renderOutput(dataTable, element);\n",
              "          const docLink = document.createElement('div');\n",
              "          docLink.innerHTML = docLinkHtml;\n",
              "          element.appendChild(docLink);\n",
              "        }\n",
              "      </script>\n",
              "    </div>\n",
              "  </div>\n",
              "  "
            ]
          },
          "metadata": {},
          "execution_count": 73
        }
      ]
    },
    {
      "cell_type": "markdown",
      "source": [
        "We will perform EDA based on the basis of time and events on the site, to guide us toward a marketing use case."
      ],
      "metadata": {
        "id": "dotzDnGetxgh"
      }
    },
    {
      "cell_type": "code",
      "source": [
        "# Starting by understanding the distribution of events to inform further analysis\n",
        "Shopping_Dec['event_type'].hist()"
      ],
      "metadata": {
        "colab": {
          "base_uri": "https://localhost:8080/",
          "height": 298
        },
        "id": "KbJyPMOhqrrU",
        "outputId": "ef1ac5ed-7032-4c00-b6e4-88283e7131e1"
      },
      "execution_count": 76,
      "outputs": [
        {
          "output_type": "execute_result",
          "data": {
            "text/plain": [
              "<matplotlib.axes._subplots.AxesSubplot at 0x7efbffaba790>"
            ]
          },
          "metadata": {},
          "execution_count": 76
        },
        {
          "output_type": "display_data",
          "data": {
            "text/plain": [
              "<Figure size 432x288 with 1 Axes>"
            ],
            "image/png": "[encoded data removed]"
          },
          "metadata": {}
        }
      ]
    },
    {
      "cell_type": "code",
      "source": [
        "# Checking total sales revenue across all days of the month\n",
        "Sale_per_day = Shopping_Dec[Shopping_Dec.event_type == \"purchase\"].groupby(['day'])['price'].agg(Sales_Daily = ('sum')).sort_values(by=['day'], ascending=True).plot.line()\n",
        "Sale_per_day.set_ylabel = \"Total Sales Daily\""
      ],
      "metadata": {
        "colab": {
          "base_uri": "https://localhost:8080/",
          "height": 285
        },
        "id": "A3vkACrsO7eb",
        "outputId": "f33047c8-82ab-4f87-ee4d-4ad10102dabf"
      },
      "execution_count": 74,
      "outputs": [
        {
          "output_type": "display_data",
          "data": {
            "text/plain": [
              "<Figure size 432x288 with 1 Axes>"
            ],
            "image/png": "[encoded data removed]"
          },
          "metadata": {}
        }
      ]
    },
    {
      "cell_type": "markdown",
      "source": [
        "It is surprising to observe the downward trend toward the end of the month, so we will be checking visitor count to see how they work together."
      ],
      "metadata": {
        "id": "aat0i6RovO2i"
      }
    },
    {
      "cell_type": "code",
      "source": [
        "# Checking unique visitors across all days of the month\n",
        "Visitors_per_day = Shopping_Dec.groupby(['day'])['user_id'].agg(Users_Daily =('nunique')).sort_values(by=['day'], ascending=True).plot.line()\n",
        "Visitors_per_day.set_ylabel = \"Visitors Daily\""
      ],
      "metadata": {
        "colab": {
          "base_uri": "https://localhost:8080/",
          "height": 285
        },
        "id": "GyJqSAl9YYFF",
        "outputId": "ab27089f-5b68-44f7-a5ff-1c1de447b573"
      },
      "execution_count": 75,
      "outputs": [
        {
          "output_type": "display_data",
          "data": {
            "text/plain": [
              "<Figure size 432x288 with 1 Axes>"
            ],
            "image/png": "[encoded data removed]"
          },
          "metadata": {}
        }
      ]
    },
    {
      "cell_type": "code",
      "source": [
        "# Giving order to the events for \n",
        "event_order = {'view':1, 'cart':2, 'purchase':4, 'remove_from_cart':3}\n",
        "Shopping_Dec['event_type_id'] = Shopping_Dec['event_type'].map(event_order)\n",
        "Shopping_Dec.head()"
      ],
      "metadata": {
        "colab": {
          "base_uri": "https://localhost:8080/",
          "height": 628
        },
        "id": "dH5I1iLBkniP",
        "outputId": "357aa8d8-0cd2-475b-bc5d-5232c7e9d7e2"
      },
      "execution_count": 77,
      "outputs": [
        {
          "output_type": "execute_result",
          "data": {
            "text/plain": [
              "                event_time        event_type  product_id          category_id  \\\n",
              "0  2019-12-01 00:00:00 UTC  remove_from_cart     5712790  1487580005268456287   \n",
              "1  2019-12-01 00:00:00 UTC              view     5764655  1487580005411062629   \n",
              "2  2019-12-01 00:00:02 UTC              cart        4958  1487580009471148064   \n",
              "3  2019-12-01 00:00:05 UTC              view     5848413  1487580007675986893   \n",
              "4  2019-12-01 00:00:07 UTC              view     5824148  1487580005511725929   \n",
              "\n",
              "  category_code      brand  price    user_id  \\\n",
              "0           NaN      f.o.x   6.27  576802932   \n",
              "1           NaN        cnd  29.05  412120092   \n",
              "2           NaN     runail   1.19  494077766   \n",
              "3           NaN  freedecor   0.79  348405118   \n",
              "4           NaN        NaN   5.56  576005683   \n",
              "\n",
              "                           user_session  \\\n",
              "0  51d85cb0-897f-48d2-918b-ad63965c12dc   \n",
              "1  8adff31e-2051-4894-9758-224bfa8aec18   \n",
              "2  c99a50e8-2fac-4c4d-89ec-41c05f114554   \n",
              "3  722ffea5-73c0-4924-8e8f-371ff8031af4   \n",
              "4  28172809-7e4a-45ce-bab0-5efa90117cd5   \n",
              "\n",
              "                                            event_id  \\\n",
              "0  2019-12-01 00:00:00 UTC-51d85cb0-897f-48d2-918...   \n",
              "1  2019-12-01 00:00:00 UTC-8adff31e-2051-4894-975...   \n",
              "2  2019-12-01 00:00:02 UTC-c99a50e8-2fac-4c4d-89e...   \n",
              "3  2019-12-01 00:00:05 UTC-722ffea5-73c0-4924-8e8...   \n",
              "4  2019-12-01 00:00:07 UTC-28172809-7e4a-45ce-bab...   \n",
              "\n",
              "               event_time_2  day        date      time  hours  weekday  \\\n",
              "0 2019-12-01 00:00:00+00:00    1  2019-12-01  00:00:00      0        6   \n",
              "1 2019-12-01 00:00:00+00:00    1  2019-12-01  00:00:00      0        6   \n",
              "2 2019-12-01 00:00:02+00:00    1  2019-12-01  00:00:02      0        6   \n",
              "3 2019-12-01 00:00:05+00:00    1  2019-12-01  00:00:05      0        6   \n",
              "4 2019-12-01 00:00:07+00:00    1  2019-12-01  00:00:07      0        6   \n",
              "\n",
              "   weeknum  event_type_id  \n",
              "0       48              3  \n",
              "1       48              1  \n",
              "2       48              2  \n",
              "3       48              1  \n",
              "4       48              1  "
            ],
            "text/html": [
              "\n",
              "  <div id=\"df-bccf98c3-3364-41a2-a895-dc94c0731cee\">\n",
              "    <div class=\"colab-df-container\">\n",
              "      <div>\n",
              "<style scoped>\n",
              "    .dataframe tbody tr th:only-of-type {\n",
              "        vertical-align: middle;\n",
              "    }\n",
              "\n",
              "    .dataframe tbody tr th {\n",
              "        vertical-align: top;\n",
              "    }\n",
              "\n",
              "    .dataframe thead th {\n",
              "        text-align: right;\n",
              "    }\n",
              "</style>\n",
              "<table border=\"1\" class=\"dataframe\">\n",
              "  <thead>\n",
              "    <tr style=\"text-align: right;\">\n",
              "      <th></th>\n",
              "      <th>event_time</th>\n",
              "      <th>event_type</th>\n",
              "      <th>product_id</th>\n",
              "      <th>category_id</th>\n",
              "      <th>category_code</th>\n",
              "      <th>brand</th>\n",
              "      <th>price</th>\n",
              "      <th>user_id</th>\n",
              "      <th>user_session</th>\n",
              "      <th>event_id</th>\n",
              "      <th>event_time_2</th>\n",
              "      <th>day</th>\n",
              "      <th>date</th>\n",
              "      <th>time</th>\n",
              "      <th>hours</th>\n",
              "      <th>weekday</th>\n",
              "      <th>weeknum</th>\n",
              "      <th>event_type_id</th>\n",
              "    </tr>\n",
              "  </thead>\n",
              "  <tbody>\n",
              "    <tr>\n",
              "      <th>0</th>\n",
              "      <td>2019-12-01 00:00:00 UTC</td>\n",
              "      <td>remove_from_cart</td>\n",
              "      <td>5712790</td>\n",
              "      <td>1487580005268456287</td>\n",
              "      <td>NaN</td>\n",
              "      <td>f.o.x</td>\n",
              "      <td>6.27</td>\n",
              "      <td>576802932</td>\n",
              "      <td>51d85cb0-897f-48d2-918b-ad63965c12dc</td>\n",
              "      <td>2019-12-01 00:00:00 UTC-51d85cb0-897f-48d2-918...</td>\n",
              "      <td>2019-12-01 00:00:00+00:00</td>\n",
              "      <td>1</td>\n",
              "      <td>2019-12-01</td>\n",
              "      <td>00:00:00</td>\n",
              "      <td>0</td>\n",
              "      <td>6</td>\n",
              "      <td>48</td>\n",
              "      <td>3</td>\n",
              "    </tr>\n",
              "    <tr>\n",
              "      <th>1</th>\n",
              "      <td>2019-12-01 00:00:00 UTC</td>\n",
              "      <td>view</td>\n",
              "      <td>5764655</td>\n",
              "      <td>1487580005411062629</td>\n",
              "      <td>NaN</td>\n",
              "      <td>cnd</td>\n",
              "      <td>29.05</td>\n",
              "      <td>412120092</td>\n",
              "      <td>8adff31e-2051-4894-9758-224bfa8aec18</td>\n",
              "      <td>2019-12-01 00:00:00 UTC-8adff31e-2051-4894-975...</td>\n",
              "      <td>2019-12-01 00:00:00+00:00</td>\n",
              "      <td>1</td>\n",
              "      <td>2019-12-01</td>\n",
              "      <td>00:00:00</td>\n",
              "      <td>0</td>\n",
              "      <td>6</td>\n",
              "      <td>48</td>\n",
              "      <td>1</td>\n",
              "    </tr>\n",
              "    <tr>\n",
              "      <th>2</th>\n",
              "      <td>2019-12-01 00:00:02 UTC</td>\n",
              "      <td>cart</td>\n",
              "      <td>4958</td>\n",
              "      <td>1487580009471148064</td>\n",
              "      <td>NaN</td>\n",
              "      <td>runail</td>\n",
              "      <td>1.19</td>\n",
              "      <td>494077766</td>\n",
              "      <td>c99a50e8-2fac-4c4d-89ec-41c05f114554</td>\n",
              "      <td>2019-12-01 00:00:02 UTC-c99a50e8-2fac-4c4d-89e...</td>\n",
              "      <td>2019-12-01 00:00:02+00:00</td>\n",
              "      <td>1</td>\n",
              "      <td>2019-12-01</td>\n",
              "      <td>00:00:02</td>\n",
              "      <td>0</td>\n",
              "      <td>6</td>\n",
              "      <td>48</td>\n",
              "      <td>2</td>\n",
              "    </tr>\n",
              "    <tr>\n",
              "      <th>3</th>\n",
              "      <td>2019-12-01 00:00:05 UTC</td>\n",
              "      <td>view</td>\n",
              "      <td>5848413</td>\n",
              "      <td>1487580007675986893</td>\n",
              "      <td>NaN</td>\n",
              "      <td>freedecor</td>\n",
              "      <td>0.79</td>\n",
              "      <td>348405118</td>\n",
              "      <td>722ffea5-73c0-4924-8e8f-371ff8031af4</td>\n",
              "      <td>2019-12-01 00:00:05 UTC-722ffea5-73c0-4924-8e8...</td>\n",
              "      <td>2019-12-01 00:00:05+00:00</td>\n",
              "      <td>1</td>\n",
              "      <td>2019-12-01</td>\n",
              "      <td>00:00:05</td>\n",
              "      <td>0</td>\n",
              "      <td>6</td>\n",
              "      <td>48</td>\n",
              "      <td>1</td>\n",
              "    </tr>\n",
              "    <tr>\n",
              "      <th>4</th>\n",
              "      <td>2019-12-01 00:00:07 UTC</td>\n",
              "      <td>view</td>\n",
              "      <td>5824148</td>\n",
              "      <td>1487580005511725929</td>\n",
              "      <td>NaN</td>\n",
              "      <td>NaN</td>\n",
              "      <td>5.56</td>\n",
              "      <td>576005683</td>\n",
              "      <td>28172809-7e4a-45ce-bab0-5efa90117cd5</td>\n",
              "      <td>2019-12-01 00:00:07 UTC-28172809-7e4a-45ce-bab...</td>\n",
              "      <td>2019-12-01 00:00:07+00:00</td>\n",
              "      <td>1</td>\n",
              "      <td>2019-12-01</td>\n",
              "      <td>00:00:07</td>\n",
              "      <td>0</td>\n",
              "      <td>6</td>\n",
              "      <td>48</td>\n",
              "      <td>1</td>\n",
              "    </tr>\n",
              "  </tbody>\n",
              "</table>\n",
              "</div>\n",
              "      <button class=\"colab-df-convert\" onclick=\"convertToInteractive('df-bccf98c3-3364-41a2-a895-dc94c0731cee')\"\n",
              "              title=\"Convert this dataframe to an interactive table.\"\n",
              "              style=\"display:none;\">\n",
              "        \n",
              "  <svg xmlns=\"http://www.w3.org/2000/svg\" height=\"24px\"viewBox=\"0 0 24 24\"\n",
              "       width=\"24px\">\n",
              "    <path d=\"M0 0h24v24H0V0z\" fill=\"none\"/>\n",
              "    <path d=\"M18.56 5.44l.94 2.06.94-2.06 2.06-.94-2.06-.94-.94-2.06-.94 2.06-2.06.94zm-11 1L8.5 8.5l.94-2.06 2.06-.94-2.06-.94L8.5 2.5l-.94 2.06-2.06.94zm10 10l.94 2.06.94-2.06 2.06-.94-2.06-.94-.94-2.06-.94 2.06-2.06.94z\"/><path d=\"M17.41 7.96l-1.37-1.37c-.4-.4-.92-.59-1.43-.59-.52 0-1.04.2-1.43.59L10.3 9.45l-7.72 7.72c-.78.78-.78 2.05 0 2.83L4 21.41c.39.39.9.59 1.41.59.51 0 1.02-.2 1.41-.59l7.78-7.78 2.81-2.81c.8-.78.8-2.07 0-2.86zM5.41 20L4 18.59l7.72-7.72 1.47 1.35L5.41 20z\"/>\n",
              "  </svg>\n",
              "      </button>\n",
              "      \n",
              "  <style>\n",
              "    .colab-df-container {\n",
              "      display:flex;\n",
              "      flex-wrap:wrap;\n",
              "      gap: 12px;\n",
              "    }\n",
              "\n",
              "    .colab-df-convert {\n",
              "      background-color: #E8F0FE;\n",
              "      border: none;\n",
              "      border-radius: 50%;\n",
              "      cursor: pointer;\n",
              "      display: none;\n",
              "      fill: #1967D2;\n",
              "      height: 32px;\n",
              "      padding: 0 0 0 0;\n",
              "      width: 32px;\n",
              "    }\n",
              "\n",
              "    .colab-df-convert:hover {\n",
              "      background-color: #E2EBFA;\n",
              "      box-shadow: 0px 1px 2px rgba(60, 64, 67, 0.3), 0px 1px 3px 1px rgba(60, 64, 67, 0.15);\n",
              "      fill: #174EA6;\n",
              "    }\n",
              "\n",
              "    [theme=dark] .colab-df-convert {\n",
              "      background-color: #3B4455;\n",
              "      fill: #D2E3FC;\n",
              "    }\n",
              "\n",
              "    [theme=dark] .colab-df-convert:hover {\n",
              "      background-color: #434B5C;\n",
              "      box-shadow: 0px 1px 3px 1px rgba(0, 0, 0, 0.15);\n",
              "      filter: drop-shadow(0px 1px 2px rgba(0, 0, 0, 0.3));\n",
              "      fill: #FFFFFF;\n",
              "    }\n",
              "  </style>\n",
              "\n",
              "      <script>\n",
              "        const buttonEl =\n",
              "          document.querySelector('#df-bccf98c3-3364-41a2-a895-dc94c0731cee button.colab-df-convert');\n",
              "        buttonEl.style.display =\n",
              "          google.colab.kernel.accessAllowed ? 'block' : 'none';\n",
              "\n",
              "        async function convertToInteractive(key) {\n",
              "          const element = document.querySelector('#df-bccf98c3-3364-41a2-a895-dc94c0731cee');\n",
              "          const dataTable =\n",
              "            await google.colab.kernel.invokeFunction('convertToInteractive',\n",
              "                                                     [key], {});\n",
              "          if (!dataTable) return;\n",
              "\n",
              "          const docLinkHtml = 'Like what you see? Visit the ' +\n",
              "            '<a target=\"_blank\" href=https://colab.research.google.com/notebooks/data_table.ipynb>data table notebook</a>'\n",
              "            + ' to learn more about interactive tables.';\n",
              "          element.innerHTML = '';\n",
              "          dataTable['output_type'] = 'display_data';\n",
              "          await google.colab.output.renderOutput(dataTable, element);\n",
              "          const docLink = document.createElement('div');\n",
              "          docLink.innerHTML = docLinkHtml;\n",
              "          element.appendChild(docLink);\n",
              "        }\n",
              "      </script>\n",
              "    </div>\n",
              "  </div>\n",
              "  "
            ]
          },
          "metadata": {},
          "execution_count": 77
        }
      ]
    },
    {
      "cell_type": "code",
      "source": [
        "# With the ordering in place, now we can check out the distribution of prices across to see if that could've been a deciding factor\n",
        "plt.figure(figsize=(5,10))\n",
        "plt.scatter(Shopping_Dec['event_type_id'], Shopping_Dec['price'], s=1)\n",
        "plt.xticks(np.arange(min(Shopping_Dec['event_type_id']), max(Shopping_Dec['event_type_id'])+1, 1.0))"
      ],
      "metadata": {
        "colab": {
          "base_uri": "https://localhost:8080/",
          "height": 683
        },
        "id": "bF7wEQdmnl8N",
        "outputId": "b3abedef-aafa-43e9-d8dd-123e157fb224"
      },
      "execution_count": 80,
      "outputs": [
        {
          "output_type": "execute_result",
          "data": {
            "text/plain": [
              "([<matplotlib.axis.XTick at 0x7efc327306d0>,\n",
              "  <matplotlib.axis.XTick at 0x7efc327304d0>,\n",
              "  <matplotlib.axis.XTick at 0x7efc7c5ee110>,\n",
              "  <matplotlib.axis.XTick at 0x7efc9e04d3d0>],\n",
              " <a list of 4 Text major ticklabel objects>)"
            ]
          },
          "metadata": {},
          "execution_count": 80
        },
        {
          "output_type": "display_data",
          "data": {
            "text/plain": [
              "<Figure size 360x720 with 1 Axes>"
            ],
            "image/png": "[encoded data removed]"
          },
          "metadata": {}
        }
      ]
    },
    {
      "cell_type": "markdown",
      "source": [
        "From the above, we can see that from 1 > 2 > 4 (view > cart > purchase), the **high ticket value items are decreasing**. Similarly from 2 > 3 (cart > remove from cart), seems like some high price items may be removed."
      ],
      "metadata": {
        "id": "NufOAC5cxjR_"
      }
    },
    {
      "cell_type": "code",
      "source": [
        "# Now that we see patterns in price-to-event, visitors and purchase amount, \n",
        "# we want to have a collective view of purchase volume, purchase orders, and average order value across the days\n",
        "\n",
        "# In here, we are calculating day-wise: total order value, number of orders, then using these to derive average order value\n",
        "Sales_per_day_detailed = Shopping_Dec[Shopping_Dec['event_type']=='purchase'].groupby(['date'],as_index=False)['price'].sum()\n",
        "Sales_per_day_detailed.columns=['date','total_order_value']\n",
        "Sales_per_day_combined = Shopping_Dec[Shopping_Dec['event_type']=='purchase'].groupby(['date'],as_index=False)['price'].count()\n",
        "Sales_per_day_combined.columns=['date','total_orders']\n",
        "Sales_per_day_combined['avg_order_val'] = Sales_per_day_detailed['total_order_value']/Sales_per_day_combined['total_orders']\n",
        "\n",
        "\n",
        "# Now, visualization this as a time series graph\n",
        "fig = make_subplots(\n",
        "    rows=2, cols=1,\n",
        "    column_widths=[1.0],\n",
        "    row_heights=[0.5, 0.5],\n",
        "    specs=[[{\"type\": \"Bar\"}],\n",
        "           [{\"type\": \"Scatter\"}]])\n",
        "\n",
        "fig.add_trace(go.Bar(x=Sales_per_day_detailed['date'], y=Sales_per_day_detailed[\"total_order_value\"],name='Total Order Value'),\n",
        "             row=1,col=1)\n",
        "fig.add_trace(go.Scatter(x=Sales_per_day_combined['date'], y=Sales_per_day_combined['total_orders'],\n",
        "                    mode='lines+markers',\n",
        "                    name='No of Orders'),\n",
        "              row=1,col=1)\n",
        "fig.add_trace(go.Scatter(x=Sales_per_day_combined['date'], y=Sales_per_day_combined['avg_order_val'],\n",
        "                    mode='lines+markers',\n",
        "                    name='Average Order Value'),\n",
        "              row=2,col=1)\n",
        "fig.update_layout(template='simple_white',     \n",
        "                title={'xanchor': 'center',\n",
        "                         'yanchor': 'top',        \n",
        "                         'y':0.9,\n",
        "                         'x':0.5,\n",
        "                         'text':\"Sales Performance - Daily\"}\n",
        "                 )\n",
        "fig.update_yaxes(title_text='Sales/No of Orders',ticks=\"inside\", row=1)\n",
        "fig.update_yaxes(title_text='Avg Order Val',ticks=\"inside\", row=2)\n",
        "fig.update_xaxes(title_text='Date',ticks=\"inside\")\n",
        "fig.show()\n"
      ],
      "metadata": {
        "colab": {
          "base_uri": "https://localhost:8080/",
          "height": 542
        },
        "id": "gIeoDP2kynwN",
        "outputId": "9f3dca6f-6a47-4e22-c5bc-11bc50f35f25"
      },
      "execution_count": 84,
      "outputs": [
        {
          "output_type": "display_data",
          "data": {
            "text/html": [
              "<html>\n",
              "<head><meta charset=\"utf-8\" /></head>\n",
              "<body>\n",
              "    <div>            <script src=\"https://cdnjs.cloudflare.com/ajax/libs/mathjax/2.7.5/MathJax.js?config=TeX-AMS-MML_SVG\"></script><script type=\"text/javascript\">if (window.MathJax) {MathJax.Hub.Config({SVG: {font: \"STIX-Web\"}});}</script>                <script type=\"text/javascript\">window.PlotlyConfig = {MathJaxConfig: 'local'};</script>\n",
              "        <script src=\"https://cdn.plot.ly/plotly-2.8.3.min.js\"></script>                <div id=\"369c28b4-622d-4911-a566-a9110f959c25\" class=\"plotly-graph-div\" style=\"height:525px; width:100%;\"></div>            <script type=\"text/javascript\">                                    window.PLOTLYENV=window.PLOTLYENV || {};                                    if (document.getElementById(\"369c28b4-622d-4911-a566-a9110f959c25\")) {                    Plotly.newPlot(                        \"369c28b4-622d-4911-a566-a9110f959c25\",                        [{\"name\":\"Total Order Value\",\"x\":[\"2019-12-01\",\"2019-12-02\",\"2019-12-03\",\"2019-12-04\",\"2019-12-05\",\"2019-12-06\",\"2019-12-07\",\"2019-12-08\",\"2019-12-09\",\"2019-12-10\",\"2019-12-11\",\"2019-12-12\",\"2019-12-13\",\"2019-12-14\",\"2019-12-15\",\"2019-12-16\",\"2019-12-17\",\"2019-12-18\",\"2019-12-19\",\"2019-12-20\",\"2019-12-21\",\"2019-12-22\",\"2019-12-23\",\"2019-12-24\",\"2019-12-25\",\"2019-12-26\",\"2019-12-27\",\"2019-12-28\",\"2019-12-29\",\"2019-12-30\",\"2019-12-31\"],\"y\":[32701.1,43304.28,38703.91,41233.5,37379.7,36532.41,27908.62,32062.38,45978.2,47542.27,45395.76,44951.44,37926.76,30544.5,35424.67,47316.07,43754.57,42605.93,37653.8,34917.71,28779.7,33216.86,36717.56,36863.4,33763.98,31428.06,24575.93,26363.85,21391.92,14237.95,6987.74],\"type\":\"bar\",\"xaxis\":\"x\",\"yaxis\":\"y\"},{\"mode\":\"lines+markers\",\"name\":\"No of Orders\",\"x\":[\"2019-12-01\",\"2019-12-02\",\"2019-12-03\",\"2019-12-04\",\"2019-12-05\",\"2019-12-06\",\"2019-12-07\",\"2019-12-08\",\"2019-12-09\",\"2019-12-10\",\"2019-12-11\",\"2019-12-12\",\"2019-12-13\",\"2019-12-14\",\"2019-12-15\",\"2019-12-16\",\"2019-12-17\",\"2019-12-18\",\"2019-12-19\",\"2019-12-20\",\"2019-12-21\",\"2019-12-22\",\"2019-12-23\",\"2019-12-24\",\"2019-12-25\",\"2019-12-26\",\"2019-12-27\",\"2019-12-28\",\"2019-12-29\",\"2019-12-30\",\"2019-12-31\"],\"y\":[7236,9079,8217,8371,7767,7382,6023,6594,9294,9794,9390,9396,7794,6038,7019,9226,8422,7818,7143,6307,5603,6085,6939,6901,6669,5914,4704,4783,3491,2633,1126],\"type\":\"scatter\",\"xaxis\":\"x\",\"yaxis\":\"y\"},{\"mode\":\"lines+markers\",\"name\":\"Average Order Value\",\"x\":[\"2019-12-01\",\"2019-12-02\",\"2019-12-03\",\"2019-12-04\",\"2019-12-05\",\"2019-12-06\",\"2019-12-07\",\"2019-12-08\",\"2019-12-09\",\"2019-12-10\",\"2019-12-11\",\"2019-12-12\",\"2019-12-13\",\"2019-12-14\",\"2019-12-15\",\"2019-12-16\",\"2019-12-17\",\"2019-12-18\",\"2019-12-19\",\"2019-12-20\",\"2019-12-21\",\"2019-12-22\",\"2019-12-23\",\"2019-12-24\",\"2019-12-25\",\"2019-12-26\",\"2019-12-27\",\"2019-12-28\",\"2019-12-29\",\"2019-12-30\",\"2019-12-31\"],\"y\":[4.519223327805417,4.769719132063003,4.710223926007059,4.925755584756899,4.812630359212051,4.948849905174749,4.633674248713266,4.86235668789809,4.947084140305573,4.854224014702879,4.834479233226837,4.784103873988932,4.866148319219913,5.058711493872143,5.046968229092463,5.128557337957945,5.195270719544051,5.449722435405475,5.271426571468571,5.5363421595053115,5.136480456898091,5.458810188989318,5.2914771580919435,5.341747572815534,5.062825011246065,5.3141799120730475,5.224474914965986,5.51199038260506,6.127734173589229,5.407500949487277,6.205808170515097],\"type\":\"scatter\",\"xaxis\":\"x2\",\"yaxis\":\"y2\"}],                        {\"template\":{\"data\":{\"barpolar\":[{\"marker\":{\"line\":{\"color\":\"white\",\"width\":0.5},\"pattern\":{\"fillmode\":\"overlay\",\"size\":10,\"solidity\":0.2}},\"type\":\"barpolar\"}],\"bar\":[{\"error_x\":{\"color\":\"rgb(36,36,36)\"},\"error_y\":{\"color\":\"rgb(36,36,36)\"},\"marker\":{\"line\":{\"color\":\"white\",\"width\":0.5},\"pattern\":{\"fillmode\":\"overlay\",\"size\":10,\"solidity\":0.2}},\"type\":\"bar\"}],\"carpet\":[{\"aaxis\":{\"endlinecolor\":\"rgb(36,36,36)\",\"gridcolor\":\"white\",\"linecolor\":\"white\",\"minorgridcolor\":\"white\",\"startlinecolor\":\"rgb(36,36,36)\"},\"baxis\":{\"endlinecolor\":\"rgb(36,36,36)\",\"gridcolor\":\"white\",\"linecolor\":\"white\",\"minorgridcolor\":\"white\",\"startlinecolor\":\"rgb(36,36,36)\"},\"type\":\"carpet\"}],\"choropleth\":[{\"colorbar\":{\"outlinewidth\":1,\"tickcolor\":\"rgb(36,36,36)\",\"ticks\":\"outside\"},\"type\":\"choropleth\"}],\"contourcarpet\":[{\"colorbar\":{\"outlinewidth\":1,\"tickcolor\":\"rgb(36,36,36)\",\"ticks\":\"outside\"},\"type\":\"contourcarpet\"}],\"contour\":[{\"colorbar\":{\"outlinewidth\":1,\"tickcolor\":\"rgb(36,36,36)\",\"ticks\":\"outside\"},\"colorscale\":[[0.0,\"#440154\"],[0.1111111111111111,\"#482878\"],[0.2222222222222222,\"#3e4989\"],[0.3333333333333333,\"#31688e\"],[0.4444444444444444,\"#26828e\"],[0.5555555555555556,\"#1f9e89\"],[0.6666666666666666,\"#35b779\"],[0.7777777777777778,\"#6ece58\"],[0.8888888888888888,\"#b5de2b\"],[1.0,\"#fde725\"]],\"type\":\"contour\"}],\"heatmapgl\":[{\"colorbar\":{\"outlinewidth\":1,\"tickcolor\":\"rgb(36,36,36)\",\"ticks\":\"outside\"},\"colorscale\":[[0.0,\"#440154\"],[0.1111111111111111,\"#482878\"],[0.2222222222222222,\"#3e4989\"],[0.3333333333333333,\"#31688e\"],[0.4444444444444444,\"#26828e\"],[0.5555555555555556,\"#1f9e89\"],[0.6666666666666666,\"#35b779\"],[0.7777777777777778,\"#6ece58\"],[0.8888888888888888,\"#b5de2b\"],[1.0,\"#fde725\"]],\"type\":\"heatmapgl\"}],\"heatmap\":[{\"colorbar\":{\"outlinewidth\":1,\"tickcolor\":\"rgb(36,36,36)\",\"ticks\":\"outside\"},\"colorscale\":[[0.0,\"#440154\"],[0.1111111111111111,\"#482878\"],[0.2222222222222222,\"#3e4989\"],[0.3333333333333333,\"#31688e\"],[0.4444444444444444,\"#26828e\"],[0.5555555555555556,\"#1f9e89\"],[0.6666666666666666,\"#35b779\"],[0.7777777777777778,\"#6ece58\"],[0.8888888888888888,\"#b5de2b\"],[1.0,\"#fde725\"]],\"type\":\"heatmap\"}],\"histogram2dcontour\":[{\"colorbar\":{\"outlinewidth\":1,\"tickcolor\":\"rgb(36,36,36)\",\"ticks\":\"outside\"},\"colorscale\":[[0.0,\"#440154\"],[0.1111111111111111,\"#482878\"],[0.2222222222222222,\"#3e4989\"],[0.3333333333333333,\"#31688e\"],[0.4444444444444444,\"#26828e\"],[0.5555555555555556,\"#1f9e89\"],[0.6666666666666666,\"#35b779\"],[0.7777777777777778,\"#6ece58\"],[0.8888888888888888,\"#b5de2b\"],[1.0,\"#fde725\"]],\"type\":\"histogram2dcontour\"}],\"histogram2d\":[{\"colorbar\":{\"outlinewidth\":1,\"tickcolor\":\"rgb(36,36,36)\",\"ticks\":\"outside\"},\"colorscale\":[[0.0,\"#440154\"],[0.1111111111111111,\"#482878\"],[0.2222222222222222,\"#3e4989\"],[0.3333333333333333,\"#31688e\"],[0.4444444444444444,\"#26828e\"],[0.5555555555555556,\"#1f9e89\"],[0.6666666666666666,\"#35b779\"],[0.7777777777777778,\"#6ece58\"],[0.8888888888888888,\"#b5de2b\"],[1.0,\"#fde725\"]],\"type\":\"histogram2d\"}],\"histogram\":[{\"marker\":{\"line\":{\"color\":\"white\",\"width\":0.6}},\"type\":\"histogram\"}],\"mesh3d\":[{\"colorbar\":{\"outlinewidth\":1,\"tickcolor\":\"rgb(36,36,36)\",\"ticks\":\"outside\"},\"type\":\"mesh3d\"}],\"parcoords\":[{\"line\":{\"colorbar\":{\"outlinewidth\":1,\"tickcolor\":\"rgb(36,36,36)\",\"ticks\":\"outside\"}},\"type\":\"parcoords\"}],\"pie\":[{\"automargin\":true,\"type\":\"pie\"}],\"scatter3d\":[{\"line\":{\"colorbar\":{\"outlinewidth\":1,\"tickcolor\":\"rgb(36,36,36)\",\"ticks\":\"outside\"}},\"marker\":{\"colorbar\":{\"outlinewidth\":1,\"tickcolor\":\"rgb(36,36,36)\",\"ticks\":\"outside\"}},\"type\":\"scatter3d\"}],\"scattercarpet\":[{\"marker\":{\"colorbar\":{\"outlinewidth\":1,\"tickcolor\":\"rgb(36,36,36)\",\"ticks\":\"outside\"}},\"type\":\"scattercarpet\"}],\"scattergeo\":[{\"marker\":{\"colorbar\":{\"outlinewidth\":1,\"tickcolor\":\"rgb(36,36,36)\",\"ticks\":\"outside\"}},\"type\":\"scattergeo\"}],\"scattergl\":[{\"marker\":{\"colorbar\":{\"outlinewidth\":1,\"tickcolor\":\"rgb(36,36,36)\",\"ticks\":\"outside\"}},\"type\":\"scattergl\"}],\"scattermapbox\":[{\"marker\":{\"colorbar\":{\"outlinewidth\":1,\"tickcolor\":\"rgb(36,36,36)\",\"ticks\":\"outside\"}},\"type\":\"scattermapbox\"}],\"scatterpolargl\":[{\"marker\":{\"colorbar\":{\"outlinewidth\":1,\"tickcolor\":\"rgb(36,36,36)\",\"ticks\":\"outside\"}},\"type\":\"scatterpolargl\"}],\"scatterpolar\":[{\"marker\":{\"colorbar\":{\"outlinewidth\":1,\"tickcolor\":\"rgb(36,36,36)\",\"ticks\":\"outside\"}},\"type\":\"scatterpolar\"}],\"scatter\":[{\"marker\":{\"colorbar\":{\"outlinewidth\":1,\"tickcolor\":\"rgb(36,36,36)\",\"ticks\":\"outside\"}},\"type\":\"scatter\"}],\"scatterternary\":[{\"marker\":{\"colorbar\":{\"outlinewidth\":1,\"tickcolor\":\"rgb(36,36,36)\",\"ticks\":\"outside\"}},\"type\":\"scatterternary\"}],\"surface\":[{\"colorbar\":{\"outlinewidth\":1,\"tickcolor\":\"rgb(36,36,36)\",\"ticks\":\"outside\"},\"colorscale\":[[0.0,\"#440154\"],[0.1111111111111111,\"#482878\"],[0.2222222222222222,\"#3e4989\"],[0.3333333333333333,\"#31688e\"],[0.4444444444444444,\"#26828e\"],[0.5555555555555556,\"#1f9e89\"],[0.6666666666666666,\"#35b779\"],[0.7777777777777778,\"#6ece58\"],[0.8888888888888888,\"#b5de2b\"],[1.0,\"#fde725\"]],\"type\":\"surface\"}],\"table\":[{\"cells\":{\"fill\":{\"color\":\"rgb(237,237,237)\"},\"line\":{\"color\":\"white\"}},\"header\":{\"fill\":{\"color\":\"rgb(217,217,217)\"},\"line\":{\"color\":\"white\"}},\"type\":\"table\"}]},\"layout\":{\"annotationdefaults\":{\"arrowhead\":0,\"arrowwidth\":1},\"autotypenumbers\":\"strict\",\"coloraxis\":{\"colorbar\":{\"outlinewidth\":1,\"tickcolor\":\"rgb(36,36,36)\",\"ticks\":\"outside\"}},\"colorscale\":{\"diverging\":[[0.0,\"rgb(103,0,31)\"],[0.1,\"rgb(178,24,43)\"],[0.2,\"rgb(214,96,77)\"],[0.3,\"rgb(244,165,130)\"],[0.4,\"rgb(253,219,199)\"],[0.5,\"rgb(247,247,247)\"],[0.6,\"rgb(209,229,240)\"],[0.7,\"rgb(146,197,222)\"],[0.8,\"rgb(67,147,195)\"],[0.9,\"rgb(33,102,172)\"],[1.0,\"rgb(5,48,97)\"]],\"sequential\":[[0.0,\"#440154\"],[0.1111111111111111,\"#482878\"],[0.2222222222222222,\"#3e4989\"],[0.3333333333333333,\"#31688e\"],[0.4444444444444444,\"#26828e\"],[0.5555555555555556,\"#1f9e89\"],[0.6666666666666666,\"#35b779\"],[0.7777777777777778,\"#6ece58\"],[0.8888888888888888,\"#b5de2b\"],[1.0,\"#fde725\"]],\"sequentialminus\":[[0.0,\"#440154\"],[0.1111111111111111,\"#482878\"],[0.2222222222222222,\"#3e4989\"],[0.3333333333333333,\"#31688e\"],[0.4444444444444444,\"#26828e\"],[0.5555555555555556,\"#1f9e89\"],[0.6666666666666666,\"#35b779\"],[0.7777777777777778,\"#6ece58\"],[0.8888888888888888,\"#b5de2b\"],[1.0,\"#fde725\"]]},\"colorway\":[\"#1F77B4\",\"#FF7F0E\",\"#2CA02C\",\"#D62728\",\"#9467BD\",\"#8C564B\",\"#E377C2\",\"#7F7F7F\",\"#BCBD22\",\"#17BECF\"],\"font\":{\"color\":\"rgb(36,36,36)\"},\"geo\":{\"bgcolor\":\"white\",\"lakecolor\":\"white\",\"landcolor\":\"white\",\"showlakes\":true,\"showland\":true,\"subunitcolor\":\"white\"},\"hoverlabel\":{\"align\":\"left\"},\"hovermode\":\"closest\",\"mapbox\":{\"style\":\"light\"},\"paper_bgcolor\":\"white\",\"plot_bgcolor\":\"white\",\"polar\":{\"angularaxis\":{\"gridcolor\":\"rgb(232,232,232)\",\"linecolor\":\"rgb(36,36,36)\",\"showgrid\":false,\"showline\":true,\"ticks\":\"outside\"},\"bgcolor\":\"white\",\"radialaxis\":{\"gridcolor\":\"rgb(232,232,232)\",\"linecolor\":\"rgb(36,36,36)\",\"showgrid\":false,\"showline\":true,\"ticks\":\"outside\"}},\"scene\":{\"xaxis\":{\"backgroundcolor\":\"white\",\"gridcolor\":\"rgb(232,232,232)\",\"gridwidth\":2,\"linecolor\":\"rgb(36,36,36)\",\"showbackground\":true,\"showgrid\":false,\"showline\":true,\"ticks\":\"outside\",\"zeroline\":false,\"zerolinecolor\":\"rgb(36,36,36)\"},\"yaxis\":{\"backgroundcolor\":\"white\",\"gridcolor\":\"rgb(232,232,232)\",\"gridwidth\":2,\"linecolor\":\"rgb(36,36,36)\",\"showbackground\":true,\"showgrid\":false,\"showline\":true,\"ticks\":\"outside\",\"zeroline\":false,\"zerolinecolor\":\"rgb(36,36,36)\"},\"zaxis\":{\"backgroundcolor\":\"white\",\"gridcolor\":\"rgb(232,232,232)\",\"gridwidth\":2,\"linecolor\":\"rgb(36,36,36)\",\"showbackground\":true,\"showgrid\":false,\"showline\":true,\"ticks\":\"outside\",\"zeroline\":false,\"zerolinecolor\":\"rgb(36,36,36)\"}},\"shapedefaults\":{\"fillcolor\":\"black\",\"line\":{\"width\":0},\"opacity\":0.3},\"ternary\":{\"aaxis\":{\"gridcolor\":\"rgb(232,232,232)\",\"linecolor\":\"rgb(36,36,36)\",\"showgrid\":false,\"showline\":true,\"ticks\":\"outside\"},\"baxis\":{\"gridcolor\":\"rgb(232,232,232)\",\"linecolor\":\"rgb(36,36,36)\",\"showgrid\":false,\"showline\":true,\"ticks\":\"outside\"},\"bgcolor\":\"white\",\"caxis\":{\"gridcolor\":\"rgb(232,232,232)\",\"linecolor\":\"rgb(36,36,36)\",\"showgrid\":false,\"showline\":true,\"ticks\":\"outside\"}},\"title\":{\"x\":0.05},\"xaxis\":{\"automargin\":true,\"gridcolor\":\"rgb(232,232,232)\",\"linecolor\":\"rgb(36,36,36)\",\"showgrid\":false,\"showline\":true,\"ticks\":\"outside\",\"title\":{\"standoff\":15},\"zeroline\":false,\"zerolinecolor\":\"rgb(36,36,36)\"},\"yaxis\":{\"automargin\":true,\"gridcolor\":\"rgb(232,232,232)\",\"linecolor\":\"rgb(36,36,36)\",\"showgrid\":false,\"showline\":true,\"ticks\":\"outside\",\"title\":{\"standoff\":15},\"zeroline\":false,\"zerolinecolor\":\"rgb(36,36,36)\"}}},\"xaxis\":{\"anchor\":\"y\",\"domain\":[0.0,1.0],\"title\":{\"text\":\"Date\"},\"ticks\":\"inside\"},\"yaxis\":{\"anchor\":\"x\",\"domain\":[0.575,1.0],\"title\":{\"text\":\"Sales/No of Orders\"},\"ticks\":\"inside\"},\"xaxis2\":{\"anchor\":\"y2\",\"domain\":[0.0,1.0],\"title\":{\"text\":\"Date\"},\"ticks\":\"inside\"},\"yaxis2\":{\"anchor\":\"x2\",\"domain\":[0.0,0.425],\"title\":{\"text\":\"Avg Order Val\"},\"ticks\":\"inside\"},\"title\":{\"xanchor\":\"center\",\"yanchor\":\"top\",\"y\":0.9,\"x\":0.5,\"text\":\"Sales Performance - Daily\"}},                        {\"responsive\": true}                    ).then(function(){\n",
              "                            \n",
              "var gd = document.getElementById('369c28b4-622d-4911-a566-a9110f959c25');\n",
              "var x = new MutationObserver(function (mutations, observer) {{\n",
              "        var display = window.getComputedStyle(gd).display;\n",
              "        if (!display || display === 'none') {{\n",
              "            console.log([gd, 'removed!']);\n",
              "            Plotly.purge(gd);\n",
              "            observer.disconnect();\n",
              "        }}\n",
              "}});\n",
              "\n",
              "// Listen for the removal of the full notebook cells\n",
              "var notebookContainer = gd.closest('#notebook-container');\n",
              "if (notebookContainer) {{\n",
              "    x.observe(notebookContainer, {childList: true});\n",
              "}}\n",
              "\n",
              "// Listen for the clearing of the current output cell\n",
              "var outputEl = gd.closest('.output');\n",
              "if (outputEl) {{\n",
              "    x.observe(outputEl, {childList: true});\n",
              "}}\n",
              "\n",
              "                        })                };                            </script>        </div>\n",
              "</body>\n",
              "</html>"
            ]
          },
          "metadata": {}
        }
      ]
    },
    {
      "cell_type": "markdown",
      "source": [
        "This shows something interesting - even as the **number of orders go down**, impacting the total order value, the **average order value goes up**. This is ***promising to explore*** from a marketing perspective, if we can bring in more users to buy during this period, the average order value is likely to be higher closer to the holiday season."
      ],
      "metadata": {
        "id": "vI4IkzOEBGZ-"
      }
    },
    {
      "cell_type": "markdown",
      "source": [
        "# Question 2: \n",
        "\n",
        "Looking at some of the data regarding purchases and dates, one question that seems worth answering is about **when to gear up the marketing and how**. \n",
        "\n",
        "To answer this, we may be looking at patterns within days, weeks, times of the day, and time taken to convert to guide us."
      ],
      "metadata": {
        "id": "UMvqrEk4VndN"
      }
    },
    {
      "cell_type": "code",
      "source": [
        "# To anwser the question of the timing of the marketing campaigns, step 1 is understanding buying behaviour \n",
        "# I am starting by trying to identify hour of the day and weeks where there are most number of web visitors. \n",
        "# I am counting unique visitors and not overall count \n",
        "hourly_visitors=Shopping_Dec.groupby(['hours','weeknum'],as_index=False)['user_id'].nunique()\n",
        "hourly_visitors.columns=['hours','weeknum','user_id']\n",
        "\n",
        "# Now, plotting the same into an Area chart, where the weeks form the areas\n",
        "fig = px.area(hourly_visitors, x='hours', y=\"user_id\",color='weeknum')\n",
        "fig.update_layout(template='simple_white',     \n",
        "                title={'xanchor': 'center',\n",
        "                         'yanchor': 'top',        \n",
        "                         'y':0.9,\n",
        "                         'x':0.4,\n",
        "                         'text':\"Hourly Website Views - Visitor Count\"},\n",
        "                xaxis = dict(\n",
        "                    title_text='Hour of the day',\n",
        "                    tickmode = 'linear',\n",
        "                    tick0 = 0,\n",
        "                    dtick = 3),\n",
        "                 yaxis = dict(\n",
        "                    title_text='Visitors'))\n",
        "fig.show()"
      ],
      "metadata": {
        "colab": {
          "base_uri": "https://localhost:8080/",
          "height": 542
        },
        "outputId": "4aac94c6-5866-42cd-80c6-f90139aae2ba",
        "id": "q-DWUn5kLRd6"
      },
      "execution_count": 41,
      "outputs": [
        {
          "output_type": "display_data",
          "data": {
            "text/html": [
              "<html>\n",
              "<head><meta charset=\"utf-8\" /></head>\n",
              "<body>\n",
              "    <div>            <script src=\"https://cdnjs.cloudflare.com/ajax/libs/mathjax/2.7.5/MathJax.js?config=TeX-AMS-MML_SVG\"></script><script type=\"text/javascript\">if (window.MathJax) {MathJax.Hub.Config({SVG: {font: \"STIX-Web\"}});}</script>                <script type=\"text/javascript\">window.PlotlyConfig = {MathJaxConfig: 'local'};</script>\n",
              "        <script src=\"https://cdn.plot.ly/plotly-2.8.3.min.js\"></script>                <div id=\"3c3e1466-6c09-4dc9-85b3-f5b7848d967d\" class=\"plotly-graph-div\" style=\"height:525px; width:100%;\"></div>            <script type=\"text/javascript\">                                    window.PLOTLYENV=window.PLOTLYENV || {};                                    if (document.getElementById(\"3c3e1466-6c09-4dc9-85b3-f5b7848d967d\")) {                    Plotly.newPlot(                        \"3c3e1466-6c09-4dc9-85b3-f5b7848d967d\",                        [{\"hovertemplate\":\"weeknum=1<br>hours=%{x}<br>user_id=%{y}<extra></extra>\",\"legendgroup\":\"1\",\"line\":{\"color\":\"#636efa\"},\"marker\":{\"symbol\":\"circle\"},\"mode\":\"lines\",\"name\":\"1\",\"orientation\":\"v\",\"showlegend\":true,\"stackgroup\":\"1\",\"x\":[0,1,2,3,4,5,6,7,8,9,10,11,12,13,14,15,16,17,18,19,20,21,22,23],\"xaxis\":\"x\",\"y\":[373,314,321,462,647,889,1109,1343,1457,1435,1445,1467,1487,1406,1269,1267,1178,1161,1202,1316,1147,816,605,489],\"yaxis\":\"y\",\"type\":\"scatter\"},{\"hovertemplate\":\"weeknum=48<br>hours=%{x}<br>user_id=%{y}<extra></extra>\",\"legendgroup\":\"48\",\"line\":{\"color\":\"#EF553B\"},\"marker\":{\"symbol\":\"circle\"},\"mode\":\"lines\",\"name\":\"48\",\"orientation\":\"v\",\"showlegend\":true,\"stackgroup\":\"1\",\"x\":[0,1,2,3,4,5,6,7,8,9,10,11,12,13,14,15,16,17,18,19,20,21,22,23],\"xaxis\":\"x\",\"y\":[203,174,162,252,333,531,717,977,1104,1176,1167,1351,1366,1265,1256,1361,1390,1516,1568,1511,1406,923,484,335],\"yaxis\":\"y\",\"type\":\"scatter\"},{\"hovertemplate\":\"weeknum=49<br>hours=%{x}<br>user_id=%{y}<extra></extra>\",\"legendgroup\":\"49\",\"line\":{\"color\":\"#00cc96\"},\"marker\":{\"symbol\":\"circle\"},\"mode\":\"lines\",\"name\":\"49\",\"orientation\":\"v\",\"showlegend\":true,\"stackgroup\":\"1\",\"x\":[0,1,2,3,4,5,6,7,8,9,10,11,12,13,14,15,16,17,18,19,20,21,22,23],\"xaxis\":\"x\",\"y\":[1264,1254,1498,2333,3300,4838,6375,7718,8362,8735,9113,9385,9688,9144,8588,8346,8311,8868,8971,9062,7750,5057,3011,1882],\"yaxis\":\"y\",\"type\":\"scatter\"},{\"hovertemplate\":\"weeknum=50<br>hours=%{x}<br>user_id=%{y}<extra></extra>\",\"legendgroup\":\"50\",\"line\":{\"color\":\"#ab63fa\"},\"marker\":{\"symbol\":\"circle\"},\"mode\":\"lines\",\"name\":\"50\",\"orientation\":\"v\",\"showlegend\":true,\"stackgroup\":\"1\",\"x\":[0,1,2,3,4,5,6,7,8,9,10,11,12,13,14,15,16,17,18,19,20,21,22,23],\"xaxis\":\"x\",\"y\":[1386,1262,1490,2205,3351,4879,6527,7741,8610,9007,9165,9489,9646,9631,9139,8908,8896,9350,9816,9851,8393,5603,3450,1955],\"yaxis\":\"y\",\"type\":\"scatter\"},{\"hovertemplate\":\"weeknum=51<br>hours=%{x}<br>user_id=%{y}<extra></extra>\",\"legendgroup\":\"51\",\"line\":{\"color\":\"#FFA15A\"},\"marker\":{\"symbol\":\"circle\"},\"mode\":\"lines\",\"name\":\"51\",\"orientation\":\"v\",\"showlegend\":true,\"stackgroup\":\"1\",\"x\":[0,1,2,3,4,5,6,7,8,9,10,11,12,13,14,15,16,17,18,19,20,21,22,23],\"xaxis\":\"x\",\"y\":[1393,1316,1439,2118,3286,4771,6326,7511,8000,8510,8990,9013,9008,8737,8439,8415,8358,8689,9100,9179,7782,5330,3208,1918],\"yaxis\":\"y\",\"type\":\"scatter\"},{\"hovertemplate\":\"weeknum=52<br>hours=%{x}<br>user_id=%{y}<extra></extra>\",\"legendgroup\":\"52\",\"line\":{\"color\":\"#19d3f3\"},\"marker\":{\"symbol\":\"circle\"},\"mode\":\"lines\",\"name\":\"52\",\"orientation\":\"v\",\"showlegend\":true,\"stackgroup\":\"1\",\"x\":[0,1,2,3,4,5,6,7,8,9,10,11,12,13,14,15,16,17,18,19,20,21,22,23],\"xaxis\":\"x\",\"y\":[1292,1193,1359,1939,2897,4165,5588,6395,7155,7471,7629,8047,8108,7925,7404,7257,7526,7603,8111,8485,7407,4944,3022,1878],\"yaxis\":\"y\",\"type\":\"scatter\"}],                        {\"template\":{\"data\":{\"barpolar\":[{\"marker\":{\"line\":{\"color\":\"white\",\"width\":0.5},\"pattern\":{\"fillmode\":\"overlay\",\"size\":10,\"solidity\":0.2}},\"type\":\"barpolar\"}],\"bar\":[{\"error_x\":{\"color\":\"rgb(36,36,36)\"},\"error_y\":{\"color\":\"rgb(36,36,36)\"},\"marker\":{\"line\":{\"color\":\"white\",\"width\":0.5},\"pattern\":{\"fillmode\":\"overlay\",\"size\":10,\"solidity\":0.2}},\"type\":\"bar\"}],\"carpet\":[{\"aaxis\":{\"endlinecolor\":\"rgb(36,36,36)\",\"gridcolor\":\"white\",\"linecolor\":\"white\",\"minorgridcolor\":\"white\",\"startlinecolor\":\"rgb(36,36,36)\"},\"baxis\":{\"endlinecolor\":\"rgb(36,36,36)\",\"gridcolor\":\"white\",\"linecolor\":\"white\",\"minorgridcolor\":\"white\",\"startlinecolor\":\"rgb(36,36,36)\"},\"type\":\"carpet\"}],\"choropleth\":[{\"colorbar\":{\"outlinewidth\":1,\"tickcolor\":\"rgb(36,36,36)\",\"ticks\":\"outside\"},\"type\":\"choropleth\"}],\"contourcarpet\":[{\"colorbar\":{\"outlinewidth\":1,\"tickcolor\":\"rgb(36,36,36)\",\"ticks\":\"outside\"},\"type\":\"contourcarpet\"}],\"contour\":[{\"colorbar\":{\"outlinewidth\":1,\"tickcolor\":\"rgb(36,36,36)\",\"ticks\":\"outside\"},\"colorscale\":[[0.0,\"#440154\"],[0.1111111111111111,\"#482878\"],[0.2222222222222222,\"#3e4989\"],[0.3333333333333333,\"#31688e\"],[0.4444444444444444,\"#26828e\"],[0.5555555555555556,\"#1f9e89\"],[0.6666666666666666,\"#35b779\"],[0.7777777777777778,\"#6ece58\"],[0.8888888888888888,\"#b5de2b\"],[1.0,\"#fde725\"]],\"type\":\"contour\"}],\"heatmapgl\":[{\"colorbar\":{\"outlinewidth\":1,\"tickcolor\":\"rgb(36,36,36)\",\"ticks\":\"outside\"},\"colorscale\":[[0.0,\"#440154\"],[0.1111111111111111,\"#482878\"],[0.2222222222222222,\"#3e4989\"],[0.3333333333333333,\"#31688e\"],[0.4444444444444444,\"#26828e\"],[0.5555555555555556,\"#1f9e89\"],[0.6666666666666666,\"#35b779\"],[0.7777777777777778,\"#6ece58\"],[0.8888888888888888,\"#b5de2b\"],[1.0,\"#fde725\"]],\"type\":\"heatmapgl\"}],\"heatmap\":[{\"colorbar\":{\"outlinewidth\":1,\"tickcolor\":\"rgb(36,36,36)\",\"ticks\":\"outside\"},\"colorscale\":[[0.0,\"#440154\"],[0.1111111111111111,\"#482878\"],[0.2222222222222222,\"#3e4989\"],[0.3333333333333333,\"#31688e\"],[0.4444444444444444,\"#26828e\"],[0.5555555555555556,\"#1f9e89\"],[0.6666666666666666,\"#35b779\"],[0.7777777777777778,\"#6ece58\"],[0.8888888888888888,\"#b5de2b\"],[1.0,\"#fde725\"]],\"type\":\"heatmap\"}],\"histogram2dcontour\":[{\"colorbar\":{\"outlinewidth\":1,\"tickcolor\":\"rgb(36,36,36)\",\"ticks\":\"outside\"},\"colorscale\":[[0.0,\"#440154\"],[0.1111111111111111,\"#482878\"],[0.2222222222222222,\"#3e4989\"],[0.3333333333333333,\"#31688e\"],[0.4444444444444444,\"#26828e\"],[0.5555555555555556,\"#1f9e89\"],[0.6666666666666666,\"#35b779\"],[0.7777777777777778,\"#6ece58\"],[0.8888888888888888,\"#b5de2b\"],[1.0,\"#fde725\"]],\"type\":\"histogram2dcontour\"}],\"histogram2d\":[{\"colorbar\":{\"outlinewidth\":1,\"tickcolor\":\"rgb(36,36,36)\",\"ticks\":\"outside\"},\"colorscale\":[[0.0,\"#440154\"],[0.1111111111111111,\"#482878\"],[0.2222222222222222,\"#3e4989\"],[0.3333333333333333,\"#31688e\"],[0.4444444444444444,\"#26828e\"],[0.5555555555555556,\"#1f9e89\"],[0.6666666666666666,\"#35b779\"],[0.7777777777777778,\"#6ece58\"],[0.8888888888888888,\"#b5de2b\"],[1.0,\"#fde725\"]],\"type\":\"histogram2d\"}],\"histogram\":[{\"marker\":{\"line\":{\"color\":\"white\",\"width\":0.6}},\"type\":\"histogram\"}],\"mesh3d\":[{\"colorbar\":{\"outlinewidth\":1,\"tickcolor\":\"rgb(36,36,36)\",\"ticks\":\"outside\"},\"type\":\"mesh3d\"}],\"parcoords\":[{\"line\":{\"colorbar\":{\"outlinewidth\":1,\"tickcolor\":\"rgb(36,36,36)\",\"ticks\":\"outside\"}},\"type\":\"parcoords\"}],\"pie\":[{\"automargin\":true,\"type\":\"pie\"}],\"scatter3d\":[{\"line\":{\"colorbar\":{\"outlinewidth\":1,\"tickcolor\":\"rgb(36,36,36)\",\"ticks\":\"outside\"}},\"marker\":{\"colorbar\":{\"outlinewidth\":1,\"tickcolor\":\"rgb(36,36,36)\",\"ticks\":\"outside\"}},\"type\":\"scatter3d\"}],\"scattercarpet\":[{\"marker\":{\"colorbar\":{\"outlinewidth\":1,\"tickcolor\":\"rgb(36,36,36)\",\"ticks\":\"outside\"}},\"type\":\"scattercarpet\"}],\"scattergeo\":[{\"marker\":{\"colorbar\":{\"outlinewidth\":1,\"tickcolor\":\"rgb(36,36,36)\",\"ticks\":\"outside\"}},\"type\":\"scattergeo\"}],\"scattergl\":[{\"marker\":{\"colorbar\":{\"outlinewidth\":1,\"tickcolor\":\"rgb(36,36,36)\",\"ticks\":\"outside\"}},\"type\":\"scattergl\"}],\"scattermapbox\":[{\"marker\":{\"colorbar\":{\"outlinewidth\":1,\"tickcolor\":\"rgb(36,36,36)\",\"ticks\":\"outside\"}},\"type\":\"scattermapbox\"}],\"scatterpolargl\":[{\"marker\":{\"colorbar\":{\"outlinewidth\":1,\"tickcolor\":\"rgb(36,36,36)\",\"ticks\":\"outside\"}},\"type\":\"scatterpolargl\"}],\"scatterpolar\":[{\"marker\":{\"colorbar\":{\"outlinewidth\":1,\"tickcolor\":\"rgb(36,36,36)\",\"ticks\":\"outside\"}},\"type\":\"scatterpolar\"}],\"scatter\":[{\"marker\":{\"colorbar\":{\"outlinewidth\":1,\"tickcolor\":\"rgb(36,36,36)\",\"ticks\":\"outside\"}},\"type\":\"scatter\"}],\"scatterternary\":[{\"marker\":{\"colorbar\":{\"outlinewidth\":1,\"tickcolor\":\"rgb(36,36,36)\",\"ticks\":\"outside\"}},\"type\":\"scatterternary\"}],\"surface\":[{\"colorbar\":{\"outlinewidth\":1,\"tickcolor\":\"rgb(36,36,36)\",\"ticks\":\"outside\"},\"colorscale\":[[0.0,\"#440154\"],[0.1111111111111111,\"#482878\"],[0.2222222222222222,\"#3e4989\"],[0.3333333333333333,\"#31688e\"],[0.4444444444444444,\"#26828e\"],[0.5555555555555556,\"#1f9e89\"],[0.6666666666666666,\"#35b779\"],[0.7777777777777778,\"#6ece58\"],[0.8888888888888888,\"#b5de2b\"],[1.0,\"#fde725\"]],\"type\":\"surface\"}],\"table\":[{\"cells\":{\"fill\":{\"color\":\"rgb(237,237,237)\"},\"line\":{\"color\":\"white\"}},\"header\":{\"fill\":{\"color\":\"rgb(217,217,217)\"},\"line\":{\"color\":\"white\"}},\"type\":\"table\"}]},\"layout\":{\"annotationdefaults\":{\"arrowhead\":0,\"arrowwidth\":1},\"autotypenumbers\":\"strict\",\"coloraxis\":{\"colorbar\":{\"outlinewidth\":1,\"tickcolor\":\"rgb(36,36,36)\",\"ticks\":\"outside\"}},\"colorscale\":{\"diverging\":[[0.0,\"rgb(103,0,31)\"],[0.1,\"rgb(178,24,43)\"],[0.2,\"rgb(214,96,77)\"],[0.3,\"rgb(244,165,130)\"],[0.4,\"rgb(253,219,199)\"],[0.5,\"rgb(247,247,247)\"],[0.6,\"rgb(209,229,240)\"],[0.7,\"rgb(146,197,222)\"],[0.8,\"rgb(67,147,195)\"],[0.9,\"rgb(33,102,172)\"],[1.0,\"rgb(5,48,97)\"]],\"sequential\":[[0.0,\"#440154\"],[0.1111111111111111,\"#482878\"],[0.2222222222222222,\"#3e4989\"],[0.3333333333333333,\"#31688e\"],[0.4444444444444444,\"#26828e\"],[0.5555555555555556,\"#1f9e89\"],[0.6666666666666666,\"#35b779\"],[0.7777777777777778,\"#6ece58\"],[0.8888888888888888,\"#b5de2b\"],[1.0,\"#fde725\"]],\"sequentialminus\":[[0.0,\"#440154\"],[0.1111111111111111,\"#482878\"],[0.2222222222222222,\"#3e4989\"],[0.3333333333333333,\"#31688e\"],[0.4444444444444444,\"#26828e\"],[0.5555555555555556,\"#1f9e89\"],[0.6666666666666666,\"#35b779\"],[0.7777777777777778,\"#6ece58\"],[0.8888888888888888,\"#b5de2b\"],[1.0,\"#fde725\"]]},\"colorway\":[\"#1F77B4\",\"#FF7F0E\",\"#2CA02C\",\"#D62728\",\"#9467BD\",\"#8C564B\",\"#E377C2\",\"#7F7F7F\",\"#BCBD22\",\"#17BECF\"],\"font\":{\"color\":\"rgb(36,36,36)\"},\"geo\":{\"bgcolor\":\"white\",\"lakecolor\":\"white\",\"landcolor\":\"white\",\"showlakes\":true,\"showland\":true,\"subunitcolor\":\"white\"},\"hoverlabel\":{\"align\":\"left\"},\"hovermode\":\"closest\",\"mapbox\":{\"style\":\"light\"},\"paper_bgcolor\":\"white\",\"plot_bgcolor\":\"white\",\"polar\":{\"angularaxis\":{\"gridcolor\":\"rgb(232,232,232)\",\"linecolor\":\"rgb(36,36,36)\",\"showgrid\":false,\"showline\":true,\"ticks\":\"outside\"},\"bgcolor\":\"white\",\"radialaxis\":{\"gridcolor\":\"rgb(232,232,232)\",\"linecolor\":\"rgb(36,36,36)\",\"showgrid\":false,\"showline\":true,\"ticks\":\"outside\"}},\"scene\":{\"xaxis\":{\"backgroundcolor\":\"white\",\"gridcolor\":\"rgb(232,232,232)\",\"gridwidth\":2,\"linecolor\":\"rgb(36,36,36)\",\"showbackground\":true,\"showgrid\":false,\"showline\":true,\"ticks\":\"outside\",\"zeroline\":false,\"zerolinecolor\":\"rgb(36,36,36)\"},\"yaxis\":{\"backgroundcolor\":\"white\",\"gridcolor\":\"rgb(232,232,232)\",\"gridwidth\":2,\"linecolor\":\"rgb(36,36,36)\",\"showbackground\":true,\"showgrid\":false,\"showline\":true,\"ticks\":\"outside\",\"zeroline\":false,\"zerolinecolor\":\"rgb(36,36,36)\"},\"zaxis\":{\"backgroundcolor\":\"white\",\"gridcolor\":\"rgb(232,232,232)\",\"gridwidth\":2,\"linecolor\":\"rgb(36,36,36)\",\"showbackground\":true,\"showgrid\":false,\"showline\":true,\"ticks\":\"outside\",\"zeroline\":false,\"zerolinecolor\":\"rgb(36,36,36)\"}},\"shapedefaults\":{\"fillcolor\":\"black\",\"line\":{\"width\":0},\"opacity\":0.3},\"ternary\":{\"aaxis\":{\"gridcolor\":\"rgb(232,232,232)\",\"linecolor\":\"rgb(36,36,36)\",\"showgrid\":false,\"showline\":true,\"ticks\":\"outside\"},\"baxis\":{\"gridcolor\":\"rgb(232,232,232)\",\"linecolor\":\"rgb(36,36,36)\",\"showgrid\":false,\"showline\":true,\"ticks\":\"outside\"},\"bgcolor\":\"white\",\"caxis\":{\"gridcolor\":\"rgb(232,232,232)\",\"linecolor\":\"rgb(36,36,36)\",\"showgrid\":false,\"showline\":true,\"ticks\":\"outside\"}},\"title\":{\"x\":0.05},\"xaxis\":{\"automargin\":true,\"gridcolor\":\"rgb(232,232,232)\",\"linecolor\":\"rgb(36,36,36)\",\"showgrid\":false,\"showline\":true,\"ticks\":\"outside\",\"title\":{\"standoff\":15},\"zeroline\":false,\"zerolinecolor\":\"rgb(36,36,36)\"},\"yaxis\":{\"automargin\":true,\"gridcolor\":\"rgb(232,232,232)\",\"linecolor\":\"rgb(36,36,36)\",\"showgrid\":false,\"showline\":true,\"ticks\":\"outside\",\"title\":{\"standoff\":15},\"zeroline\":false,\"zerolinecolor\":\"rgb(36,36,36)\"}}},\"xaxis\":{\"anchor\":\"y\",\"domain\":[0.0,1.0],\"title\":{\"text\":\"Hour of the day\"},\"tickmode\":\"linear\",\"tick0\":0,\"dtick\":3},\"yaxis\":{\"anchor\":\"x\",\"domain\":[0.0,1.0],\"title\":{\"text\":\"Visitors\"}},\"legend\":{\"title\":{\"text\":\"weeknum\"},\"tracegroupgap\":0},\"margin\":{\"t\":60},\"title\":{\"xanchor\":\"center\",\"yanchor\":\"top\",\"y\":0.9,\"x\":0.4,\"text\":\"Hourly Website Views - Visitor Count\"}},                        {\"responsive\": true}                    ).then(function(){\n",
              "                            \n",
              "var gd = document.getElementById('3c3e1466-6c09-4dc9-85b3-f5b7848d967d');\n",
              "var x = new MutationObserver(function (mutations, observer) {{\n",
              "        var display = window.getComputedStyle(gd).display;\n",
              "        if (!display || display === 'none') {{\n",
              "            console.log([gd, 'removed!']);\n",
              "            Plotly.purge(gd);\n",
              "            observer.disconnect();\n",
              "        }}\n",
              "}});\n",
              "\n",
              "// Listen for the removal of the full notebook cells\n",
              "var notebookContainer = gd.closest('#notebook-container');\n",
              "if (notebookContainer) {{\n",
              "    x.observe(notebookContainer, {childList: true});\n",
              "}}\n",
              "\n",
              "// Listen for the clearing of the current output cell\n",
              "var outputEl = gd.closest('.output');\n",
              "if (outputEl) {{\n",
              "    x.observe(outputEl, {childList: true});\n",
              "}}\n",
              "\n",
              "                        })                };                            </script>        </div>\n",
              "</body>\n",
              "</html>"
            ]
          },
          "metadata": {}
        }
      ]
    },
    {
      "cell_type": "markdown",
      "source": [
        "From the above visualization, we can see that \n",
        "*   Overall, the total visitors keep growing per week throughout December, peaking in the last week\n",
        "*   Additionally, most visits during the week happen between 6 AM - 9 PM, with the peaks at 12 PM and 7 PM (potentially lunch hours and pre-prime time / post office hours). \n",
        "*   After 7 PM, it steadily goes down, potentially as family and / or entertainment become more active\n",
        "\n",
        "# Recommendations\n",
        "\n",
        "*   **Increase marketing spends** from Week 1 to Week 4 in December gradually, to ensure that ***last minute shoppers*** choose this cosmetics website over the others\n",
        "*   **Stagger promotional offers** across these weeks to offer the maximum discounts toward ***weeks 3 and 4*** (51 and 52)\n",
        "*   Show more ads (search, display, video etc) and marketing offers (promo emails, push notifications etc) in these time windows: **10 AM - 1 PM** and **5 PM - 7 PM** when users are most active\n",
        "\n",
        "\n",
        "\n",
        "\n",
        "\n",
        "\n",
        "\n"
      ],
      "metadata": {
        "id": "VA1OeZSZQ6Td"
      }
    },
    {
      "cell_type": "code",
      "source": [
        "# Next, we want to explore general patterns of browsing behavior across events - from view to purchase - in order to decide a strategy for retargeting\n",
        "# Since user sessions are unique IDs, using that to partition, and sorting by the data formatted timestamp field\n",
        "order_of_events = Shopping_Dec.sort_values(['event_time_2'],ascending=True).groupby('user_session')['event_type'].apply(list).to_frame(name='sequences')\n",
        "\n",
        "# Mark the 'drop off' by appending 'drop' to the end of the sequence\n",
        "order_of_events['sequences'] = order_of_events.apply(lambda x: x['sequences'] + ['drop'], axis=1)\n",
        "\n",
        "# To compare sequences of 'purchase' complete users from 'cart remove' users, adding filters to copy into different data frames\n",
        "\n",
        "# Keep only sequences with at least one purchase\n",
        "ordered_events_purchase = order_of_events[order_of_events.sequences.apply(lambda x: np.any(np.in1d(x, ['purchase'])))]\n",
        "ordered_events_removecart = order_of_events[order_of_events.sequences.apply(lambda x: np.any(np.in1d(x, ['remove_from_cart'])))]\n",
        "\n",
        "ordered_events_purchase.head()\n",
        "\n",
        "# In order to get counts against sequences, converting the array to a string\n",
        "ordered_events_purchase['sequences'] = ['-'.join(map(str, l)) for l in ordered_events_purchase['sequences']]\n",
        "ordered_events_removecart['sequences'] = ['-'.join(map(str, l)) for l in ordered_events_removecart['sequences']]\n",
        "\n",
        "# Seeing the sequences that are most repeated across \n",
        "Top_purchase_sequences = ordered_events_purchase['sequences'].value_counts().nlargest(100).to_frame(name='Purchase_Occurences')\n",
        "Top_removecart_sequences = ordered_events_removecart['sequences'].value_counts().nlargest(100).to_frame(name='Removecart_Occurences')\n",
        "\n",
        "print(Top_purchase_sequences)\n",
        "print(Top_removecart_sequences)"
      ],
      "metadata": {
        "colab": {
          "base_uri": "https://localhost:8080/"
        },
        "id": "5sEpOsHRE9ke",
        "outputId": "336f38cf-725e-44ea-d7c9-92bdd02aa921"
      },
      "execution_count": 89,
      "outputs": [
        {
          "output_type": "stream",
          "name": "stderr",
          "text": [
            "/usr/local/lib/python3.7/dist-packages/ipykernel_launcher.py:17: SettingWithCopyWarning:\n",
            "\n",
            "\n",
            "A value is trying to be set on a copy of a slice from a DataFrame.\n",
            "Try using .loc[row_indexer,col_indexer] = value instead\n",
            "\n",
            "See the caveats in the documentation: https://pandas.pydata.org/pandas-docs/stable/user_guide/indexing.html#returning-a-view-versus-a-copy\n",
            "\n"
          ]
        },
        {
          "output_type": "stream",
          "name": "stdout",
          "text": [
            "                                                    Purchase_Occurences\n",
            "view-cart-purchase-drop                                             508\n",
            "purchase-purchase-purchase-drop                                     328\n",
            "purchase-purchase-drop                                              322\n",
            "purchase-purchase-purchase-purchase-drop                            285\n",
            "purchase-drop                                                       267\n",
            "...                                                                 ...\n",
            "view-view-cart-cart-purchase-purchase-drop                           17\n",
            "remove_from_cart-purchase-purchase-purchase-pur...                   17\n",
            "view-cart-cart-cart-remove_from_cart-remove_fro...                   16\n",
            "view-cart-remove_from_cart-purchase-purchase-pu...                   16\n",
            "view-view-purchase-drop                                              16\n",
            "\n",
            "[100 rows x 1 columns]\n",
            "                                                    Removecart_Occurences\n",
            "remove_from_cart-remove_from_cart-drop                               1771\n",
            "remove_from_cart-drop                                                1569\n",
            "view-remove_from_cart-drop                                            934\n",
            "remove_from_cart-remove_from_cart-remove_from_c...                    726\n",
            "view-cart-remove_from_cart-drop                                       668\n",
            "...                                                                   ...\n",
            "view-view-remove_from_cart-remove_from_cart-rem...                     45\n",
            "cart-remove_from_cart-view-drop                                        44\n",
            "view-view-remove_from_cart-view-drop                                   44\n",
            "view-remove_from_cart-remove_from_cart-remove_f...                     44\n",
            "cart-cart-cart-cart-remove_from_cart-remove_fro...                     43\n",
            "\n",
            "[100 rows x 1 columns]\n"
          ]
        },
        {
          "output_type": "stream",
          "name": "stderr",
          "text": [
            "/usr/local/lib/python3.7/dist-packages/ipykernel_launcher.py:18: SettingWithCopyWarning:\n",
            "\n",
            "\n",
            "A value is trying to be set on a copy of a slice from a DataFrame.\n",
            "Try using .loc[row_indexer,col_indexer] = value instead\n",
            "\n",
            "See the caveats in the documentation: https://pandas.pydata.org/pandas-docs/stable/user_guide/indexing.html#returning-a-view-versus-a-copy\n",
            "\n"
          ]
        }
      ]
    },
    {
      "cell_type": "markdown",
      "source": [
        "From this list, it seems like most people who **remove from cart** tend to drop off and **not purchase** after. This makes them a critical segment to focus on, given that they are already up the funnel by adding items to cart.\n",
        "\n",
        "# Recommendations\n",
        "*   For the retargeting campaign, we will focus a **higher amount of budget** on people who **remove items** from cart and then **directly drop off** without browsing around\n",
        "*   People who **complete purchase** have a high occurence of multiple sequential purchases, which means **>1 item added** to the order. This means, for the 'remove cart' segment, **specific focus** should be on people who have **>1 item in their cart**, because they are likely to purchase.\n",
        "\n",
        "\n"
      ],
      "metadata": {
        "id": "wTW3YVgiOKKI"
      }
    },
    {
      "cell_type": "code",
      "source": [
        "Shopping_Dec['weekday'].unique().tolist()"
      ],
      "metadata": {
        "colab": {
          "base_uri": "https://localhost:8080/"
        },
        "id": "gTZM8lIWRVCb",
        "outputId": "a0009c1b-d99f-4418-fc3a-d1cc6ac308a6"
      },
      "execution_count": 92,
      "outputs": [
        {
          "output_type": "execute_result",
          "data": {
            "text/plain": [
              "[6, 0, 1, 2, 3, 4, 5]"
            ]
          },
          "metadata": {},
          "execution_count": 92
        }
      ]
    },
    {
      "cell_type": "code",
      "source": [
        "# We can explore weekday vs weekend to identify opportunities to best reach out to customers\n",
        "\n",
        "# In EDA, we calculated number of daily visitors\n",
        "# Visitors_per_day = Shopping_Dec.groupby(['day'])['user_id'].agg(Users_Daily =('nunique')).sort_values(by=['day'], ascending=True).plot.line()\n",
        "\n",
        "# Since weekday starts from 0 and ends at 6, marking 5,6 as weekend and rest as weekday\n",
        "#pd_df.set_index('Date', inplace=True, drop=True)\n",
        "df_weekend = Shopping_Dec.copy()\n",
        "df_weekend.set_index('date', inplace=True)\n",
        "df_weekend = df_weekend[df_weekend.weekday>4]\n",
        "df_weekday = Shopping_Dec.copy()\n",
        "df_weekday.set_index('date', inplace=True)\n",
        "df_weekday = df_weekday[df_weekday.weekday<=4]\n",
        "#df_weekday\n",
        "#df_weekday['date'].unique().tolist()\n",
        "\n",
        "\n",
        "# Create distinct dataframes\n",
        "visitors_weekend = df_weekend.groupby('weekday')['user_id'].nunique()\n",
        "visitors_weekday = df_weekday.groupby('weekday')['user_id'].nunique()\n",
        "\n",
        "# Plot on graph to visualize\n",
        "\n",
        "fig = go.Figure()\n",
        "fig.add_trace(go.Scatter(\n",
        "            x=visitors_weekend.index.tolist(), y=visitors_weekend.values.tolist(),mode=\"lines+markers\", name=\"Weekends\",marker=dict(size=visitors_weekend.values//1500)))\n",
        "fig.add_trace(go.Scatter(\n",
        "            x=visitors_weekday.index.tolist(), y=visitors_weekday.values.tolist(),mode=\"markers\",name=\"Weekdays\",marker=dict(size=visitors_weekday.values//1500)))\n",
        "fig.update_layout(title=\"Daily visits as per Day-of-Week\", xaxis_title=\"December\",yaxis_title=\"Frequency\")\n",
        "fig.show()\n",
        "\n",
        "\n",
        "\n"
      ],
      "metadata": {
        "colab": {
          "base_uri": "https://localhost:8080/",
          "height": 542
        },
        "id": "mLtCj5UwOYkn",
        "outputId": "41f07430-7be6-4a81-83a2-81efe0b812e2"
      },
      "execution_count": 125,
      "outputs": [
        {
          "output_type": "display_data",
          "data": {
            "text/html": [
              "<html>\n",
              "<head><meta charset=\"utf-8\" /></head>\n",
              "<body>\n",
              "    <div>            <script src=\"https://cdnjs.cloudflare.com/ajax/libs/mathjax/2.7.5/MathJax.js?config=TeX-AMS-MML_SVG\"></script><script type=\"text/javascript\">if (window.MathJax) {MathJax.Hub.Config({SVG: {font: \"STIX-Web\"}});}</script>                <script type=\"text/javascript\">window.PlotlyConfig = {MathJaxConfig: 'local'};</script>\n",
              "        <script src=\"https://cdn.plot.ly/plotly-2.8.3.min.js\"></script>                <div id=\"a0140e5e-509f-4934-bfc5-2fcb7bbcc56c\" class=\"plotly-graph-div\" style=\"height:525px; width:100%;\"></div>            <script type=\"text/javascript\">                                    window.PLOTLYENV=window.PLOTLYENV || {};                                    if (document.getElementById(\"a0140e5e-509f-4934-bfc5-2fcb7bbcc56c\")) {                    Plotly.newPlot(                        \"a0140e5e-509f-4934-bfc5-2fcb7bbcc56c\",                        [{\"marker\":{\"size\":[39,51]},\"mode\":\"lines+markers\",\"name\":\"Weekends\",\"x\":[5,6],\"y\":[59062,77151],\"type\":\"scatter\"},{\"marker\":{\"size\":[55,50,46,44,41]},\"mode\":\"markers\",\"name\":\"Weekdays\",\"x\":[0,1,2,3,4],\"y\":[83085,75698,69745,66581,61720],\"type\":\"scatter\"}],                        {\"template\":{\"data\":{\"bar\":[{\"error_x\":{\"color\":\"#2a3f5f\"},\"error_y\":{\"color\":\"#2a3f5f\"},\"marker\":{\"line\":{\"color\":\"#E5ECF6\",\"width\":0.5},\"pattern\":{\"fillmode\":\"overlay\",\"size\":10,\"solidity\":0.2}},\"type\":\"bar\"}],\"barpolar\":[{\"marker\":{\"line\":{\"color\":\"#E5ECF6\",\"width\":0.5},\"pattern\":{\"fillmode\":\"overlay\",\"size\":10,\"solidity\":0.2}},\"type\":\"barpolar\"}],\"carpet\":[{\"aaxis\":{\"endlinecolor\":\"#2a3f5f\",\"gridcolor\":\"white\",\"linecolor\":\"white\",\"minorgridcolor\":\"white\",\"startlinecolor\":\"#2a3f5f\"},\"baxis\":{\"endlinecolor\":\"#2a3f5f\",\"gridcolor\":\"white\",\"linecolor\":\"white\",\"minorgridcolor\":\"white\",\"startlinecolor\":\"#2a3f5f\"},\"type\":\"carpet\"}],\"choropleth\":[{\"colorbar\":{\"outlinewidth\":0,\"ticks\":\"\"},\"type\":\"choropleth\"}],\"contour\":[{\"colorbar\":{\"outlinewidth\":0,\"ticks\":\"\"},\"colorscale\":[[0.0,\"#0d0887\"],[0.1111111111111111,\"#46039f\"],[0.2222222222222222,\"#7201a8\"],[0.3333333333333333,\"#9c179e\"],[0.4444444444444444,\"#bd3786\"],[0.5555555555555556,\"#d8576b\"],[0.6666666666666666,\"#ed7953\"],[0.7777777777777778,\"#fb9f3a\"],[0.8888888888888888,\"#fdca26\"],[1.0,\"#f0f921\"]],\"type\":\"contour\"}],\"contourcarpet\":[{\"colorbar\":{\"outlinewidth\":0,\"ticks\":\"\"},\"type\":\"contourcarpet\"}],\"heatmap\":[{\"colorbar\":{\"outlinewidth\":0,\"ticks\":\"\"},\"colorscale\":[[0.0,\"#0d0887\"],[0.1111111111111111,\"#46039f\"],[0.2222222222222222,\"#7201a8\"],[0.3333333333333333,\"#9c179e\"],[0.4444444444444444,\"#bd3786\"],[0.5555555555555556,\"#d8576b\"],[0.6666666666666666,\"#ed7953\"],[0.7777777777777778,\"#fb9f3a\"],[0.8888888888888888,\"#fdca26\"],[1.0,\"#f0f921\"]],\"type\":\"heatmap\"}],\"heatmapgl\":[{\"colorbar\":{\"outlinewidth\":0,\"ticks\":\"\"},\"colorscale\":[[0.0,\"#0d0887\"],[0.1111111111111111,\"#46039f\"],[0.2222222222222222,\"#7201a8\"],[0.3333333333333333,\"#9c179e\"],[0.4444444444444444,\"#bd3786\"],[0.5555555555555556,\"#d8576b\"],[0.6666666666666666,\"#ed7953\"],[0.7777777777777778,\"#fb9f3a\"],[0.8888888888888888,\"#fdca26\"],[1.0,\"#f0f921\"]],\"type\":\"heatmapgl\"}],\"histogram\":[{\"marker\":{\"pattern\":{\"fillmode\":\"overlay\",\"size\":10,\"solidity\":0.2}},\"type\":\"histogram\"}],\"histogram2d\":[{\"colorbar\":{\"outlinewidth\":0,\"ticks\":\"\"},\"colorscale\":[[0.0,\"#0d0887\"],[0.1111111111111111,\"#46039f\"],[0.2222222222222222,\"#7201a8\"],[0.3333333333333333,\"#9c179e\"],[0.4444444444444444,\"#bd3786\"],[0.5555555555555556,\"#d8576b\"],[0.6666666666666666,\"#ed7953\"],[0.7777777777777778,\"#fb9f3a\"],[0.8888888888888888,\"#fdca26\"],[1.0,\"#f0f921\"]],\"type\":\"histogram2d\"}],\"histogram2dcontour\":[{\"colorbar\":{\"outlinewidth\":0,\"ticks\":\"\"},\"colorscale\":[[0.0,\"#0d0887\"],[0.1111111111111111,\"#46039f\"],[0.2222222222222222,\"#7201a8\"],[0.3333333333333333,\"#9c179e\"],[0.4444444444444444,\"#bd3786\"],[0.5555555555555556,\"#d8576b\"],[0.6666666666666666,\"#ed7953\"],[0.7777777777777778,\"#fb9f3a\"],[0.8888888888888888,\"#fdca26\"],[1.0,\"#f0f921\"]],\"type\":\"histogram2dcontour\"}],\"mesh3d\":[{\"colorbar\":{\"outlinewidth\":0,\"ticks\":\"\"},\"type\":\"mesh3d\"}],\"parcoords\":[{\"line\":{\"colorbar\":{\"outlinewidth\":0,\"ticks\":\"\"}},\"type\":\"parcoords\"}],\"pie\":[{\"automargin\":true,\"type\":\"pie\"}],\"scatter\":[{\"marker\":{\"colorbar\":{\"outlinewidth\":0,\"ticks\":\"\"}},\"type\":\"scatter\"}],\"scatter3d\":[{\"line\":{\"colorbar\":{\"outlinewidth\":0,\"ticks\":\"\"}},\"marker\":{\"colorbar\":{\"outlinewidth\":0,\"ticks\":\"\"}},\"type\":\"scatter3d\"}],\"scattercarpet\":[{\"marker\":{\"colorbar\":{\"outlinewidth\":0,\"ticks\":\"\"}},\"type\":\"scattercarpet\"}],\"scattergeo\":[{\"marker\":{\"colorbar\":{\"outlinewidth\":0,\"ticks\":\"\"}},\"type\":\"scattergeo\"}],\"scattergl\":[{\"marker\":{\"colorbar\":{\"outlinewidth\":0,\"ticks\":\"\"}},\"type\":\"scattergl\"}],\"scattermapbox\":[{\"marker\":{\"colorbar\":{\"outlinewidth\":0,\"ticks\":\"\"}},\"type\":\"scattermapbox\"}],\"scatterpolar\":[{\"marker\":{\"colorbar\":{\"outlinewidth\":0,\"ticks\":\"\"}},\"type\":\"scatterpolar\"}],\"scatterpolargl\":[{\"marker\":{\"colorbar\":{\"outlinewidth\":0,\"ticks\":\"\"}},\"type\":\"scatterpolargl\"}],\"scatterternary\":[{\"marker\":{\"colorbar\":{\"outlinewidth\":0,\"ticks\":\"\"}},\"type\":\"scatterternary\"}],\"surface\":[{\"colorbar\":{\"outlinewidth\":0,\"ticks\":\"\"},\"colorscale\":[[0.0,\"#0d0887\"],[0.1111111111111111,\"#46039f\"],[0.2222222222222222,\"#7201a8\"],[0.3333333333333333,\"#9c179e\"],[0.4444444444444444,\"#bd3786\"],[0.5555555555555556,\"#d8576b\"],[0.6666666666666666,\"#ed7953\"],[0.7777777777777778,\"#fb9f3a\"],[0.8888888888888888,\"#fdca26\"],[1.0,\"#f0f921\"]],\"type\":\"surface\"}],\"table\":[{\"cells\":{\"fill\":{\"color\":\"#EBF0F8\"},\"line\":{\"color\":\"white\"}},\"header\":{\"fill\":{\"color\":\"#C8D4E3\"},\"line\":{\"color\":\"white\"}},\"type\":\"table\"}]},\"layout\":{\"annotationdefaults\":{\"arrowcolor\":\"#2a3f5f\",\"arrowhead\":0,\"arrowwidth\":1},\"autotypenumbers\":\"strict\",\"coloraxis\":{\"colorbar\":{\"outlinewidth\":0,\"ticks\":\"\"}},\"colorscale\":{\"diverging\":[[0,\"#8e0152\"],[0.1,\"#c51b7d\"],[0.2,\"#de77ae\"],[0.3,\"#f1b6da\"],[0.4,\"#fde0ef\"],[0.5,\"#f7f7f7\"],[0.6,\"#e6f5d0\"],[0.7,\"#b8e186\"],[0.8,\"#7fbc41\"],[0.9,\"#4d9221\"],[1,\"#276419\"]],\"sequential\":[[0.0,\"#0d0887\"],[0.1111111111111111,\"#46039f\"],[0.2222222222222222,\"#7201a8\"],[0.3333333333333333,\"#9c179e\"],[0.4444444444444444,\"#bd3786\"],[0.5555555555555556,\"#d8576b\"],[0.6666666666666666,\"#ed7953\"],[0.7777777777777778,\"#fb9f3a\"],[0.8888888888888888,\"#fdca26\"],[1.0,\"#f0f921\"]],\"sequentialminus\":[[0.0,\"#0d0887\"],[0.1111111111111111,\"#46039f\"],[0.2222222222222222,\"#7201a8\"],[0.3333333333333333,\"#9c179e\"],[0.4444444444444444,\"#bd3786\"],[0.5555555555555556,\"#d8576b\"],[0.6666666666666666,\"#ed7953\"],[0.7777777777777778,\"#fb9f3a\"],[0.8888888888888888,\"#fdca26\"],[1.0,\"#f0f921\"]]},\"colorway\":[\"#636efa\",\"#EF553B\",\"#00cc96\",\"#ab63fa\",\"#FFA15A\",\"#19d3f3\",\"#FF6692\",\"#B6E880\",\"#FF97FF\",\"#FECB52\"],\"font\":{\"color\":\"#2a3f5f\"},\"geo\":{\"bgcolor\":\"white\",\"lakecolor\":\"white\",\"landcolor\":\"#E5ECF6\",\"showlakes\":true,\"showland\":true,\"subunitcolor\":\"white\"},\"hoverlabel\":{\"align\":\"left\"},\"hovermode\":\"closest\",\"mapbox\":{\"style\":\"light\"},\"paper_bgcolor\":\"white\",\"plot_bgcolor\":\"#E5ECF6\",\"polar\":{\"angularaxis\":{\"gridcolor\":\"white\",\"linecolor\":\"white\",\"ticks\":\"\"},\"bgcolor\":\"#E5ECF6\",\"radialaxis\":{\"gridcolor\":\"white\",\"linecolor\":\"white\",\"ticks\":\"\"}},\"scene\":{\"xaxis\":{\"backgroundcolor\":\"#E5ECF6\",\"gridcolor\":\"white\",\"gridwidth\":2,\"linecolor\":\"white\",\"showbackground\":true,\"ticks\":\"\",\"zerolinecolor\":\"white\"},\"yaxis\":{\"backgroundcolor\":\"#E5ECF6\",\"gridcolor\":\"white\",\"gridwidth\":2,\"linecolor\":\"white\",\"showbackground\":true,\"ticks\":\"\",\"zerolinecolor\":\"white\"},\"zaxis\":{\"backgroundcolor\":\"#E5ECF6\",\"gridcolor\":\"white\",\"gridwidth\":2,\"linecolor\":\"white\",\"showbackground\":true,\"ticks\":\"\",\"zerolinecolor\":\"white\"}},\"shapedefaults\":{\"line\":{\"color\":\"#2a3f5f\"}},\"ternary\":{\"aaxis\":{\"gridcolor\":\"white\",\"linecolor\":\"white\",\"ticks\":\"\"},\"baxis\":{\"gridcolor\":\"white\",\"linecolor\":\"white\",\"ticks\":\"\"},\"bgcolor\":\"#E5ECF6\",\"caxis\":{\"gridcolor\":\"white\",\"linecolor\":\"white\",\"ticks\":\"\"}},\"title\":{\"x\":0.05},\"xaxis\":{\"automargin\":true,\"gridcolor\":\"white\",\"linecolor\":\"white\",\"ticks\":\"\",\"title\":{\"standoff\":15},\"zerolinecolor\":\"white\",\"zerolinewidth\":2},\"yaxis\":{\"automargin\":true,\"gridcolor\":\"white\",\"linecolor\":\"white\",\"ticks\":\"\",\"title\":{\"standoff\":15},\"zerolinecolor\":\"white\",\"zerolinewidth\":2}}},\"title\":{\"text\":\"Daily visits as per Day-of-Week\"},\"xaxis\":{\"title\":{\"text\":\"December\"}},\"yaxis\":{\"title\":{\"text\":\"Frequency\"}}},                        {\"responsive\": true}                    ).then(function(){\n",
              "                            \n",
              "var gd = document.getElementById('a0140e5e-509f-4934-bfc5-2fcb7bbcc56c');\n",
              "var x = new MutationObserver(function (mutations, observer) {{\n",
              "        var display = window.getComputedStyle(gd).display;\n",
              "        if (!display || display === 'none') {{\n",
              "            console.log([gd, 'removed!']);\n",
              "            Plotly.purge(gd);\n",
              "            observer.disconnect();\n",
              "        }}\n",
              "}});\n",
              "\n",
              "// Listen for the removal of the full notebook cells\n",
              "var notebookContainer = gd.closest('#notebook-container');\n",
              "if (notebookContainer) {{\n",
              "    x.observe(notebookContainer, {childList: true});\n",
              "}}\n",
              "\n",
              "// Listen for the clearing of the current output cell\n",
              "var outputEl = gd.closest('.output');\n",
              "if (outputEl) {{\n",
              "    x.observe(outputEl, {childList: true});\n",
              "}}\n",
              "\n",
              "                        })                };                            </script>        </div>\n",
              "</body>\n",
              "</html>"
            ]
          },
          "metadata": {}
        }
      ]
    },
    {
      "cell_type": "markdown",
      "source": [
        "Visits to the website spike during Sun-Mon period, with Monday being the period with the highest visits. \n",
        "Another interesting observation is how the trend shows a waning interest throughout the week, only to spike after Saturday.\n",
        "\n",
        "# Recommendation:\n",
        "Contrary to conventional marketing wisdom, **weekends** as a whole **aren't very fruitful** for this website. So more efforts should be concentrated during **Sunday** and **Monday**, with weekday efforts restricted to the time windows identified in the previous analysis."
      ],
      "metadata": {
        "id": "vaSkaBfUP_Jj"
      }
    },
    {
      "cell_type": "code",
      "source": [
        "# Checking for high order value based on hours\n",
        "order_val_date_hr=Shopping_Dec[Shopping_Dec['event_type']=='purchase'].groupby(['date','hours'],as_index=False)['price'].sum()\n",
        "order_val_date_hr.columns=['date','hours','order_val']\n",
        "order_val_date_hr['hours']=order_val_date_hr['hours'].astype(str)\n",
        "order_val_date_hr['date']=order_val_date_hr['date'].astype(str)\n",
        "\n",
        "fig = make_subplots(\n",
        "    rows=2, cols=1,\n",
        "    column_widths=[1.0],\n",
        "    row_heights=[0.5, 0.5],\n",
        "    specs=[[{\"type\": \"histogram2d\"}],\n",
        "           [{\"type\": \"histogram2dcontour\"}]])\n",
        "fig.add_trace(\n",
        "    go.Histogram2d(\n",
        "        x = order_val_date_hr[\"date\"],\n",
        "        y = order_val_date_hr[\"hours\"],\n",
        "        z = order_val_date_hr[\"order_val\"],\n",
        "        colorbar=dict(len=0.5, y=0.8,title=\"Total Order Value\"),\n",
        "        histfunc = \"sum\",\n",
        "        colorscale = \"Electric\",\n",
        "        nbinsx = 31,\n",
        "        nbinsy=24),\n",
        "    row=1,col=1)\n",
        "fig.add_trace(\n",
        "    go.Histogram2dContour(\n",
        "        x = order_val_date_hr[\"date\"],\n",
        "        y = order_val_date_hr[\"hours\"],\n",
        "        z = order_val_date_hr[\"order_val\"],\n",
        "        colorbar=dict(len=0.5, y=0.25,title=\"Total Order Value\",tickmode=\"array\",\n",
        "        tickvals=[20000,40000,60000,80000,100000,120000],),\n",
        "        histfunc = \"sum\",\n",
        "        showlegend=False,\n",
        "        colorscale = \"Electric\",\n",
        "        contours = dict(\n",
        "            showlabels = True),\n",
        "        nbinsx=31,\n",
        "        nbinsy=24),\n",
        "    row=2,col=1)\n",
        "\n",
        "\n",
        "fig.update_layout(\n",
        "    template=\"simple_white\",\n",
        "    margin=dict(r=50, t=50, b=50, l=50),\n",
        "    height=600,\n",
        "    showlegend=False,\n",
        "    title={'xanchor': 'center',\n",
        "           'yanchor': 'top',        \n",
        "            'y':1,\n",
        "            'x':0.5,\n",
        "           'text':\"Hourly sales during December\"}\n",
        ")\n",
        "fig.update_yaxes(title_text='Hours',ticks=\"inside\")\n",
        "fig.update_xaxes(title_text='Date',ticks=\"inside\")\n",
        "fig.show()"
      ],
      "metadata": {
        "colab": {
          "base_uri": "https://localhost:8080/",
          "height": 617
        },
        "id": "3DcctgdTbhGI",
        "outputId": "7a1b6007-4608-4ba0-de6c-7d23cd8cde09"
      },
      "execution_count": 137,
      "outputs": [
        {
          "output_type": "display_data",
          "data": {
            "text/html": [
              "<html>\n",
              "<head><meta charset=\"utf-8\" /></head>\n",
              "<body>\n",
              "    <div>            <script src=\"https://cdnjs.cloudflare.com/ajax/libs/mathjax/2.7.5/MathJax.js?config=TeX-AMS-MML_SVG\"></script><script type=\"text/javascript\">if (window.MathJax) {MathJax.Hub.Config({SVG: {font: \"STIX-Web\"}});}</script>                <script type=\"text/javascript\">window.PlotlyConfig = {MathJaxConfig: 'local'};</script>\n",
              "        <script src=\"https://cdn.plot.ly/plotly-2.8.3.min.js\"></script>                <div id=\"54dd514c-a87a-41bd-9f71-ab819ec5eeb8\" class=\"plotly-graph-div\" style=\"height:600px; width:100%;\"></div>            <script type=\"text/javascript\">                                    window.PLOTLYENV=window.PLOTLYENV || {};                                    if (document.getElementById(\"54dd514c-a87a-41bd-9f71-ab819ec5eeb8\")) {                    Plotly.newPlot(                        \"54dd514c-a87a-41bd-9f71-ab819ec5eeb8\",                        [{\"colorbar\":{\"len\":0.5,\"title\":{\"text\":\"Total Order Value\"},\"y\":0.8},\"colorscale\":[[0.0,\"rgb(0,0,0)\"],[0.2,\"rgb(30,0,100)\"],[0.4,\"rgb(120,0,100)\"],[0.6,\"rgb(160,90,0)\"],[0.8,\"rgb(230,200,0)\"],[1.0,\"rgb(255,250,220)\"]],\"histfunc\":\"sum\",\"nbinsx\":31,\"nbinsy\":24,\"x\":[\"2019-12-01\",\"2019-12-01\",\"2019-12-01\",\"2019-12-01\",\"2019-12-01\",\"2019-12-01\",\"2019-12-01\",\"2019-12-01\",\"2019-12-01\",\"2019-12-01\",\"2019-12-01\",\"2019-12-01\",\"2019-12-01\",\"2019-12-01\",\"2019-12-01\",\"2019-12-01\",\"2019-12-01\",\"2019-12-01\",\"2019-12-01\",\"2019-12-01\",\"2019-12-01\",\"2019-12-01\",\"2019-12-01\",\"2019-12-01\",\"2019-12-02\",\"2019-12-02\",\"2019-12-02\",\"2019-12-02\",\"2019-12-02\",\"2019-12-02\",\"2019-12-02\",\"2019-12-02\",\"2019-12-02\",\"2019-12-02\",\"2019-12-02\",\"2019-12-02\",\"2019-12-02\",\"2019-12-02\",\"2019-12-02\",\"2019-12-02\",\"2019-12-02\",\"2019-12-02\",\"2019-12-02\",\"2019-12-02\",\"2019-12-02\",\"2019-12-02\",\"2019-12-02\",\"2019-12-02\",\"2019-12-03\",\"2019-12-03\",\"2019-12-03\",\"2019-12-03\",\"2019-12-03\",\"2019-12-03\",\"2019-12-03\",\"2019-12-03\",\"2019-12-03\",\"2019-12-03\",\"2019-12-03\",\"2019-12-03\",\"2019-12-03\",\"2019-12-03\",\"2019-12-03\",\"2019-12-03\",\"2019-12-03\",\"2019-12-03\",\"2019-12-03\",\"2019-12-03\",\"2019-12-03\",\"2019-12-03\",\"2019-12-03\",\"2019-12-03\",\"2019-12-04\",\"2019-12-04\",\"2019-12-04\",\"2019-12-04\",\"2019-12-04\",\"2019-12-04\",\"2019-12-04\",\"2019-12-04\",\"2019-12-04\",\"2019-12-04\",\"2019-12-04\",\"2019-12-04\",\"2019-12-04\",\"2019-12-04\",\"2019-12-04\",\"2019-12-04\",\"2019-12-04\",\"2019-12-04\",\"2019-12-04\",\"2019-12-04\",\"2019-12-04\",\"2019-12-04\",\"2019-12-04\",\"2019-12-04\",\"2019-12-05\",\"2019-12-05\",\"2019-12-05\",\"2019-12-05\",\"2019-12-05\",\"2019-12-05\",\"2019-12-05\",\"2019-12-05\",\"2019-12-05\",\"2019-12-05\",\"2019-12-05\",\"2019-12-05\",\"2019-12-05\",\"2019-12-05\",\"2019-12-05\",\"2019-12-05\",\"2019-12-05\",\"2019-12-05\",\"2019-12-05\",\"2019-12-05\",\"2019-12-05\",\"2019-12-05\",\"2019-12-05\",\"2019-12-05\",\"2019-12-06\",\"2019-12-06\",\"2019-12-06\",\"2019-12-06\",\"2019-12-06\",\"2019-12-06\",\"2019-12-06\",\"2019-12-06\",\"2019-12-06\",\"2019-12-06\",\"2019-12-06\",\"2019-12-06\",\"2019-12-06\",\"2019-12-06\",\"2019-12-06\",\"2019-12-06\",\"2019-12-06\",\"2019-12-06\",\"2019-12-06\",\"2019-12-06\",\"2019-12-06\",\"2019-12-06\",\"2019-12-06\",\"2019-12-06\",\"2019-12-07\",\"2019-12-07\",\"2019-12-07\",\"2019-12-07\",\"2019-12-07\",\"2019-12-07\",\"2019-12-07\",\"2019-12-07\",\"2019-12-07\",\"2019-12-07\",\"2019-12-07\",\"2019-12-07\",\"2019-12-07\",\"2019-12-07\",\"2019-12-07\",\"2019-12-07\",\"2019-12-07\",\"2019-12-07\",\"2019-12-07\",\"2019-12-07\",\"2019-12-07\",\"2019-12-07\",\"2019-12-07\",\"2019-12-07\",\"2019-12-08\",\"2019-12-08\",\"2019-12-08\",\"2019-12-08\",\"2019-12-08\",\"2019-12-08\",\"2019-12-08\",\"2019-12-08\",\"2019-12-08\",\"2019-12-08\",\"2019-12-08\",\"2019-12-08\",\"2019-12-08\",\"2019-12-08\",\"2019-12-08\",\"2019-12-08\",\"2019-12-08\",\"2019-12-08\",\"2019-12-08\",\"2019-12-08\",\"2019-12-08\",\"2019-12-08\",\"2019-12-08\",\"2019-12-08\",\"2019-12-09\",\"2019-12-09\",\"2019-12-09\",\"2019-12-09\",\"2019-12-09\",\"2019-12-09\",\"2019-12-09\",\"2019-12-09\",\"2019-12-09\",\"2019-12-09\",\"2019-12-09\",\"2019-12-09\",\"2019-12-09\",\"2019-12-09\",\"2019-12-09\",\"2019-12-09\",\"2019-12-09\",\"2019-12-09\",\"2019-12-09\",\"2019-12-09\",\"2019-12-09\",\"2019-12-09\",\"2019-12-09\",\"2019-12-09\",\"2019-12-10\",\"2019-12-10\",\"2019-12-10\",\"2019-12-10\",\"2019-12-10\",\"2019-12-10\",\"2019-12-10\",\"2019-12-10\",\"2019-12-10\",\"2019-12-10\",\"2019-12-10\",\"2019-12-10\",\"2019-12-10\",\"2019-12-10\",\"2019-12-10\",\"2019-12-10\",\"2019-12-10\",\"2019-12-10\",\"2019-12-10\",\"2019-12-10\",\"2019-12-10\",\"2019-12-10\",\"2019-12-10\",\"2019-12-10\",\"2019-12-11\",\"2019-12-11\",\"2019-12-11\",\"2019-12-11\",\"2019-12-11\",\"2019-12-11\",\"2019-12-11\",\"2019-12-11\",\"2019-12-11\",\"2019-12-11\",\"2019-12-11\",\"2019-12-11\",\"2019-12-11\",\"2019-12-11\",\"2019-12-11\",\"2019-12-11\",\"2019-12-11\",\"2019-12-11\",\"2019-12-11\",\"2019-12-11\",\"2019-12-11\",\"2019-12-11\",\"2019-12-11\",\"2019-12-11\",\"2019-12-12\",\"2019-12-12\",\"2019-12-12\",\"2019-12-12\",\"2019-12-12\",\"2019-12-12\",\"2019-12-12\",\"2019-12-12\",\"2019-12-12\",\"2019-12-12\",\"2019-12-12\",\"2019-12-12\",\"2019-12-12\",\"2019-12-12\",\"2019-12-12\",\"2019-12-12\",\"2019-12-12\",\"2019-12-12\",\"2019-12-12\",\"2019-12-12\",\"2019-12-12\",\"2019-12-12\",\"2019-12-12\",\"2019-12-12\",\"2019-12-13\",\"2019-12-13\",\"2019-12-13\",\"2019-12-13\",\"2019-12-13\",\"2019-12-13\",\"2019-12-13\",\"2019-12-13\",\"2019-12-13\",\"2019-12-13\",\"2019-12-13\",\"2019-12-13\",\"2019-12-13\",\"2019-12-13\",\"2019-12-13\",\"2019-12-13\",\"2019-12-13\",\"2019-12-13\",\"2019-12-13\",\"2019-12-13\",\"2019-12-13\",\"2019-12-13\",\"2019-12-13\",\"2019-12-13\",\"2019-12-14\",\"2019-12-14\",\"2019-12-14\",\"2019-12-14\",\"2019-12-14\",\"2019-12-14\",\"2019-12-14\",\"2019-12-14\",\"2019-12-14\",\"2019-12-14\",\"2019-12-14\",\"2019-12-14\",\"2019-12-14\",\"2019-12-14\",\"2019-12-14\",\"2019-12-14\",\"2019-12-14\",\"2019-12-14\",\"2019-12-14\",\"2019-12-14\",\"2019-12-14\",\"2019-12-14\",\"2019-12-14\",\"2019-12-14\",\"2019-12-15\",\"2019-12-15\",\"2019-12-15\",\"2019-12-15\",\"2019-12-15\",\"2019-12-15\",\"2019-12-15\",\"2019-12-15\",\"2019-12-15\",\"2019-12-15\",\"2019-12-15\",\"2019-12-15\",\"2019-12-15\",\"2019-12-15\",\"2019-12-15\",\"2019-12-15\",\"2019-12-15\",\"2019-12-15\",\"2019-12-15\",\"2019-12-15\",\"2019-12-15\",\"2019-12-15\",\"2019-12-15\",\"2019-12-15\",\"2019-12-16\",\"2019-12-16\",\"2019-12-16\",\"2019-12-16\",\"2019-12-16\",\"2019-12-16\",\"2019-12-16\",\"2019-12-16\",\"2019-12-16\",\"2019-12-16\",\"2019-12-16\",\"2019-12-16\",\"2019-12-16\",\"2019-12-16\",\"2019-12-16\",\"2019-12-16\",\"2019-12-16\",\"2019-12-16\",\"2019-12-16\",\"2019-12-16\",\"2019-12-16\",\"2019-12-16\",\"2019-12-16\",\"2019-12-16\",\"2019-12-17\",\"2019-12-17\",\"2019-12-17\",\"2019-12-17\",\"2019-12-17\",\"2019-12-17\",\"2019-12-17\",\"2019-12-17\",\"2019-12-17\",\"2019-12-17\",\"2019-12-17\",\"2019-12-17\",\"2019-12-17\",\"2019-12-17\",\"2019-12-17\",\"2019-12-17\",\"2019-12-17\",\"2019-12-17\",\"2019-12-17\",\"2019-12-17\",\"2019-12-17\",\"2019-12-17\",\"2019-12-17\",\"2019-12-17\",\"2019-12-18\",\"2019-12-18\",\"2019-12-18\",\"2019-12-18\",\"2019-12-18\",\"2019-12-18\",\"2019-12-18\",\"2019-12-18\",\"2019-12-18\",\"2019-12-18\",\"2019-12-18\",\"2019-12-18\",\"2019-12-18\",\"2019-12-18\",\"2019-12-18\",\"2019-12-18\",\"2019-12-18\",\"2019-12-18\",\"2019-12-18\",\"2019-12-18\",\"2019-12-18\",\"2019-12-18\",\"2019-12-18\",\"2019-12-18\",\"2019-12-19\",\"2019-12-19\",\"2019-12-19\",\"2019-12-19\",\"2019-12-19\",\"2019-12-19\",\"2019-12-19\",\"2019-12-19\",\"2019-12-19\",\"2019-12-19\",\"2019-12-19\",\"2019-12-19\",\"2019-12-19\",\"2019-12-19\",\"2019-12-19\",\"2019-12-19\",\"2019-12-19\",\"2019-12-19\",\"2019-12-19\",\"2019-12-19\",\"2019-12-19\",\"2019-12-19\",\"2019-12-19\",\"2019-12-19\",\"2019-12-20\",\"2019-12-20\",\"2019-12-20\",\"2019-12-20\",\"2019-12-20\",\"2019-12-20\",\"2019-12-20\",\"2019-12-20\",\"2019-12-20\",\"2019-12-20\",\"2019-12-20\",\"2019-12-20\",\"2019-12-20\",\"2019-12-20\",\"2019-12-20\",\"2019-12-20\",\"2019-12-20\",\"2019-12-20\",\"2019-12-20\",\"2019-12-20\",\"2019-12-20\",\"2019-12-20\",\"2019-12-20\",\"2019-12-20\",\"2019-12-21\",\"2019-12-21\",\"2019-12-21\",\"2019-12-21\",\"2019-12-21\",\"2019-12-21\",\"2019-12-21\",\"2019-12-21\",\"2019-12-21\",\"2019-12-21\",\"2019-12-21\",\"2019-12-21\",\"2019-12-21\",\"2019-12-21\",\"2019-12-21\",\"2019-12-21\",\"2019-12-21\",\"2019-12-21\",\"2019-12-21\",\"2019-12-21\",\"2019-12-21\",\"2019-12-21\",\"2019-12-21\",\"2019-12-21\",\"2019-12-22\",\"2019-12-22\",\"2019-12-22\",\"2019-12-22\",\"2019-12-22\",\"2019-12-22\",\"2019-12-22\",\"2019-12-22\",\"2019-12-22\",\"2019-12-22\",\"2019-12-22\",\"2019-12-22\",\"2019-12-22\",\"2019-12-22\",\"2019-12-22\",\"2019-12-22\",\"2019-12-22\",\"2019-12-22\",\"2019-12-22\",\"2019-12-22\",\"2019-12-22\",\"2019-12-22\",\"2019-12-22\",\"2019-12-22\",\"2019-12-23\",\"2019-12-23\",\"2019-12-23\",\"2019-12-23\",\"2019-12-23\",\"2019-12-23\",\"2019-12-23\",\"2019-12-23\",\"2019-12-23\",\"2019-12-23\",\"2019-12-23\",\"2019-12-23\",\"2019-12-23\",\"2019-12-23\",\"2019-12-23\",\"2019-12-23\",\"2019-12-23\",\"2019-12-23\",\"2019-12-23\",\"2019-12-23\",\"2019-12-23\",\"2019-12-23\",\"2019-12-23\",\"2019-12-23\",\"2019-12-24\",\"2019-12-24\",\"2019-12-24\",\"2019-12-24\",\"2019-12-24\",\"2019-12-24\",\"2019-12-24\",\"2019-12-24\",\"2019-12-24\",\"2019-12-24\",\"2019-12-24\",\"2019-12-24\",\"2019-12-24\",\"2019-12-24\",\"2019-12-24\",\"2019-12-24\",\"2019-12-24\",\"2019-12-24\",\"2019-12-24\",\"2019-12-24\",\"2019-12-24\",\"2019-12-24\",\"2019-12-24\",\"2019-12-24\",\"2019-12-25\",\"2019-12-25\",\"2019-12-25\",\"2019-12-25\",\"2019-12-25\",\"2019-12-25\",\"2019-12-25\",\"2019-12-25\",\"2019-12-25\",\"2019-12-25\",\"2019-12-25\",\"2019-12-25\",\"2019-12-25\",\"2019-12-25\",\"2019-12-25\",\"2019-12-25\",\"2019-12-25\",\"2019-12-25\",\"2019-12-25\",\"2019-12-25\",\"2019-12-25\",\"2019-12-25\",\"2019-12-25\",\"2019-12-25\",\"2019-12-26\",\"2019-12-26\",\"2019-12-26\",\"2019-12-26\",\"2019-12-26\",\"2019-12-26\",\"2019-12-26\",\"2019-12-26\",\"2019-12-26\",\"2019-12-26\",\"2019-12-26\",\"2019-12-26\",\"2019-12-26\",\"2019-12-26\",\"2019-12-26\",\"2019-12-26\",\"2019-12-26\",\"2019-12-26\",\"2019-12-26\",\"2019-12-26\",\"2019-12-26\",\"2019-12-26\",\"2019-12-26\",\"2019-12-26\",\"2019-12-27\",\"2019-12-27\",\"2019-12-27\",\"2019-12-27\",\"2019-12-27\",\"2019-12-27\",\"2019-12-27\",\"2019-12-27\",\"2019-12-27\",\"2019-12-27\",\"2019-12-27\",\"2019-12-27\",\"2019-12-27\",\"2019-12-27\",\"2019-12-27\",\"2019-12-27\",\"2019-12-27\",\"2019-12-27\",\"2019-12-27\",\"2019-12-27\",\"2019-12-27\",\"2019-12-27\",\"2019-12-27\",\"2019-12-27\",\"2019-12-28\",\"2019-12-28\",\"2019-12-28\",\"2019-12-28\",\"2019-12-28\",\"2019-12-28\",\"2019-12-28\",\"2019-12-28\",\"2019-12-28\",\"2019-12-28\",\"2019-12-28\",\"2019-12-28\",\"2019-12-28\",\"2019-12-28\",\"2019-12-28\",\"2019-12-28\",\"2019-12-28\",\"2019-12-28\",\"2019-12-28\",\"2019-12-28\",\"2019-12-28\",\"2019-12-28\",\"2019-12-28\",\"2019-12-28\",\"2019-12-29\",\"2019-12-29\",\"2019-12-29\",\"2019-12-29\",\"2019-12-29\",\"2019-12-29\",\"2019-12-29\",\"2019-12-29\",\"2019-12-29\",\"2019-12-29\",\"2019-12-29\",\"2019-12-29\",\"2019-12-29\",\"2019-12-29\",\"2019-12-29\",\"2019-12-29\",\"2019-12-29\",\"2019-12-29\",\"2019-12-29\",\"2019-12-29\",\"2019-12-29\",\"2019-12-29\",\"2019-12-29\",\"2019-12-29\",\"2019-12-30\",\"2019-12-30\",\"2019-12-30\",\"2019-12-30\",\"2019-12-30\",\"2019-12-30\",\"2019-12-30\",\"2019-12-30\",\"2019-12-30\",\"2019-12-30\",\"2019-12-30\",\"2019-12-30\",\"2019-12-30\",\"2019-12-30\",\"2019-12-30\",\"2019-12-30\",\"2019-12-30\",\"2019-12-30\",\"2019-12-30\",\"2019-12-30\",\"2019-12-30\",\"2019-12-30\",\"2019-12-30\",\"2019-12-30\",\"2019-12-31\",\"2019-12-31\",\"2019-12-31\",\"2019-12-31\",\"2019-12-31\",\"2019-12-31\",\"2019-12-31\",\"2019-12-31\",\"2019-12-31\",\"2019-12-31\",\"2019-12-31\",\"2019-12-31\",\"2019-12-31\",\"2019-12-31\",\"2019-12-31\",\"2019-12-31\",\"2019-12-31\",\"2019-12-31\",\"2019-12-31\",\"2019-12-31\",\"2019-12-31\",\"2019-12-31\",\"2019-12-31\",\"2019-12-31\"],\"y\":[\"0\",\"1\",\"2\",\"3\",\"4\",\"5\",\"6\",\"7\",\"8\",\"9\",\"10\",\"11\",\"12\",\"13\",\"14\",\"15\",\"16\",\"17\",\"18\",\"19\",\"20\",\"21\",\"22\",\"23\",\"0\",\"1\",\"2\",\"3\",\"4\",\"5\",\"6\",\"7\",\"8\",\"9\",\"10\",\"11\",\"12\",\"13\",\"14\",\"15\",\"16\",\"17\",\"18\",\"19\",\"20\",\"21\",\"22\",\"23\",\"0\",\"1\",\"2\",\"3\",\"4\",\"5\",\"6\",\"7\",\"8\",\"9\",\"10\",\"11\",\"12\",\"13\",\"14\",\"15\",\"16\",\"17\",\"18\",\"19\",\"20\",\"21\",\"22\",\"23\",\"0\",\"1\",\"2\",\"3\",\"4\",\"5\",\"6\",\"7\",\"8\",\"9\",\"10\",\"11\",\"12\",\"13\",\"14\",\"15\",\"16\",\"17\",\"18\",\"19\",\"20\",\"21\",\"22\",\"23\",\"0\",\"1\",\"2\",\"3\",\"4\",\"5\",\"6\",\"7\",\"8\",\"9\",\"10\",\"11\",\"12\",\"13\",\"14\",\"15\",\"16\",\"17\",\"18\",\"19\",\"20\",\"21\",\"22\",\"23\",\"0\",\"1\",\"2\",\"3\",\"4\",\"5\",\"6\",\"7\",\"8\",\"9\",\"10\",\"11\",\"12\",\"13\",\"14\",\"15\",\"16\",\"17\",\"18\",\"19\",\"20\",\"21\",\"22\",\"23\",\"0\",\"1\",\"2\",\"3\",\"4\",\"5\",\"6\",\"7\",\"8\",\"9\",\"10\",\"11\",\"12\",\"13\",\"14\",\"15\",\"16\",\"17\",\"18\",\"19\",\"20\",\"21\",\"22\",\"23\",\"0\",\"1\",\"2\",\"3\",\"4\",\"5\",\"6\",\"7\",\"8\",\"9\",\"10\",\"11\",\"12\",\"13\",\"14\",\"15\",\"16\",\"17\",\"18\",\"19\",\"20\",\"21\",\"22\",\"23\",\"0\",\"1\",\"2\",\"3\",\"4\",\"5\",\"6\",\"7\",\"8\",\"9\",\"10\",\"11\",\"12\",\"13\",\"14\",\"15\",\"16\",\"17\",\"18\",\"19\",\"20\",\"21\",\"22\",\"23\",\"0\",\"1\",\"2\",\"3\",\"4\",\"5\",\"6\",\"7\",\"8\",\"9\",\"10\",\"11\",\"12\",\"13\",\"14\",\"15\",\"16\",\"17\",\"18\",\"19\",\"20\",\"21\",\"22\",\"23\",\"0\",\"1\",\"2\",\"3\",\"4\",\"5\",\"6\",\"7\",\"8\",\"9\",\"10\",\"11\",\"12\",\"13\",\"14\",\"15\",\"16\",\"17\",\"18\",\"19\",\"20\",\"21\",\"22\",\"23\",\"0\",\"1\",\"2\",\"3\",\"4\",\"5\",\"6\",\"7\",\"8\",\"9\",\"10\",\"11\",\"12\",\"13\",\"14\",\"15\",\"16\",\"17\",\"18\",\"19\",\"20\",\"21\",\"22\",\"23\",\"0\",\"1\",\"2\",\"3\",\"4\",\"5\",\"6\",\"7\",\"8\",\"9\",\"10\",\"11\",\"12\",\"13\",\"14\",\"15\",\"16\",\"17\",\"18\",\"19\",\"20\",\"21\",\"22\",\"23\",\"0\",\"1\",\"2\",\"3\",\"4\",\"5\",\"6\",\"7\",\"8\",\"9\",\"10\",\"11\",\"12\",\"13\",\"14\",\"15\",\"16\",\"17\",\"18\",\"19\",\"20\",\"21\",\"22\",\"23\",\"0\",\"1\",\"2\",\"3\",\"4\",\"5\",\"6\",\"7\",\"8\",\"9\",\"10\",\"11\",\"12\",\"13\",\"14\",\"15\",\"16\",\"17\",\"18\",\"19\",\"20\",\"21\",\"22\",\"23\",\"0\",\"1\",\"2\",\"3\",\"4\",\"5\",\"6\",\"7\",\"8\",\"9\",\"10\",\"11\",\"12\",\"13\",\"14\",\"15\",\"16\",\"17\",\"18\",\"19\",\"20\",\"21\",\"22\",\"23\",\"0\",\"1\",\"2\",\"3\",\"4\",\"5\",\"6\",\"7\",\"8\",\"9\",\"10\",\"11\",\"12\",\"13\",\"14\",\"15\",\"16\",\"17\",\"18\",\"19\",\"20\",\"21\",\"22\",\"23\",\"0\",\"1\",\"2\",\"3\",\"4\",\"5\",\"6\",\"7\",\"8\",\"9\",\"10\",\"11\",\"12\",\"13\",\"14\",\"15\",\"16\",\"17\",\"18\",\"19\",\"20\",\"21\",\"22\",\"23\",\"0\",\"1\",\"2\",\"3\",\"4\",\"5\",\"6\",\"7\",\"8\",\"9\",\"10\",\"11\",\"12\",\"13\",\"14\",\"15\",\"16\",\"17\",\"18\",\"19\",\"20\",\"21\",\"22\",\"23\",\"0\",\"1\",\"2\",\"3\",\"4\",\"5\",\"6\",\"7\",\"8\",\"9\",\"10\",\"11\",\"12\",\"13\",\"14\",\"15\",\"16\",\"17\",\"18\",\"19\",\"20\",\"21\",\"22\",\"23\",\"0\",\"1\",\"2\",\"3\",\"4\",\"5\",\"6\",\"7\",\"8\",\"9\",\"10\",\"11\",\"12\",\"13\",\"14\",\"15\",\"16\",\"17\",\"18\",\"19\",\"20\",\"21\",\"22\",\"23\",\"0\",\"1\",\"2\",\"3\",\"4\",\"5\",\"6\",\"7\",\"8\",\"9\",\"10\",\"11\",\"12\",\"13\",\"14\",\"15\",\"16\",\"17\",\"18\",\"19\",\"20\",\"21\",\"22\",\"23\",\"0\",\"1\",\"2\",\"3\",\"4\",\"5\",\"6\",\"7\",\"8\",\"9\",\"10\",\"11\",\"12\",\"13\",\"14\",\"15\",\"16\",\"17\",\"18\",\"19\",\"20\",\"21\",\"22\",\"23\",\"0\",\"1\",\"2\",\"3\",\"4\",\"5\",\"6\",\"7\",\"8\",\"9\",\"10\",\"11\",\"12\",\"13\",\"14\",\"15\",\"16\",\"17\",\"18\",\"19\",\"20\",\"21\",\"22\",\"23\",\"0\",\"1\",\"2\",\"3\",\"4\",\"5\",\"6\",\"7\",\"8\",\"9\",\"10\",\"11\",\"12\",\"13\",\"14\",\"15\",\"16\",\"17\",\"18\",\"19\",\"20\",\"21\",\"22\",\"23\",\"0\",\"1\",\"2\",\"3\",\"4\",\"5\",\"6\",\"7\",\"8\",\"9\",\"10\",\"11\",\"12\",\"13\",\"14\",\"15\",\"16\",\"17\",\"18\",\"19\",\"20\",\"21\",\"22\",\"23\",\"0\",\"1\",\"2\",\"3\",\"4\",\"5\",\"6\",\"7\",\"8\",\"9\",\"10\",\"11\",\"12\",\"13\",\"14\",\"15\",\"16\",\"17\",\"18\",\"19\",\"20\",\"21\",\"22\",\"23\",\"0\",\"1\",\"2\",\"3\",\"4\",\"5\",\"6\",\"7\",\"8\",\"9\",\"10\",\"11\",\"12\",\"13\",\"14\",\"15\",\"16\",\"17\",\"18\",\"19\",\"20\",\"21\",\"22\",\"23\",\"0\",\"1\",\"2\",\"3\",\"4\",\"5\",\"6\",\"7\",\"8\",\"9\",\"10\",\"11\",\"12\",\"13\",\"14\",\"15\",\"16\",\"17\",\"18\",\"19\",\"20\",\"21\",\"22\",\"23\",\"0\",\"1\",\"2\",\"3\",\"4\",\"5\",\"6\",\"7\",\"8\",\"9\",\"10\",\"11\",\"12\",\"13\",\"14\",\"15\",\"16\",\"17\",\"18\",\"19\",\"20\",\"21\",\"22\",\"23\",\"0\",\"1\",\"2\",\"3\",\"4\",\"5\",\"6\",\"7\",\"8\",\"9\",\"10\",\"11\",\"12\",\"13\",\"14\",\"15\",\"16\",\"17\",\"18\",\"19\",\"20\",\"21\",\"22\",\"23\"],\"z\":[366.26,605.17,232.9,863.73,276.38,778.64,998.22,1720.42,1207.86,1625.07,2128.88,1811.14,1838.8,1724.14,1555.08,2423.62,1646.52,2242.35,2286.55,1998.19,2272.77,1312.84,590.21,195.35999999999999,410.17,257.09,450.45,554.38,585.77,940.19,1640.5,2965.96,1977.74,2376.2000000000003,3199.6,3474.08,3181.13,2478.4700000000003,2036.74,1416.45,2003.51,1820.6,2026.04,2527.99,3499.59,1912.7,968.82,600.11,349.87,213.87,290.74,230.79,657.27,1458.25,1196.3600000000001,2485.28,2414.04,2152.2400000000002,2652.48,3185.6,3402.77,1841.05,2274.86,1914.59,2239.31,1527.13,1453.5,1413.61,1993.33,1505.02,1329.14,522.81,136.14000000000001,276.56,459.21,463.29,712.32,1284.54,1536.85,1947.71,2116.11,2909.42,3239.42,2750.79,2401.9700000000003,1926.69,2749.07,1922.86,2035.0,1942.81,2164.8,2141.65,1927.8,1975.28,1611.58,601.63,92.52,277.51,571.14,424.23,595.54,1343.65,1501.76,1678.4,2460.13,2237.47,3282.4900000000002,3089.21,2017.26,2324.2,2392.14,2167.39,1375.17,1552.59,1475.89,1950.03,1912.89,1459.4,961.71,236.98,520.43,86.76,355.23,266.27,403.53,869.79,2101.68,1246.38,3198.64,2182.83,2472.17,2829.98,1951.26,2822.75,2062.45,1979.33,1942.81,1597.9,1431.03,1846.37,1508.33,1251.2,1009.19,596.1,46.39,219.07999999999998,63.93,147.96,290.28,1061.25,1486.41,1085.15,1846.26,1802.94,1754.84,1356.48,2077.3,1477.77,1135.57,1652.51,1367.8,2181.08,1929.85,1339.48,1817.7,923.76,528.04,316.79,218.31,129.93,234.8,294.76,194.74,567.45,1145.03,1346.08,2364.01,2119.42,1745.81,1439.97,1870.69,2046.03,1765.32,2457.96,2233.54,1833.09,2329.51,1281.83,1827.88,776.28,977.14,862.8,339.86,427.66,240.86,549.58,522.35,1413.92,1458.5,1664.59,2630.9,2656.12,3120.7200000000003,3394.99,2733.71,3198.17,2780.15,2831.35,1843.1100000000001,2505.98,2588.55,2408.36,3288.64,1690.22,1266.61,423.3,399.72,112.79,699.4200000000001,876.75,802.9300000000001,1719.91,1515.7,2861.37,3192.6,3182.98,3270.04,3673.28,3051.34,3117.57,1804.3700000000001,2136.85,1926.34,2934.03,2198.38,2828.58,1880.56,1266.41,1866.3600000000001,223.99,387.86,285.05,209.15,903.6800000000001,629.93,1251.35,1498.35,2012.72,2364.44,2093.14,3037.13,3566.36,2866.46,2622.1,3072.67,2539.96,1737.57,2751.22,2903.99,2911.25,2675.58,1791.6,752.33,531.87,601.88,272.21999999999997,108.03999999999999,628.67,750.88,1677.46,1712.9,2888.02,3817.79,3991.81,3045.86,2884.52,1964.56,2412.6,2549.52,2005.52,1950.37,2681.75,1948.01,2627.67,1553.57,1661.09,782.72,434.01,180.71,232.73,203.29,680.08,498.96,865.43,2421.78,3034.0,2752.28,1480.48,3018.8,2340.3,2171.08,2070.66,2512.09,2021.27,2067.03,2540.43,1062.59,1795.47,1559.29,1201.96,924.66,291.39,171.18,70.18,224.41,234.95999999999998,526.71,674.58,900.21,1404.47,1446.26,1899.01,1806.78,1781.53,1702.92,2154.15,1740.9,1465.82,1443.92,1446.67,1785.32,1747.7,2201.34,2341.74,891.27,482.47,550.95,32.03,535.03,234.79,414.8,898.0,604.44,1410.16,1133.65,2205.02,2517.64,1669.21,3108.33,2834.79,1940.48,1767.32,1786.02,2283.85,2731.26,1899.27,2053.32,1312.62,1140.03,361.66,415.15,157.6,605.91,287.62,1121.1299999999999,1563.28,1654.08,2482.13,2600.13,2832.31,2803.83,4278.77,3326.72,3154.55,3110.55,2791.5,2256.36,2109.75,1748.74,2216.06,2617.28,1695.09,901.0,586.53,221.28,314.73,525.9,486.02,740.08,1293.8,1716.88,2462.15,2414.28,2902.11,2966.87,2677.42,1980.91,3032.17,1685.0,1834.7,2306.7,2875.27,2943.62,2505.42,2551.06,1933.02,968.16,417.02,253.43,321.37,333.09000000000003,606.27,406.70000000000005,1505.75,1760.63,2403.96,2436.55,2419.2000000000003,3101.32,3196.77,3916.98,2017.38,2759.22,1845.14,1399.6100000000001,2072.02,1963.39,1992.85,2942.25,996.36,1428.76,526.93,283.45,385.41,495.63,85.42,445.15,1513.14,1476.35,2647.22,2446.81,2049.02,2417.4,2532.23,2621.18,1702.09,2230.36,1627.29,1984.53,1826.2,1562.88,2688.06,1929.76,1288.79,1004.08,411.35,267.3,396.83,319.21,407.3,852.74,1104.56,1860.77,1839.58,2460.16,2484.71,2032.3700000000001,2115.08,2049.96,1932.59,1484.95,1627.29,2881.7400000000002,1023.91,1849.37,1679.69,1928.81,1080.76,813.95,424.08,180.07,215.41,131.98,384.96999999999997,563.77,772.83,1099.77,1531.21,1174.15,1390.8700000000001,2066.35,1899.2,1879.01,1644.82,1247.24,1408.82,2238.61,1678.2,1446.43,1849.25,1938.2,1322.14,346.5,369.9,258.75,774.42,572.05,174.78,501.48,823.92,584.16,923.72,1497.46,2026.13,1235.31,1753.09,1634.53,1271.03,1908.3700000000001,2018.36,2478.68,1399.63,3044.32,2559.65,2520.48,1490.8799999999999,1536.56,229.1,366.84,137.86,289.28000000000003,275.25,535.4,1074.3799999999999,1427.85,1613.89,1968.52,1890.44,2761.51,2778.51,2612.05,2357.19,2176.39,1895.82,1838.57,1309.29,2352.85,1952.34,2108.7,1420.66,1084.17,489.8,323.2,55.64,163.76,470.39,448.18,769.69,1467.4,1807.15,2277.15,2334.33,2402.0,2460.14,2103.85,3086.54,2764.05,1839.95,1531.9,1187.45,2886.8,1787.34,2184.18,1347.76,773.0,391.55,273.25,121.66,384.94,381.17,597.51,879.84,1633.03,1413.43,2143.4,2162.67,2713.73,2312.84,1915.26,2107.85,1832.85,1454.72,2089.2,1496.04,1655.44,1617.97,1844.93,1381.3,1017.97,332.98,551.46,178.38,390.89,306.97,506.12,1161.91,1666.61,1355.0,1855.01,2294.93,1692.2,2396.12,1663.45,1638.78,1916.23,2251.44,1599.59,1156.69,1064.77,1133.4,1898.02,1424.61,555.43,770.0500000000001,290.15,195.88,255.32,226.97,523.9200000000001,554.52,797.52,1431.08,1503.83,1943.18,1394.79,2113.91,1703.1,1160.28,1252.51,620.76,918.2,1215.98,1313.54,1196.67,1205.99,1966.43,505.25,286.15,425.21,335.17,498.86,363.46,586.12,837.97,1356.77,1177.1,820.38,1495.47,1334.43,1518.1,2119.58,1311.07,1036.04,1488.43,1217.32,1812.37,1649.6299999999999,1428.34,1568.97,997.23,599.79,386.04,383.47,221.45999999999998,96.38,245.04,212.64000000000001,389.35,735.48,897.95,1038.74,1814.83,1634.55,1607.48,969.95,856.54,1483.76,729.43,1275.89,1366.29,1598.66,1183.36,1139.8700000000001,768.78,387.18,354.84,155.68,87.61,153.2,220.52,260.31,638.97,928.2,582.65,671.78,722.9300000000001,764.71,860.66,1184.92,916.11,930.23,564.14,670.49,332.39,617.31,911.76,612.42,734.18,466.99,249.79000000000002,215.32,78.71,212.71,82.44,340.89,269.87,418.78,884.9,383.59999999999997,534.02,358.64,375.15,261.76,439.43,364.97,169.23000000000002,239.46,172.12,121.41,336.0,181.25,261.01,226.46,59.61],\"type\":\"histogram2d\",\"xaxis\":\"x\",\"yaxis\":\"y\"},{\"colorbar\":{\"len\":0.5,\"tickmode\":\"array\",\"tickvals\":[20000,40000,60000,80000,100000,120000],\"title\":{\"text\":\"Total Order Value\"},\"y\":0.25},\"colorscale\":[[0.0,\"rgb(0,0,0)\"],[0.2,\"rgb(30,0,100)\"],[0.4,\"rgb(120,0,100)\"],[0.6,\"rgb(160,90,0)\"],[0.8,\"rgb(230,200,0)\"],[1.0,\"rgb(255,250,220)\"]],\"contours\":{\"showlabels\":true},\"histfunc\":\"sum\",\"nbinsx\":31,\"nbinsy\":24,\"showlegend\":false,\"x\":[\"2019-12-01\",\"2019-12-01\",\"2019-12-01\",\"2019-12-01\",\"2019-12-01\",\"2019-12-01\",\"2019-12-01\",\"2019-12-01\",\"2019-12-01\",\"2019-12-01\",\"2019-12-01\",\"2019-12-01\",\"2019-12-01\",\"2019-12-01\",\"2019-12-01\",\"2019-12-01\",\"2019-12-01\",\"2019-12-01\",\"2019-12-01\",\"2019-12-01\",\"2019-12-01\",\"2019-12-01\",\"2019-12-01\",\"2019-12-01\",\"2019-12-02\",\"2019-12-02\",\"2019-12-02\",\"2019-12-02\",\"2019-12-02\",\"2019-12-02\",\"2019-12-02\",\"2019-12-02\",\"2019-12-02\",\"2019-12-02\",\"2019-12-02\",\"2019-12-02\",\"2019-12-02\",\"2019-12-02\",\"2019-12-02\",\"2019-12-02\",\"2019-12-02\",\"2019-12-02\",\"2019-12-02\",\"2019-12-02\",\"2019-12-02\",\"2019-12-02\",\"2019-12-02\",\"2019-12-02\",\"2019-12-03\",\"2019-12-03\",\"2019-12-03\",\"2019-12-03\",\"2019-12-03\",\"2019-12-03\",\"2019-12-03\",\"2019-12-03\",\"2019-12-03\",\"2019-12-03\",\"2019-12-03\",\"2019-12-03\",\"2019-12-03\",\"2019-12-03\",\"2019-12-03\",\"2019-12-03\",\"2019-12-03\",\"2019-12-03\",\"2019-12-03\",\"2019-12-03\",\"2019-12-03\",\"2019-12-03\",\"2019-12-03\",\"2019-12-03\",\"2019-12-04\",\"2019-12-04\",\"2019-12-04\",\"2019-12-04\",\"2019-12-04\",\"2019-12-04\",\"2019-12-04\",\"2019-12-04\",\"2019-12-04\",\"2019-12-04\",\"2019-12-04\",\"2019-12-04\",\"2019-12-04\",\"2019-12-04\",\"2019-12-04\",\"2019-12-04\",\"2019-12-04\",\"2019-12-04\",\"2019-12-04\",\"2019-12-04\",\"2019-12-04\",\"2019-12-04\",\"2019-12-04\",\"2019-12-04\",\"2019-12-05\",\"2019-12-05\",\"2019-12-05\",\"2019-12-05\",\"2019-12-05\",\"2019-12-05\",\"2019-12-05\",\"2019-12-05\",\"2019-12-05\",\"2019-12-05\",\"2019-12-05\",\"2019-12-05\",\"2019-12-05\",\"2019-12-05\",\"2019-12-05\",\"2019-12-05\",\"2019-12-05\",\"2019-12-05\",\"2019-12-05\",\"2019-12-05\",\"2019-12-05\",\"2019-12-05\",\"2019-12-05\",\"2019-12-05\",\"2019-12-06\",\"2019-12-06\",\"2019-12-06\",\"2019-12-06\",\"2019-12-06\",\"2019-12-06\",\"2019-12-06\",\"2019-12-06\",\"2019-12-06\",\"2019-12-06\",\"2019-12-06\",\"2019-12-06\",\"2019-12-06\",\"2019-12-06\",\"2019-12-06\",\"2019-12-06\",\"2019-12-06\",\"2019-12-06\",\"2019-12-06\",\"2019-12-06\",\"2019-12-06\",\"2019-12-06\",\"2019-12-06\",\"2019-12-06\",\"2019-12-07\",\"2019-12-07\",\"2019-12-07\",\"2019-12-07\",\"2019-12-07\",\"2019-12-07\",\"2019-12-07\",\"2019-12-07\",\"2019-12-07\",\"2019-12-07\",\"2019-12-07\",\"2019-12-07\",\"2019-12-07\",\"2019-12-07\",\"2019-12-07\",\"2019-12-07\",\"2019-12-07\",\"2019-12-07\",\"2019-12-07\",\"2019-12-07\",\"2019-12-07\",\"2019-12-07\",\"2019-12-07\",\"2019-12-07\",\"2019-12-08\",\"2019-12-08\",\"2019-12-08\",\"2019-12-08\",\"2019-12-08\",\"2019-12-08\",\"2019-12-08\",\"2019-12-08\",\"2019-12-08\",\"2019-12-08\",\"2019-12-08\",\"2019-12-08\",\"2019-12-08\",\"2019-12-08\",\"2019-12-08\",\"2019-12-08\",\"2019-12-08\",\"2019-12-08\",\"2019-12-08\",\"2019-12-08\",\"2019-12-08\",\"2019-12-08\",\"2019-12-08\",\"2019-12-08\",\"2019-12-09\",\"2019-12-09\",\"2019-12-09\",\"2019-12-09\",\"2019-12-09\",\"2019-12-09\",\"2019-12-09\",\"2019-12-09\",\"2019-12-09\",\"2019-12-09\",\"2019-12-09\",\"2019-12-09\",\"2019-12-09\",\"2019-12-09\",\"2019-12-09\",\"2019-12-09\",\"2019-12-09\",\"2019-12-09\",\"2019-12-09\",\"2019-12-09\",\"2019-12-09\",\"2019-12-09\",\"2019-12-09\",\"2019-12-09\",\"2019-12-10\",\"2019-12-10\",\"2019-12-10\",\"2019-12-10\",\"2019-12-10\",\"2019-12-10\",\"2019-12-10\",\"2019-12-10\",\"2019-12-10\",\"2019-12-10\",\"2019-12-10\",\"2019-12-10\",\"2019-12-10\",\"2019-12-10\",\"2019-12-10\",\"2019-12-10\",\"2019-12-10\",\"2019-12-10\",\"2019-12-10\",\"2019-12-10\",\"2019-12-10\",\"2019-12-10\",\"2019-12-10\",\"2019-12-10\",\"2019-12-11\",\"2019-12-11\",\"2019-12-11\",\"2019-12-11\",\"2019-12-11\",\"2019-12-11\",\"2019-12-11\",\"2019-12-11\",\"2019-12-11\",\"2019-12-11\",\"2019-12-11\",\"2019-12-11\",\"2019-12-11\",\"2019-12-11\",\"2019-12-11\",\"2019-12-11\",\"2019-12-11\",\"2019-12-11\",\"2019-12-11\",\"2019-12-11\",\"2019-12-11\",\"2019-12-11\",\"2019-12-11\",\"2019-12-11\",\"2019-12-12\",\"2019-12-12\",\"2019-12-12\",\"2019-12-12\",\"2019-12-12\",\"2019-12-12\",\"2019-12-12\",\"2019-12-12\",\"2019-12-12\",\"2019-12-12\",\"2019-12-12\",\"2019-12-12\",\"2019-12-12\",\"2019-12-12\",\"2019-12-12\",\"2019-12-12\",\"2019-12-12\",\"2019-12-12\",\"2019-12-12\",\"2019-12-12\",\"2019-12-12\",\"2019-12-12\",\"2019-12-12\",\"2019-12-12\",\"2019-12-13\",\"2019-12-13\",\"2019-12-13\",\"2019-12-13\",\"2019-12-13\",\"2019-12-13\",\"2019-12-13\",\"2019-12-13\",\"2019-12-13\",\"2019-12-13\",\"2019-12-13\",\"2019-12-13\",\"2019-12-13\",\"2019-12-13\",\"2019-12-13\",\"2019-12-13\",\"2019-12-13\",\"2019-12-13\",\"2019-12-13\",\"2019-12-13\",\"2019-12-13\",\"2019-12-13\",\"2019-12-13\",\"2019-12-13\",\"2019-12-14\",\"2019-12-14\",\"2019-12-14\",\"2019-12-14\",\"2019-12-14\",\"2019-12-14\",\"2019-12-14\",\"2019-12-14\",\"2019-12-14\",\"2019-12-14\",\"2019-12-14\",\"2019-12-14\",\"2019-12-14\",\"2019-12-14\",\"2019-12-14\",\"2019-12-14\",\"2019-12-14\",\"2019-12-14\",\"2019-12-14\",\"2019-12-14\",\"2019-12-14\",\"2019-12-14\",\"2019-12-14\",\"2019-12-14\",\"2019-12-15\",\"2019-12-15\",\"2019-12-15\",\"2019-12-15\",\"2019-12-15\",\"2019-12-15\",\"2019-12-15\",\"2019-12-15\",\"2019-12-15\",\"2019-12-15\",\"2019-12-15\",\"2019-12-15\",\"2019-12-15\",\"2019-12-15\",\"2019-12-15\",\"2019-12-15\",\"2019-12-15\",\"2019-12-15\",\"2019-12-15\",\"2019-12-15\",\"2019-12-15\",\"2019-12-15\",\"2019-12-15\",\"2019-12-15\",\"2019-12-16\",\"2019-12-16\",\"2019-12-16\",\"2019-12-16\",\"2019-12-16\",\"2019-12-16\",\"2019-12-16\",\"2019-12-16\",\"2019-12-16\",\"2019-12-16\",\"2019-12-16\",\"2019-12-16\",\"2019-12-16\",\"2019-12-16\",\"2019-12-16\",\"2019-12-16\",\"2019-12-16\",\"2019-12-16\",\"2019-12-16\",\"2019-12-16\",\"2019-12-16\",\"2019-12-16\",\"2019-12-16\",\"2019-12-16\",\"2019-12-17\",\"2019-12-17\",\"2019-12-17\",\"2019-12-17\",\"2019-12-17\",\"2019-12-17\",\"2019-12-17\",\"2019-12-17\",\"2019-12-17\",\"2019-12-17\",\"2019-12-17\",\"2019-12-17\",\"2019-12-17\",\"2019-12-17\",\"2019-12-17\",\"2019-12-17\",\"2019-12-17\",\"2019-12-17\",\"2019-12-17\",\"2019-12-17\",\"2019-12-17\",\"2019-12-17\",\"2019-12-17\",\"2019-12-17\",\"2019-12-18\",\"2019-12-18\",\"2019-12-18\",\"2019-12-18\",\"2019-12-18\",\"2019-12-18\",\"2019-12-18\",\"2019-12-18\",\"2019-12-18\",\"2019-12-18\",\"2019-12-18\",\"2019-12-18\",\"2019-12-18\",\"2019-12-18\",\"2019-12-18\",\"2019-12-18\",\"2019-12-18\",\"2019-12-18\",\"2019-12-18\",\"2019-12-18\",\"2019-12-18\",\"2019-12-18\",\"2019-12-18\",\"2019-12-18\",\"2019-12-19\",\"2019-12-19\",\"2019-12-19\",\"2019-12-19\",\"2019-12-19\",\"2019-12-19\",\"2019-12-19\",\"2019-12-19\",\"2019-12-19\",\"2019-12-19\",\"2019-12-19\",\"2019-12-19\",\"2019-12-19\",\"2019-12-19\",\"2019-12-19\",\"2019-12-19\",\"2019-12-19\",\"2019-12-19\",\"2019-12-19\",\"2019-12-19\",\"2019-12-19\",\"2019-12-19\",\"2019-12-19\",\"2019-12-19\",\"2019-12-20\",\"2019-12-20\",\"2019-12-20\",\"2019-12-20\",\"2019-12-20\",\"2019-12-20\",\"2019-12-20\",\"2019-12-20\",\"2019-12-20\",\"2019-12-20\",\"2019-12-20\",\"2019-12-20\",\"2019-12-20\",\"2019-12-20\",\"2019-12-20\",\"2019-12-20\",\"2019-12-20\",\"2019-12-20\",\"2019-12-20\",\"2019-12-20\",\"2019-12-20\",\"2019-12-20\",\"2019-12-20\",\"2019-12-20\",\"2019-12-21\",\"2019-12-21\",\"2019-12-21\",\"2019-12-21\",\"2019-12-21\",\"2019-12-21\",\"2019-12-21\",\"2019-12-21\",\"2019-12-21\",\"2019-12-21\",\"2019-12-21\",\"2019-12-21\",\"2019-12-21\",\"2019-12-21\",\"2019-12-21\",\"2019-12-21\",\"2019-12-21\",\"2019-12-21\",\"2019-12-21\",\"2019-12-21\",\"2019-12-21\",\"2019-12-21\",\"2019-12-21\",\"2019-12-21\",\"2019-12-22\",\"2019-12-22\",\"2019-12-22\",\"2019-12-22\",\"2019-12-22\",\"2019-12-22\",\"2019-12-22\",\"2019-12-22\",\"2019-12-22\",\"2019-12-22\",\"2019-12-22\",\"2019-12-22\",\"2019-12-22\",\"2019-12-22\",\"2019-12-22\",\"2019-12-22\",\"2019-12-22\",\"2019-12-22\",\"2019-12-22\",\"2019-12-22\",\"2019-12-22\",\"2019-12-22\",\"2019-12-22\",\"2019-12-22\",\"2019-12-23\",\"2019-12-23\",\"2019-12-23\",\"2019-12-23\",\"2019-12-23\",\"2019-12-23\",\"2019-12-23\",\"2019-12-23\",\"2019-12-23\",\"2019-12-23\",\"2019-12-23\",\"2019-12-23\",\"2019-12-23\",\"2019-12-23\",\"2019-12-23\",\"2019-12-23\",\"2019-12-23\",\"2019-12-23\",\"2019-12-23\",\"2019-12-23\",\"2019-12-23\",\"2019-12-23\",\"2019-12-23\",\"2019-12-23\",\"2019-12-24\",\"2019-12-24\",\"2019-12-24\",\"2019-12-24\",\"2019-12-24\",\"2019-12-24\",\"2019-12-24\",\"2019-12-24\",\"2019-12-24\",\"2019-12-24\",\"2019-12-24\",\"2019-12-24\",\"2019-12-24\",\"2019-12-24\",\"2019-12-24\",\"2019-12-24\",\"2019-12-24\",\"2019-12-24\",\"2019-12-24\",\"2019-12-24\",\"2019-12-24\",\"2019-12-24\",\"2019-12-24\",\"2019-12-24\",\"2019-12-25\",\"2019-12-25\",\"2019-12-25\",\"2019-12-25\",\"2019-12-25\",\"2019-12-25\",\"2019-12-25\",\"2019-12-25\",\"2019-12-25\",\"2019-12-25\",\"2019-12-25\",\"2019-12-25\",\"2019-12-25\",\"2019-12-25\",\"2019-12-25\",\"2019-12-25\",\"2019-12-25\",\"2019-12-25\",\"2019-12-25\",\"2019-12-25\",\"2019-12-25\",\"2019-12-25\",\"2019-12-25\",\"2019-12-25\",\"2019-12-26\",\"2019-12-26\",\"2019-12-26\",\"2019-12-26\",\"2019-12-26\",\"2019-12-26\",\"2019-12-26\",\"2019-12-26\",\"2019-12-26\",\"2019-12-26\",\"2019-12-26\",\"2019-12-26\",\"2019-12-26\",\"2019-12-26\",\"2019-12-26\",\"2019-12-26\",\"2019-12-26\",\"2019-12-26\",\"2019-12-26\",\"2019-12-26\",\"2019-12-26\",\"2019-12-26\",\"2019-12-26\",\"2019-12-26\",\"2019-12-27\",\"2019-12-27\",\"2019-12-27\",\"2019-12-27\",\"2019-12-27\",\"2019-12-27\",\"2019-12-27\",\"2019-12-27\",\"2019-12-27\",\"2019-12-27\",\"2019-12-27\",\"2019-12-27\",\"2019-12-27\",\"2019-12-27\",\"2019-12-27\",\"2019-12-27\",\"2019-12-27\",\"2019-12-27\",\"2019-12-27\",\"2019-12-27\",\"2019-12-27\",\"2019-12-27\",\"2019-12-27\",\"2019-12-27\",\"2019-12-28\",\"2019-12-28\",\"2019-12-28\",\"2019-12-28\",\"2019-12-28\",\"2019-12-28\",\"2019-12-28\",\"2019-12-28\",\"2019-12-28\",\"2019-12-28\",\"2019-12-28\",\"2019-12-28\",\"2019-12-28\",\"2019-12-28\",\"2019-12-28\",\"2019-12-28\",\"2019-12-28\",\"2019-12-28\",\"2019-12-28\",\"2019-12-28\",\"2019-12-28\",\"2019-12-28\",\"2019-12-28\",\"2019-12-28\",\"2019-12-29\",\"2019-12-29\",\"2019-12-29\",\"2019-12-29\",\"2019-12-29\",\"2019-12-29\",\"2019-12-29\",\"2019-12-29\",\"2019-12-29\",\"2019-12-29\",\"2019-12-29\",\"2019-12-29\",\"2019-12-29\",\"2019-12-29\",\"2019-12-29\",\"2019-12-29\",\"2019-12-29\",\"2019-12-29\",\"2019-12-29\",\"2019-12-29\",\"2019-12-29\",\"2019-12-29\",\"2019-12-29\",\"2019-12-29\",\"2019-12-30\",\"2019-12-30\",\"2019-12-30\",\"2019-12-30\",\"2019-12-30\",\"2019-12-30\",\"2019-12-30\",\"2019-12-30\",\"2019-12-30\",\"2019-12-30\",\"2019-12-30\",\"2019-12-30\",\"2019-12-30\",\"2019-12-30\",\"2019-12-30\",\"2019-12-30\",\"2019-12-30\",\"2019-12-30\",\"2019-12-30\",\"2019-12-30\",\"2019-12-30\",\"2019-12-30\",\"2019-12-30\",\"2019-12-30\",\"2019-12-31\",\"2019-12-31\",\"2019-12-31\",\"2019-12-31\",\"2019-12-31\",\"2019-12-31\",\"2019-12-31\",\"2019-12-31\",\"2019-12-31\",\"2019-12-31\",\"2019-12-31\",\"2019-12-31\",\"2019-12-31\",\"2019-12-31\",\"2019-12-31\",\"2019-12-31\",\"2019-12-31\",\"2019-12-31\",\"2019-12-31\",\"2019-12-31\",\"2019-12-31\",\"2019-12-31\",\"2019-12-31\",\"2019-12-31\"],\"y\":[\"0\",\"1\",\"2\",\"3\",\"4\",\"5\",\"6\",\"7\",\"8\",\"9\",\"10\",\"11\",\"12\",\"13\",\"14\",\"15\",\"16\",\"17\",\"18\",\"19\",\"20\",\"21\",\"22\",\"23\",\"0\",\"1\",\"2\",\"3\",\"4\",\"5\",\"6\",\"7\",\"8\",\"9\",\"10\",\"11\",\"12\",\"13\",\"14\",\"15\",\"16\",\"17\",\"18\",\"19\",\"20\",\"21\",\"22\",\"23\",\"0\",\"1\",\"2\",\"3\",\"4\",\"5\",\"6\",\"7\",\"8\",\"9\",\"10\",\"11\",\"12\",\"13\",\"14\",\"15\",\"16\",\"17\",\"18\",\"19\",\"20\",\"21\",\"22\",\"23\",\"0\",\"1\",\"2\",\"3\",\"4\",\"5\",\"6\",\"7\",\"8\",\"9\",\"10\",\"11\",\"12\",\"13\",\"14\",\"15\",\"16\",\"17\",\"18\",\"19\",\"20\",\"21\",\"22\",\"23\",\"0\",\"1\",\"2\",\"3\",\"4\",\"5\",\"6\",\"7\",\"8\",\"9\",\"10\",\"11\",\"12\",\"13\",\"14\",\"15\",\"16\",\"17\",\"18\",\"19\",\"20\",\"21\",\"22\",\"23\",\"0\",\"1\",\"2\",\"3\",\"4\",\"5\",\"6\",\"7\",\"8\",\"9\",\"10\",\"11\",\"12\",\"13\",\"14\",\"15\",\"16\",\"17\",\"18\",\"19\",\"20\",\"21\",\"22\",\"23\",\"0\",\"1\",\"2\",\"3\",\"4\",\"5\",\"6\",\"7\",\"8\",\"9\",\"10\",\"11\",\"12\",\"13\",\"14\",\"15\",\"16\",\"17\",\"18\",\"19\",\"20\",\"21\",\"22\",\"23\",\"0\",\"1\",\"2\",\"3\",\"4\",\"5\",\"6\",\"7\",\"8\",\"9\",\"10\",\"11\",\"12\",\"13\",\"14\",\"15\",\"16\",\"17\",\"18\",\"19\",\"20\",\"21\",\"22\",\"23\",\"0\",\"1\",\"2\",\"3\",\"4\",\"5\",\"6\",\"7\",\"8\",\"9\",\"10\",\"11\",\"12\",\"13\",\"14\",\"15\",\"16\",\"17\",\"18\",\"19\",\"20\",\"21\",\"22\",\"23\",\"0\",\"1\",\"2\",\"3\",\"4\",\"5\",\"6\",\"7\",\"8\",\"9\",\"10\",\"11\",\"12\",\"13\",\"14\",\"15\",\"16\",\"17\",\"18\",\"19\",\"20\",\"21\",\"22\",\"23\",\"0\",\"1\",\"2\",\"3\",\"4\",\"5\",\"6\",\"7\",\"8\",\"9\",\"10\",\"11\",\"12\",\"13\",\"14\",\"15\",\"16\",\"17\",\"18\",\"19\",\"20\",\"21\",\"22\",\"23\",\"0\",\"1\",\"2\",\"3\",\"4\",\"5\",\"6\",\"7\",\"8\",\"9\",\"10\",\"11\",\"12\",\"13\",\"14\",\"15\",\"16\",\"17\",\"18\",\"19\",\"20\",\"21\",\"22\",\"23\",\"0\",\"1\",\"2\",\"3\",\"4\",\"5\",\"6\",\"7\",\"8\",\"9\",\"10\",\"11\",\"12\",\"13\",\"14\",\"15\",\"16\",\"17\",\"18\",\"19\",\"20\",\"21\",\"22\",\"23\",\"0\",\"1\",\"2\",\"3\",\"4\",\"5\",\"6\",\"7\",\"8\",\"9\",\"10\",\"11\",\"12\",\"13\",\"14\",\"15\",\"16\",\"17\",\"18\",\"19\",\"20\",\"21\",\"22\",\"23\",\"0\",\"1\",\"2\",\"3\",\"4\",\"5\",\"6\",\"7\",\"8\",\"9\",\"10\",\"11\",\"12\",\"13\",\"14\",\"15\",\"16\",\"17\",\"18\",\"19\",\"20\",\"21\",\"22\",\"23\",\"0\",\"1\",\"2\",\"3\",\"4\",\"5\",\"6\",\"7\",\"8\",\"9\",\"10\",\"11\",\"12\",\"13\",\"14\",\"15\",\"16\",\"17\",\"18\",\"19\",\"20\",\"21\",\"22\",\"23\",\"0\",\"1\",\"2\",\"3\",\"4\",\"5\",\"6\",\"7\",\"8\",\"9\",\"10\",\"11\",\"12\",\"13\",\"14\",\"15\",\"16\",\"17\",\"18\",\"19\",\"20\",\"21\",\"22\",\"23\",\"0\",\"1\",\"2\",\"3\",\"4\",\"5\",\"6\",\"7\",\"8\",\"9\",\"10\",\"11\",\"12\",\"13\",\"14\",\"15\",\"16\",\"17\",\"18\",\"19\",\"20\",\"21\",\"22\",\"23\",\"0\",\"1\",\"2\",\"3\",\"4\",\"5\",\"6\",\"7\",\"8\",\"9\",\"10\",\"11\",\"12\",\"13\",\"14\",\"15\",\"16\",\"17\",\"18\",\"19\",\"20\",\"21\",\"22\",\"23\",\"0\",\"1\",\"2\",\"3\",\"4\",\"5\",\"6\",\"7\",\"8\",\"9\",\"10\",\"11\",\"12\",\"13\",\"14\",\"15\",\"16\",\"17\",\"18\",\"19\",\"20\",\"21\",\"22\",\"23\",\"0\",\"1\",\"2\",\"3\",\"4\",\"5\",\"6\",\"7\",\"8\",\"9\",\"10\",\"11\",\"12\",\"13\",\"14\",\"15\",\"16\",\"17\",\"18\",\"19\",\"20\",\"21\",\"22\",\"23\",\"0\",\"1\",\"2\",\"3\",\"4\",\"5\",\"6\",\"7\",\"8\",\"9\",\"10\",\"11\",\"12\",\"13\",\"14\",\"15\",\"16\",\"17\",\"18\",\"19\",\"20\",\"21\",\"22\",\"23\",\"0\",\"1\",\"2\",\"3\",\"4\",\"5\",\"6\",\"7\",\"8\",\"9\",\"10\",\"11\",\"12\",\"13\",\"14\",\"15\",\"16\",\"17\",\"18\",\"19\",\"20\",\"21\",\"22\",\"23\",\"0\",\"1\",\"2\",\"3\",\"4\",\"5\",\"6\",\"7\",\"8\",\"9\",\"10\",\"11\",\"12\",\"13\",\"14\",\"15\",\"16\",\"17\",\"18\",\"19\",\"20\",\"21\",\"22\",\"23\",\"0\",\"1\",\"2\",\"3\",\"4\",\"5\",\"6\",\"7\",\"8\",\"9\",\"10\",\"11\",\"12\",\"13\",\"14\",\"15\",\"16\",\"17\",\"18\",\"19\",\"20\",\"21\",\"22\",\"23\",\"0\",\"1\",\"2\",\"3\",\"4\",\"5\",\"6\",\"7\",\"8\",\"9\",\"10\",\"11\",\"12\",\"13\",\"14\",\"15\",\"16\",\"17\",\"18\",\"19\",\"20\",\"21\",\"22\",\"23\",\"0\",\"1\",\"2\",\"3\",\"4\",\"5\",\"6\",\"7\",\"8\",\"9\",\"10\",\"11\",\"12\",\"13\",\"14\",\"15\",\"16\",\"17\",\"18\",\"19\",\"20\",\"21\",\"22\",\"23\",\"0\",\"1\",\"2\",\"3\",\"4\",\"5\",\"6\",\"7\",\"8\",\"9\",\"10\",\"11\",\"12\",\"13\",\"14\",\"15\",\"16\",\"17\",\"18\",\"19\",\"20\",\"21\",\"22\",\"23\",\"0\",\"1\",\"2\",\"3\",\"4\",\"5\",\"6\",\"7\",\"8\",\"9\",\"10\",\"11\",\"12\",\"13\",\"14\",\"15\",\"16\",\"17\",\"18\",\"19\",\"20\",\"21\",\"22\",\"23\",\"0\",\"1\",\"2\",\"3\",\"4\",\"5\",\"6\",\"7\",\"8\",\"9\",\"10\",\"11\",\"12\",\"13\",\"14\",\"15\",\"16\",\"17\",\"18\",\"19\",\"20\",\"21\",\"22\",\"23\",\"0\",\"1\",\"2\",\"3\",\"4\",\"5\",\"6\",\"7\",\"8\",\"9\",\"10\",\"11\",\"12\",\"13\",\"14\",\"15\",\"16\",\"17\",\"18\",\"19\",\"20\",\"21\",\"22\",\"23\"],\"z\":[366.26,605.17,232.9,863.73,276.38,778.64,998.22,1720.42,1207.86,1625.07,2128.88,1811.14,1838.8,1724.14,1555.08,2423.62,1646.52,2242.35,2286.55,1998.19,2272.77,1312.84,590.21,195.35999999999999,410.17,257.09,450.45,554.38,585.77,940.19,1640.5,2965.96,1977.74,2376.2000000000003,3199.6,3474.08,3181.13,2478.4700000000003,2036.74,1416.45,2003.51,1820.6,2026.04,2527.99,3499.59,1912.7,968.82,600.11,349.87,213.87,290.74,230.79,657.27,1458.25,1196.3600000000001,2485.28,2414.04,2152.2400000000002,2652.48,3185.6,3402.77,1841.05,2274.86,1914.59,2239.31,1527.13,1453.5,1413.61,1993.33,1505.02,1329.14,522.81,136.14000000000001,276.56,459.21,463.29,712.32,1284.54,1536.85,1947.71,2116.11,2909.42,3239.42,2750.79,2401.9700000000003,1926.69,2749.07,1922.86,2035.0,1942.81,2164.8,2141.65,1927.8,1975.28,1611.58,601.63,92.52,277.51,571.14,424.23,595.54,1343.65,1501.76,1678.4,2460.13,2237.47,3282.4900000000002,3089.21,2017.26,2324.2,2392.14,2167.39,1375.17,1552.59,1475.89,1950.03,1912.89,1459.4,961.71,236.98,520.43,86.76,355.23,266.27,403.53,869.79,2101.68,1246.38,3198.64,2182.83,2472.17,2829.98,1951.26,2822.75,2062.45,1979.33,1942.81,1597.9,1431.03,1846.37,1508.33,1251.2,1009.19,596.1,46.39,219.07999999999998,63.93,147.96,290.28,1061.25,1486.41,1085.15,1846.26,1802.94,1754.84,1356.48,2077.3,1477.77,1135.57,1652.51,1367.8,2181.08,1929.85,1339.48,1817.7,923.76,528.04,316.79,218.31,129.93,234.8,294.76,194.74,567.45,1145.03,1346.08,2364.01,2119.42,1745.81,1439.97,1870.69,2046.03,1765.32,2457.96,2233.54,1833.09,2329.51,1281.83,1827.88,776.28,977.14,862.8,339.86,427.66,240.86,549.58,522.35,1413.92,1458.5,1664.59,2630.9,2656.12,3120.7200000000003,3394.99,2733.71,3198.17,2780.15,2831.35,1843.1100000000001,2505.98,2588.55,2408.36,3288.64,1690.22,1266.61,423.3,399.72,112.79,699.4200000000001,876.75,802.9300000000001,1719.91,1515.7,2861.37,3192.6,3182.98,3270.04,3673.28,3051.34,3117.57,1804.3700000000001,2136.85,1926.34,2934.03,2198.38,2828.58,1880.56,1266.41,1866.3600000000001,223.99,387.86,285.05,209.15,903.6800000000001,629.93,1251.35,1498.35,2012.72,2364.44,2093.14,3037.13,3566.36,2866.46,2622.1,3072.67,2539.96,1737.57,2751.22,2903.99,2911.25,2675.58,1791.6,752.33,531.87,601.88,272.21999999999997,108.03999999999999,628.67,750.88,1677.46,1712.9,2888.02,3817.79,3991.81,3045.86,2884.52,1964.56,2412.6,2549.52,2005.52,1950.37,2681.75,1948.01,2627.67,1553.57,1661.09,782.72,434.01,180.71,232.73,203.29,680.08,498.96,865.43,2421.78,3034.0,2752.28,1480.48,3018.8,2340.3,2171.08,2070.66,2512.09,2021.27,2067.03,2540.43,1062.59,1795.47,1559.29,1201.96,924.66,291.39,171.18,70.18,224.41,234.95999999999998,526.71,674.58,900.21,1404.47,1446.26,1899.01,1806.78,1781.53,1702.92,2154.15,1740.9,1465.82,1443.92,1446.67,1785.32,1747.7,2201.34,2341.74,891.27,482.47,550.95,32.03,535.03,234.79,414.8,898.0,604.44,1410.16,1133.65,2205.02,2517.64,1669.21,3108.33,2834.79,1940.48,1767.32,1786.02,2283.85,2731.26,1899.27,2053.32,1312.62,1140.03,361.66,415.15,157.6,605.91,287.62,1121.1299999999999,1563.28,1654.08,2482.13,2600.13,2832.31,2803.83,4278.77,3326.72,3154.55,3110.55,2791.5,2256.36,2109.75,1748.74,2216.06,2617.28,1695.09,901.0,586.53,221.28,314.73,525.9,486.02,740.08,1293.8,1716.88,2462.15,2414.28,2902.11,2966.87,2677.42,1980.91,3032.17,1685.0,1834.7,2306.7,2875.27,2943.62,2505.42,2551.06,1933.02,968.16,417.02,253.43,321.37,333.09000000000003,606.27,406.70000000000005,1505.75,1760.63,2403.96,2436.55,2419.2000000000003,3101.32,3196.77,3916.98,2017.38,2759.22,1845.14,1399.6100000000001,2072.02,1963.39,1992.85,2942.25,996.36,1428.76,526.93,283.45,385.41,495.63,85.42,445.15,1513.14,1476.35,2647.22,2446.81,2049.02,2417.4,2532.23,2621.18,1702.09,2230.36,1627.29,1984.53,1826.2,1562.88,2688.06,1929.76,1288.79,1004.08,411.35,267.3,396.83,319.21,407.3,852.74,1104.56,1860.77,1839.58,2460.16,2484.71,2032.3700000000001,2115.08,2049.96,1932.59,1484.95,1627.29,2881.7400000000002,1023.91,1849.37,1679.69,1928.81,1080.76,813.95,424.08,180.07,215.41,131.98,384.96999999999997,563.77,772.83,1099.77,1531.21,1174.15,1390.8700000000001,2066.35,1899.2,1879.01,1644.82,1247.24,1408.82,2238.61,1678.2,1446.43,1849.25,1938.2,1322.14,346.5,369.9,258.75,774.42,572.05,174.78,501.48,823.92,584.16,923.72,1497.46,2026.13,1235.31,1753.09,1634.53,1271.03,1908.3700000000001,2018.36,2478.68,1399.63,3044.32,2559.65,2520.48,1490.8799999999999,1536.56,229.1,366.84,137.86,289.28000000000003,275.25,535.4,1074.3799999999999,1427.85,1613.89,1968.52,1890.44,2761.51,2778.51,2612.05,2357.19,2176.39,1895.82,1838.57,1309.29,2352.85,1952.34,2108.7,1420.66,1084.17,489.8,323.2,55.64,163.76,470.39,448.18,769.69,1467.4,1807.15,2277.15,2334.33,2402.0,2460.14,2103.85,3086.54,2764.05,1839.95,1531.9,1187.45,2886.8,1787.34,2184.18,1347.76,773.0,391.55,273.25,121.66,384.94,381.17,597.51,879.84,1633.03,1413.43,2143.4,2162.67,2713.73,2312.84,1915.26,2107.85,1832.85,1454.72,2089.2,1496.04,1655.44,1617.97,1844.93,1381.3,1017.97,332.98,551.46,178.38,390.89,306.97,506.12,1161.91,1666.61,1355.0,1855.01,2294.93,1692.2,2396.12,1663.45,1638.78,1916.23,2251.44,1599.59,1156.69,1064.77,1133.4,1898.02,1424.61,555.43,770.0500000000001,290.15,195.88,255.32,226.97,523.9200000000001,554.52,797.52,1431.08,1503.83,1943.18,1394.79,2113.91,1703.1,1160.28,1252.51,620.76,918.2,1215.98,1313.54,1196.67,1205.99,1966.43,505.25,286.15,425.21,335.17,498.86,363.46,586.12,837.97,1356.77,1177.1,820.38,1495.47,1334.43,1518.1,2119.58,1311.07,1036.04,1488.43,1217.32,1812.37,1649.6299999999999,1428.34,1568.97,997.23,599.79,386.04,383.47,221.45999999999998,96.38,245.04,212.64000000000001,389.35,735.48,897.95,1038.74,1814.83,1634.55,1607.48,969.95,856.54,1483.76,729.43,1275.89,1366.29,1598.66,1183.36,1139.8700000000001,768.78,387.18,354.84,155.68,87.61,153.2,220.52,260.31,638.97,928.2,582.65,671.78,722.9300000000001,764.71,860.66,1184.92,916.11,930.23,564.14,670.49,332.39,617.31,911.76,612.42,734.18,466.99,249.79000000000002,215.32,78.71,212.71,82.44,340.89,269.87,418.78,884.9,383.59999999999997,534.02,358.64,375.15,261.76,439.43,364.97,169.23000000000002,239.46,172.12,121.41,336.0,181.25,261.01,226.46,59.61],\"type\":\"histogram2dcontour\",\"xaxis\":\"x2\",\"yaxis\":\"y2\"}],                        {\"template\":{\"data\":{\"barpolar\":[{\"marker\":{\"line\":{\"color\":\"white\",\"width\":0.5},\"pattern\":{\"fillmode\":\"overlay\",\"size\":10,\"solidity\":0.2}},\"type\":\"barpolar\"}],\"bar\":[{\"error_x\":{\"color\":\"rgb(36,36,36)\"},\"error_y\":{\"color\":\"rgb(36,36,36)\"},\"marker\":{\"line\":{\"color\":\"white\",\"width\":0.5},\"pattern\":{\"fillmode\":\"overlay\",\"size\":10,\"solidity\":0.2}},\"type\":\"bar\"}],\"carpet\":[{\"aaxis\":{\"endlinecolor\":\"rgb(36,36,36)\",\"gridcolor\":\"white\",\"linecolor\":\"white\",\"minorgridcolor\":\"white\",\"startlinecolor\":\"rgb(36,36,36)\"},\"baxis\":{\"endlinecolor\":\"rgb(36,36,36)\",\"gridcolor\":\"white\",\"linecolor\":\"white\",\"minorgridcolor\":\"white\",\"startlinecolor\":\"rgb(36,36,36)\"},\"type\":\"carpet\"}],\"choropleth\":[{\"colorbar\":{\"outlinewidth\":1,\"tickcolor\":\"rgb(36,36,36)\",\"ticks\":\"outside\"},\"type\":\"choropleth\"}],\"contourcarpet\":[{\"colorbar\":{\"outlinewidth\":1,\"tickcolor\":\"rgb(36,36,36)\",\"ticks\":\"outside\"},\"type\":\"contourcarpet\"}],\"contour\":[{\"colorbar\":{\"outlinewidth\":1,\"tickcolor\":\"rgb(36,36,36)\",\"ticks\":\"outside\"},\"colorscale\":[[0.0,\"#440154\"],[0.1111111111111111,\"#482878\"],[0.2222222222222222,\"#3e4989\"],[0.3333333333333333,\"#31688e\"],[0.4444444444444444,\"#26828e\"],[0.5555555555555556,\"#1f9e89\"],[0.6666666666666666,\"#35b779\"],[0.7777777777777778,\"#6ece58\"],[0.8888888888888888,\"#b5de2b\"],[1.0,\"#fde725\"]],\"type\":\"contour\"}],\"heatmapgl\":[{\"colorbar\":{\"outlinewidth\":1,\"tickcolor\":\"rgb(36,36,36)\",\"ticks\":\"outside\"},\"colorscale\":[[0.0,\"#440154\"],[0.1111111111111111,\"#482878\"],[0.2222222222222222,\"#3e4989\"],[0.3333333333333333,\"#31688e\"],[0.4444444444444444,\"#26828e\"],[0.5555555555555556,\"#1f9e89\"],[0.6666666666666666,\"#35b779\"],[0.7777777777777778,\"#6ece58\"],[0.8888888888888888,\"#b5de2b\"],[1.0,\"#fde725\"]],\"type\":\"heatmapgl\"}],\"heatmap\":[{\"colorbar\":{\"outlinewidth\":1,\"tickcolor\":\"rgb(36,36,36)\",\"ticks\":\"outside\"},\"colorscale\":[[0.0,\"#440154\"],[0.1111111111111111,\"#482878\"],[0.2222222222222222,\"#3e4989\"],[0.3333333333333333,\"#31688e\"],[0.4444444444444444,\"#26828e\"],[0.5555555555555556,\"#1f9e89\"],[0.6666666666666666,\"#35b779\"],[0.7777777777777778,\"#6ece58\"],[0.8888888888888888,\"#b5de2b\"],[1.0,\"#fde725\"]],\"type\":\"heatmap\"}],\"histogram2dcontour\":[{\"colorbar\":{\"outlinewidth\":1,\"tickcolor\":\"rgb(36,36,36)\",\"ticks\":\"outside\"},\"colorscale\":[[0.0,\"#440154\"],[0.1111111111111111,\"#482878\"],[0.2222222222222222,\"#3e4989\"],[0.3333333333333333,\"#31688e\"],[0.4444444444444444,\"#26828e\"],[0.5555555555555556,\"#1f9e89\"],[0.6666666666666666,\"#35b779\"],[0.7777777777777778,\"#6ece58\"],[0.8888888888888888,\"#b5de2b\"],[1.0,\"#fde725\"]],\"type\":\"histogram2dcontour\"}],\"histogram2d\":[{\"colorbar\":{\"outlinewidth\":1,\"tickcolor\":\"rgb(36,36,36)\",\"ticks\":\"outside\"},\"colorscale\":[[0.0,\"#440154\"],[0.1111111111111111,\"#482878\"],[0.2222222222222222,\"#3e4989\"],[0.3333333333333333,\"#31688e\"],[0.4444444444444444,\"#26828e\"],[0.5555555555555556,\"#1f9e89\"],[0.6666666666666666,\"#35b779\"],[0.7777777777777778,\"#6ece58\"],[0.8888888888888888,\"#b5de2b\"],[1.0,\"#fde725\"]],\"type\":\"histogram2d\"}],\"histogram\":[{\"marker\":{\"line\":{\"color\":\"white\",\"width\":0.6}},\"type\":\"histogram\"}],\"mesh3d\":[{\"colorbar\":{\"outlinewidth\":1,\"tickcolor\":\"rgb(36,36,36)\",\"ticks\":\"outside\"},\"type\":\"mesh3d\"}],\"parcoords\":[{\"line\":{\"colorbar\":{\"outlinewidth\":1,\"tickcolor\":\"rgb(36,36,36)\",\"ticks\":\"outside\"}},\"type\":\"parcoords\"}],\"pie\":[{\"automargin\":true,\"type\":\"pie\"}],\"scatter3d\":[{\"line\":{\"colorbar\":{\"outlinewidth\":1,\"tickcolor\":\"rgb(36,36,36)\",\"ticks\":\"outside\"}},\"marker\":{\"colorbar\":{\"outlinewidth\":1,\"tickcolor\":\"rgb(36,36,36)\",\"ticks\":\"outside\"}},\"type\":\"scatter3d\"}],\"scattercarpet\":[{\"marker\":{\"colorbar\":{\"outlinewidth\":1,\"tickcolor\":\"rgb(36,36,36)\",\"ticks\":\"outside\"}},\"type\":\"scattercarpet\"}],\"scattergeo\":[{\"marker\":{\"colorbar\":{\"outlinewidth\":1,\"tickcolor\":\"rgb(36,36,36)\",\"ticks\":\"outside\"}},\"type\":\"scattergeo\"}],\"scattergl\":[{\"marker\":{\"colorbar\":{\"outlinewidth\":1,\"tickcolor\":\"rgb(36,36,36)\",\"ticks\":\"outside\"}},\"type\":\"scattergl\"}],\"scattermapbox\":[{\"marker\":{\"colorbar\":{\"outlinewidth\":1,\"tickcolor\":\"rgb(36,36,36)\",\"ticks\":\"outside\"}},\"type\":\"scattermapbox\"}],\"scatterpolargl\":[{\"marker\":{\"colorbar\":{\"outlinewidth\":1,\"tickcolor\":\"rgb(36,36,36)\",\"ticks\":\"outside\"}},\"type\":\"scatterpolargl\"}],\"scatterpolar\":[{\"marker\":{\"colorbar\":{\"outlinewidth\":1,\"tickcolor\":\"rgb(36,36,36)\",\"ticks\":\"outside\"}},\"type\":\"scatterpolar\"}],\"scatter\":[{\"marker\":{\"colorbar\":{\"outlinewidth\":1,\"tickcolor\":\"rgb(36,36,36)\",\"ticks\":\"outside\"}},\"type\":\"scatter\"}],\"scatterternary\":[{\"marker\":{\"colorbar\":{\"outlinewidth\":1,\"tickcolor\":\"rgb(36,36,36)\",\"ticks\":\"outside\"}},\"type\":\"scatterternary\"}],\"surface\":[{\"colorbar\":{\"outlinewidth\":1,\"tickcolor\":\"rgb(36,36,36)\",\"ticks\":\"outside\"},\"colorscale\":[[0.0,\"#440154\"],[0.1111111111111111,\"#482878\"],[0.2222222222222222,\"#3e4989\"],[0.3333333333333333,\"#31688e\"],[0.4444444444444444,\"#26828e\"],[0.5555555555555556,\"#1f9e89\"],[0.6666666666666666,\"#35b779\"],[0.7777777777777778,\"#6ece58\"],[0.8888888888888888,\"#b5de2b\"],[1.0,\"#fde725\"]],\"type\":\"surface\"}],\"table\":[{\"cells\":{\"fill\":{\"color\":\"rgb(237,237,237)\"},\"line\":{\"color\":\"white\"}},\"header\":{\"fill\":{\"color\":\"rgb(217,217,217)\"},\"line\":{\"color\":\"white\"}},\"type\":\"table\"}]},\"layout\":{\"annotationdefaults\":{\"arrowhead\":0,\"arrowwidth\":1},\"autotypenumbers\":\"strict\",\"coloraxis\":{\"colorbar\":{\"outlinewidth\":1,\"tickcolor\":\"rgb(36,36,36)\",\"ticks\":\"outside\"}},\"colorscale\":{\"diverging\":[[0.0,\"rgb(103,0,31)\"],[0.1,\"rgb(178,24,43)\"],[0.2,\"rgb(214,96,77)\"],[0.3,\"rgb(244,165,130)\"],[0.4,\"rgb(253,219,199)\"],[0.5,\"rgb(247,247,247)\"],[0.6,\"rgb(209,229,240)\"],[0.7,\"rgb(146,197,222)\"],[0.8,\"rgb(67,147,195)\"],[0.9,\"rgb(33,102,172)\"],[1.0,\"rgb(5,48,97)\"]],\"sequential\":[[0.0,\"#440154\"],[0.1111111111111111,\"#482878\"],[0.2222222222222222,\"#3e4989\"],[0.3333333333333333,\"#31688e\"],[0.4444444444444444,\"#26828e\"],[0.5555555555555556,\"#1f9e89\"],[0.6666666666666666,\"#35b779\"],[0.7777777777777778,\"#6ece58\"],[0.8888888888888888,\"#b5de2b\"],[1.0,\"#fde725\"]],\"sequentialminus\":[[0.0,\"#440154\"],[0.1111111111111111,\"#482878\"],[0.2222222222222222,\"#3e4989\"],[0.3333333333333333,\"#31688e\"],[0.4444444444444444,\"#26828e\"],[0.5555555555555556,\"#1f9e89\"],[0.6666666666666666,\"#35b779\"],[0.7777777777777778,\"#6ece58\"],[0.8888888888888888,\"#b5de2b\"],[1.0,\"#fde725\"]]},\"colorway\":[\"#1F77B4\",\"#FF7F0E\",\"#2CA02C\",\"#D62728\",\"#9467BD\",\"#8C564B\",\"#E377C2\",\"#7F7F7F\",\"#BCBD22\",\"#17BECF\"],\"font\":{\"color\":\"rgb(36,36,36)\"},\"geo\":{\"bgcolor\":\"white\",\"lakecolor\":\"white\",\"landcolor\":\"white\",\"showlakes\":true,\"showland\":true,\"subunitcolor\":\"white\"},\"hoverlabel\":{\"align\":\"left\"},\"hovermode\":\"closest\",\"mapbox\":{\"style\":\"light\"},\"paper_bgcolor\":\"white\",\"plot_bgcolor\":\"white\",\"polar\":{\"angularaxis\":{\"gridcolor\":\"rgb(232,232,232)\",\"linecolor\":\"rgb(36,36,36)\",\"showgrid\":false,\"showline\":true,\"ticks\":\"outside\"},\"bgcolor\":\"white\",\"radialaxis\":{\"gridcolor\":\"rgb(232,232,232)\",\"linecolor\":\"rgb(36,36,36)\",\"showgrid\":false,\"showline\":true,\"ticks\":\"outside\"}},\"scene\":{\"xaxis\":{\"backgroundcolor\":\"white\",\"gridcolor\":\"rgb(232,232,232)\",\"gridwidth\":2,\"linecolor\":\"rgb(36,36,36)\",\"showbackground\":true,\"showgrid\":false,\"showline\":true,\"ticks\":\"outside\",\"zeroline\":false,\"zerolinecolor\":\"rgb(36,36,36)\"},\"yaxis\":{\"backgroundcolor\":\"white\",\"gridcolor\":\"rgb(232,232,232)\",\"gridwidth\":2,\"linecolor\":\"rgb(36,36,36)\",\"showbackground\":true,\"showgrid\":false,\"showline\":true,\"ticks\":\"outside\",\"zeroline\":false,\"zerolinecolor\":\"rgb(36,36,36)\"},\"zaxis\":{\"backgroundcolor\":\"white\",\"gridcolor\":\"rgb(232,232,232)\",\"gridwidth\":2,\"linecolor\":\"rgb(36,36,36)\",\"showbackground\":true,\"showgrid\":false,\"showline\":true,\"ticks\":\"outside\",\"zeroline\":false,\"zerolinecolor\":\"rgb(36,36,36)\"}},\"shapedefaults\":{\"fillcolor\":\"black\",\"line\":{\"width\":0},\"opacity\":0.3},\"ternary\":{\"aaxis\":{\"gridcolor\":\"rgb(232,232,232)\",\"linecolor\":\"rgb(36,36,36)\",\"showgrid\":false,\"showline\":true,\"ticks\":\"outside\"},\"baxis\":{\"gridcolor\":\"rgb(232,232,232)\",\"linecolor\":\"rgb(36,36,36)\",\"showgrid\":false,\"showline\":true,\"ticks\":\"outside\"},\"bgcolor\":\"white\",\"caxis\":{\"gridcolor\":\"rgb(232,232,232)\",\"linecolor\":\"rgb(36,36,36)\",\"showgrid\":false,\"showline\":true,\"ticks\":\"outside\"}},\"title\":{\"x\":0.05},\"xaxis\":{\"automargin\":true,\"gridcolor\":\"rgb(232,232,232)\",\"linecolor\":\"rgb(36,36,36)\",\"showgrid\":false,\"showline\":true,\"ticks\":\"outside\",\"title\":{\"standoff\":15},\"zeroline\":false,\"zerolinecolor\":\"rgb(36,36,36)\"},\"yaxis\":{\"automargin\":true,\"gridcolor\":\"rgb(232,232,232)\",\"linecolor\":\"rgb(36,36,36)\",\"showgrid\":false,\"showline\":true,\"ticks\":\"outside\",\"title\":{\"standoff\":15},\"zeroline\":false,\"zerolinecolor\":\"rgb(36,36,36)\"}}},\"xaxis\":{\"anchor\":\"y\",\"domain\":[0.0,1.0],\"title\":{\"text\":\"Date\"},\"ticks\":\"inside\"},\"yaxis\":{\"anchor\":\"x\",\"domain\":[0.575,1.0],\"title\":{\"text\":\"Hours\"},\"ticks\":\"inside\"},\"xaxis2\":{\"anchor\":\"y2\",\"domain\":[0.0,1.0],\"title\":{\"text\":\"Date\"},\"ticks\":\"inside\"},\"yaxis2\":{\"anchor\":\"x2\",\"domain\":[0.0,0.425],\"title\":{\"text\":\"Hours\"},\"ticks\":\"inside\"},\"margin\":{\"r\":50,\"t\":50,\"b\":50,\"l\":50},\"title\":{\"xanchor\":\"center\",\"yanchor\":\"top\",\"y\":1,\"x\":0.5,\"text\":\"Hourly sales during December\"},\"height\":600,\"showlegend\":false},                        {\"responsive\": true}                    ).then(function(){\n",
              "                            \n",
              "var gd = document.getElementById('54dd514c-a87a-41bd-9f71-ab819ec5eeb8');\n",
              "var x = new MutationObserver(function (mutations, observer) {{\n",
              "        var display = window.getComputedStyle(gd).display;\n",
              "        if (!display || display === 'none') {{\n",
              "            console.log([gd, 'removed!']);\n",
              "            Plotly.purge(gd);\n",
              "            observer.disconnect();\n",
              "        }}\n",
              "}});\n",
              "\n",
              "// Listen for the removal of the full notebook cells\n",
              "var notebookContainer = gd.closest('#notebook-container');\n",
              "if (notebookContainer) {{\n",
              "    x.observe(notebookContainer, {childList: true});\n",
              "}}\n",
              "\n",
              "// Listen for the clearing of the current output cell\n",
              "var outputEl = gd.closest('.output');\n",
              "if (outputEl) {{\n",
              "    x.observe(outputEl, {childList: true});\n",
              "}}\n",
              "\n",
              "                        })                };                            </script>        </div>\n",
              "</body>\n",
              "</html>"
            ]
          },
          "metadata": {}
        }
      ]
    },
    {
      "cell_type": "markdown",
      "source": [
        "High order values seem to happen during the afternoon predominantly, potentially due to the 'activeness' required from the user to complete such purchases.\n",
        "\n",
        "# Recommendation:\n",
        "In the ads shown in the ***afternoon***, push for **high price products** and **high value categories** from the product catalogue."
      ],
      "metadata": {
        "id": "vtseRIUhe9lW"
      }
    },
    {
      "cell_type": "code",
      "source": [
        "fig = make_subplots(\n",
        "    rows=2, cols=1,\n",
        "    column_widths=[1.0],\n",
        "    row_heights=[0.5, 0.5],\n",
        "    specs=[[{\"type\": \"histogram2d\"}],\n",
        "           [{\"type\": \"histogram2dcontour\"}]])\n",
        "fig.add_trace(\n",
        "    go.Histogram2d(\n",
        "        x = hourly_visitors[\"hours\"],\n",
        "        y = hourly_visitors[\"weeknum\"],\n",
        "        z = hourly_visitors[\"user_id\"],\n",
        "        colorbar=dict(len=0.5, y=0.8,title=\"Total Order Value\"),\n",
        "        histfunc = \"sum\",\n",
        "        colorscale='Hot',\n",
        "        nbinsx = 31,\n",
        "        nbinsy=7\n",
        "    ),\n",
        "    row=1,col=1)\n",
        "fig.add_trace(\n",
        "    go.Histogram2dContour(\n",
        "        x = hourly_visitors[\"hours\"],\n",
        "        y = hourly_visitors[\"weeknum\"],\n",
        "        z = hourly_visitors[\"user_id\"],\n",
        "        colorbar=dict(len=0.5, y=0.20,title=\"Total Order Value\",tickmode=\"array\"\n",
        "                     ),\n",
        "        histfunc = \"sum\",\n",
        "        showlegend=False,\n",
        "        colorscale='Hot',\n",
        "        contours = dict(\n",
        "            showlabels = True),\n",
        "        nbinsx=31,\n",
        "        nbinsy=7\n",
        "    ),\n",
        "    row=2,col=1)\n",
        "\n",
        "\n",
        "fig.update_layout(\n",
        "    template=\"simple_white\",\n",
        "    margin=dict(r=50, t=50, b=50, l=50),\n",
        "    height=600,\n",
        "    showlegend=False,\n",
        "    title={'xanchor': 'center',\n",
        "           'yanchor': 'top',        \n",
        "            'y':0.999,\n",
        "            'x':0.5,\n",
        "           'text':\"Hourly sales by Week-of-month\"}\n",
        ")\n",
        "fig.update_yaxes(title_text='Week-of-Month',ticks=\"inside\")\n",
        "fig.update_xaxes(title_text='Hours',ticks=\"inside\")\n",
        "fig.show()"
      ],
      "metadata": {
        "colab": {
          "base_uri": "https://localhost:8080/",
          "height": 617
        },
        "id": "h66mr3K-fsRP",
        "outputId": "831363c8-3b7d-473c-86f8-d532c6bdb711"
      },
      "execution_count": 148,
      "outputs": [
        {
          "output_type": "display_data",
          "data": {
            "text/html": [
              "<html>\n",
              "<head><meta charset=\"utf-8\" /></head>\n",
              "<body>\n",
              "    <div>            <script src=\"https://cdnjs.cloudflare.com/ajax/libs/mathjax/2.7.5/MathJax.js?config=TeX-AMS-MML_SVG\"></script><script type=\"text/javascript\">if (window.MathJax) {MathJax.Hub.Config({SVG: {font: \"STIX-Web\"}});}</script>                <script type=\"text/javascript\">window.PlotlyConfig = {MathJaxConfig: 'local'};</script>\n",
              "        <script src=\"https://cdn.plot.ly/plotly-2.8.3.min.js\"></script>                <div id=\"57a9c3fb-2ece-4b0e-b72e-5fb59318c8fe\" class=\"plotly-graph-div\" style=\"height:600px; width:100%;\"></div>            <script type=\"text/javascript\">                                    window.PLOTLYENV=window.PLOTLYENV || {};                                    if (document.getElementById(\"57a9c3fb-2ece-4b0e-b72e-5fb59318c8fe\")) {                    Plotly.newPlot(                        \"57a9c3fb-2ece-4b0e-b72e-5fb59318c8fe\",                        [{\"colorbar\":{\"len\":0.5,\"title\":{\"text\":\"Total Order Value\"},\"y\":0.8},\"colorscale\":[[0.0,\"rgb(0,0,0)\"],[0.3333333333333333,\"rgb(230,0,0)\"],[0.6666666666666666,\"rgb(255,210,0)\"],[1.0,\"rgb(255,255,255)\"]],\"histfunc\":\"sum\",\"nbinsx\":31,\"nbinsy\":7,\"x\":[0,0,0,0,0,0,1,1,1,1,1,1,2,2,2,2,2,2,3,3,3,3,3,3,4,4,4,4,4,4,5,5,5,5,5,5,6,6,6,6,6,6,7,7,7,7,7,7,8,8,8,8,8,8,9,9,9,9,9,9,10,10,10,10,10,10,11,11,11,11,11,11,12,12,12,12,12,12,13,13,13,13,13,13,14,14,14,14,14,14,15,15,15,15,15,15,16,16,16,16,16,16,17,17,17,17,17,17,18,18,18,18,18,18,19,19,19,19,19,19,20,20,20,20,20,20,21,21,21,21,21,21,22,22,22,22,22,22,23,23,23,23,23,23],\"y\":[1,48,49,50,51,52,1,48,49,50,51,52,1,48,49,50,51,52,1,48,49,50,51,52,1,48,49,50,51,52,1,48,49,50,51,52,1,48,49,50,51,52,1,48,49,50,51,52,1,48,49,50,51,52,1,48,49,50,51,52,1,48,49,50,51,52,1,48,49,50,51,52,1,48,49,50,51,52,1,48,49,50,51,52,1,48,49,50,51,52,1,48,49,50,51,52,1,48,49,50,51,52,1,48,49,50,51,52,1,48,49,50,51,52,1,48,49,50,51,52,1,48,49,50,51,52,1,48,49,50,51,52,1,48,49,50,51,52,1,48,49,50,51,52],\"z\":[373,203,1264,1386,1393,1292,314,174,1254,1262,1316,1193,321,162,1498,1490,1439,1359,462,252,2333,2205,2118,1939,647,333,3300,3351,3286,2897,889,531,4838,4879,4771,4165,1109,717,6375,6527,6326,5588,1343,977,7718,7741,7511,6395,1457,1104,8362,8610,8000,7155,1435,1176,8735,9007,8510,7471,1445,1167,9113,9165,8990,7629,1467,1351,9385,9489,9013,8047,1487,1366,9688,9646,9008,8108,1406,1265,9144,9631,8737,7925,1269,1256,8588,9139,8439,7404,1267,1361,8346,8908,8415,7257,1178,1390,8311,8896,8358,7526,1161,1516,8868,9350,8689,7603,1202,1568,8971,9816,9100,8111,1316,1511,9062,9851,9179,8485,1147,1406,7750,8393,7782,7407,816,923,5057,5603,5330,4944,605,484,3011,3450,3208,3022,489,335,1882,1955,1918,1878],\"type\":\"histogram2d\",\"xaxis\":\"x\",\"yaxis\":\"y\"},{\"colorbar\":{\"len\":0.5,\"tickmode\":\"array\",\"title\":{\"text\":\"Total Order Value\"},\"y\":0.2},\"colorscale\":[[0.0,\"rgb(0,0,0)\"],[0.3333333333333333,\"rgb(230,0,0)\"],[0.6666666666666666,\"rgb(255,210,0)\"],[1.0,\"rgb(255,255,255)\"]],\"contours\":{\"showlabels\":true},\"histfunc\":\"sum\",\"nbinsx\":31,\"nbinsy\":7,\"showlegend\":false,\"x\":[0,0,0,0,0,0,1,1,1,1,1,1,2,2,2,2,2,2,3,3,3,3,3,3,4,4,4,4,4,4,5,5,5,5,5,5,6,6,6,6,6,6,7,7,7,7,7,7,8,8,8,8,8,8,9,9,9,9,9,9,10,10,10,10,10,10,11,11,11,11,11,11,12,12,12,12,12,12,13,13,13,13,13,13,14,14,14,14,14,14,15,15,15,15,15,15,16,16,16,16,16,16,17,17,17,17,17,17,18,18,18,18,18,18,19,19,19,19,19,19,20,20,20,20,20,20,21,21,21,21,21,21,22,22,22,22,22,22,23,23,23,23,23,23],\"y\":[1,48,49,50,51,52,1,48,49,50,51,52,1,48,49,50,51,52,1,48,49,50,51,52,1,48,49,50,51,52,1,48,49,50,51,52,1,48,49,50,51,52,1,48,49,50,51,52,1,48,49,50,51,52,1,48,49,50,51,52,1,48,49,50,51,52,1,48,49,50,51,52,1,48,49,50,51,52,1,48,49,50,51,52,1,48,49,50,51,52,1,48,49,50,51,52,1,48,49,50,51,52,1,48,49,50,51,52,1,48,49,50,51,52,1,48,49,50,51,52,1,48,49,50,51,52,1,48,49,50,51,52,1,48,49,50,51,52,1,48,49,50,51,52],\"z\":[373,203,1264,1386,1393,1292,314,174,1254,1262,1316,1193,321,162,1498,1490,1439,1359,462,252,2333,2205,2118,1939,647,333,3300,3351,3286,2897,889,531,4838,4879,4771,4165,1109,717,6375,6527,6326,5588,1343,977,7718,7741,7511,6395,1457,1104,8362,8610,8000,7155,1435,1176,8735,9007,8510,7471,1445,1167,9113,9165,8990,7629,1467,1351,9385,9489,9013,8047,1487,1366,9688,9646,9008,8108,1406,1265,9144,9631,8737,7925,1269,1256,8588,9139,8439,7404,1267,1361,8346,8908,8415,7257,1178,1390,8311,8896,8358,7526,1161,1516,8868,9350,8689,7603,1202,1568,8971,9816,9100,8111,1316,1511,9062,9851,9179,8485,1147,1406,7750,8393,7782,7407,816,923,5057,5603,5330,4944,605,484,3011,3450,3208,3022,489,335,1882,1955,1918,1878],\"type\":\"histogram2dcontour\",\"xaxis\":\"x2\",\"yaxis\":\"y2\"}],                        {\"template\":{\"data\":{\"barpolar\":[{\"marker\":{\"line\":{\"color\":\"white\",\"width\":0.5},\"pattern\":{\"fillmode\":\"overlay\",\"size\":10,\"solidity\":0.2}},\"type\":\"barpolar\"}],\"bar\":[{\"error_x\":{\"color\":\"rgb(36,36,36)\"},\"error_y\":{\"color\":\"rgb(36,36,36)\"},\"marker\":{\"line\":{\"color\":\"white\",\"width\":0.5},\"pattern\":{\"fillmode\":\"overlay\",\"size\":10,\"solidity\":0.2}},\"type\":\"bar\"}],\"carpet\":[{\"aaxis\":{\"endlinecolor\":\"rgb(36,36,36)\",\"gridcolor\":\"white\",\"linecolor\":\"white\",\"minorgridcolor\":\"white\",\"startlinecolor\":\"rgb(36,36,36)\"},\"baxis\":{\"endlinecolor\":\"rgb(36,36,36)\",\"gridcolor\":\"white\",\"linecolor\":\"white\",\"minorgridcolor\":\"white\",\"startlinecolor\":\"rgb(36,36,36)\"},\"type\":\"carpet\"}],\"choropleth\":[{\"colorbar\":{\"outlinewidth\":1,\"tickcolor\":\"rgb(36,36,36)\",\"ticks\":\"outside\"},\"type\":\"choropleth\"}],\"contourcarpet\":[{\"colorbar\":{\"outlinewidth\":1,\"tickcolor\":\"rgb(36,36,36)\",\"ticks\":\"outside\"},\"type\":\"contourcarpet\"}],\"contour\":[{\"colorbar\":{\"outlinewidth\":1,\"tickcolor\":\"rgb(36,36,36)\",\"ticks\":\"outside\"},\"colorscale\":[[0.0,\"#440154\"],[0.1111111111111111,\"#482878\"],[0.2222222222222222,\"#3e4989\"],[0.3333333333333333,\"#31688e\"],[0.4444444444444444,\"#26828e\"],[0.5555555555555556,\"#1f9e89\"],[0.6666666666666666,\"#35b779\"],[0.7777777777777778,\"#6ece58\"],[0.8888888888888888,\"#b5de2b\"],[1.0,\"#fde725\"]],\"type\":\"contour\"}],\"heatmapgl\":[{\"colorbar\":{\"outlinewidth\":1,\"tickcolor\":\"rgb(36,36,36)\",\"ticks\":\"outside\"},\"colorscale\":[[0.0,\"#440154\"],[0.1111111111111111,\"#482878\"],[0.2222222222222222,\"#3e4989\"],[0.3333333333333333,\"#31688e\"],[0.4444444444444444,\"#26828e\"],[0.5555555555555556,\"#1f9e89\"],[0.6666666666666666,\"#35b779\"],[0.7777777777777778,\"#6ece58\"],[0.8888888888888888,\"#b5de2b\"],[1.0,\"#fde725\"]],\"type\":\"heatmapgl\"}],\"heatmap\":[{\"colorbar\":{\"outlinewidth\":1,\"tickcolor\":\"rgb(36,36,36)\",\"ticks\":\"outside\"},\"colorscale\":[[0.0,\"#440154\"],[0.1111111111111111,\"#482878\"],[0.2222222222222222,\"#3e4989\"],[0.3333333333333333,\"#31688e\"],[0.4444444444444444,\"#26828e\"],[0.5555555555555556,\"#1f9e89\"],[0.6666666666666666,\"#35b779\"],[0.7777777777777778,\"#6ece58\"],[0.8888888888888888,\"#b5de2b\"],[1.0,\"#fde725\"]],\"type\":\"heatmap\"}],\"histogram2dcontour\":[{\"colorbar\":{\"outlinewidth\":1,\"tickcolor\":\"rgb(36,36,36)\",\"ticks\":\"outside\"},\"colorscale\":[[0.0,\"#440154\"],[0.1111111111111111,\"#482878\"],[0.2222222222222222,\"#3e4989\"],[0.3333333333333333,\"#31688e\"],[0.4444444444444444,\"#26828e\"],[0.5555555555555556,\"#1f9e89\"],[0.6666666666666666,\"#35b779\"],[0.7777777777777778,\"#6ece58\"],[0.8888888888888888,\"#b5de2b\"],[1.0,\"#fde725\"]],\"type\":\"histogram2dcontour\"}],\"histogram2d\":[{\"colorbar\":{\"outlinewidth\":1,\"tickcolor\":\"rgb(36,36,36)\",\"ticks\":\"outside\"},\"colorscale\":[[0.0,\"#440154\"],[0.1111111111111111,\"#482878\"],[0.2222222222222222,\"#3e4989\"],[0.3333333333333333,\"#31688e\"],[0.4444444444444444,\"#26828e\"],[0.5555555555555556,\"#1f9e89\"],[0.6666666666666666,\"#35b779\"],[0.7777777777777778,\"#6ece58\"],[0.8888888888888888,\"#b5de2b\"],[1.0,\"#fde725\"]],\"type\":\"histogram2d\"}],\"histogram\":[{\"marker\":{\"line\":{\"color\":\"white\",\"width\":0.6}},\"type\":\"histogram\"}],\"mesh3d\":[{\"colorbar\":{\"outlinewidth\":1,\"tickcolor\":\"rgb(36,36,36)\",\"ticks\":\"outside\"},\"type\":\"mesh3d\"}],\"parcoords\":[{\"line\":{\"colorbar\":{\"outlinewidth\":1,\"tickcolor\":\"rgb(36,36,36)\",\"ticks\":\"outside\"}},\"type\":\"parcoords\"}],\"pie\":[{\"automargin\":true,\"type\":\"pie\"}],\"scatter3d\":[{\"line\":{\"colorbar\":{\"outlinewidth\":1,\"tickcolor\":\"rgb(36,36,36)\",\"ticks\":\"outside\"}},\"marker\":{\"colorbar\":{\"outlinewidth\":1,\"tickcolor\":\"rgb(36,36,36)\",\"ticks\":\"outside\"}},\"type\":\"scatter3d\"}],\"scattercarpet\":[{\"marker\":{\"colorbar\":{\"outlinewidth\":1,\"tickcolor\":\"rgb(36,36,36)\",\"ticks\":\"outside\"}},\"type\":\"scattercarpet\"}],\"scattergeo\":[{\"marker\":{\"colorbar\":{\"outlinewidth\":1,\"tickcolor\":\"rgb(36,36,36)\",\"ticks\":\"outside\"}},\"type\":\"scattergeo\"}],\"scattergl\":[{\"marker\":{\"colorbar\":{\"outlinewidth\":1,\"tickcolor\":\"rgb(36,36,36)\",\"ticks\":\"outside\"}},\"type\":\"scattergl\"}],\"scattermapbox\":[{\"marker\":{\"colorbar\":{\"outlinewidth\":1,\"tickcolor\":\"rgb(36,36,36)\",\"ticks\":\"outside\"}},\"type\":\"scattermapbox\"}],\"scatterpolargl\":[{\"marker\":{\"colorbar\":{\"outlinewidth\":1,\"tickcolor\":\"rgb(36,36,36)\",\"ticks\":\"outside\"}},\"type\":\"scatterpolargl\"}],\"scatterpolar\":[{\"marker\":{\"colorbar\":{\"outlinewidth\":1,\"tickcolor\":\"rgb(36,36,36)\",\"ticks\":\"outside\"}},\"type\":\"scatterpolar\"}],\"scatter\":[{\"marker\":{\"colorbar\":{\"outlinewidth\":1,\"tickcolor\":\"rgb(36,36,36)\",\"ticks\":\"outside\"}},\"type\":\"scatter\"}],\"scatterternary\":[{\"marker\":{\"colorbar\":{\"outlinewidth\":1,\"tickcolor\":\"rgb(36,36,36)\",\"ticks\":\"outside\"}},\"type\":\"scatterternary\"}],\"surface\":[{\"colorbar\":{\"outlinewidth\":1,\"tickcolor\":\"rgb(36,36,36)\",\"ticks\":\"outside\"},\"colorscale\":[[0.0,\"#440154\"],[0.1111111111111111,\"#482878\"],[0.2222222222222222,\"#3e4989\"],[0.3333333333333333,\"#31688e\"],[0.4444444444444444,\"#26828e\"],[0.5555555555555556,\"#1f9e89\"],[0.6666666666666666,\"#35b779\"],[0.7777777777777778,\"#6ece58\"],[0.8888888888888888,\"#b5de2b\"],[1.0,\"#fde725\"]],\"type\":\"surface\"}],\"table\":[{\"cells\":{\"fill\":{\"color\":\"rgb(237,237,237)\"},\"line\":{\"color\":\"white\"}},\"header\":{\"fill\":{\"color\":\"rgb(217,217,217)\"},\"line\":{\"color\":\"white\"}},\"type\":\"table\"}]},\"layout\":{\"annotationdefaults\":{\"arrowhead\":0,\"arrowwidth\":1},\"autotypenumbers\":\"strict\",\"coloraxis\":{\"colorbar\":{\"outlinewidth\":1,\"tickcolor\":\"rgb(36,36,36)\",\"ticks\":\"outside\"}},\"colorscale\":{\"diverging\":[[0.0,\"rgb(103,0,31)\"],[0.1,\"rgb(178,24,43)\"],[0.2,\"rgb(214,96,77)\"],[0.3,\"rgb(244,165,130)\"],[0.4,\"rgb(253,219,199)\"],[0.5,\"rgb(247,247,247)\"],[0.6,\"rgb(209,229,240)\"],[0.7,\"rgb(146,197,222)\"],[0.8,\"rgb(67,147,195)\"],[0.9,\"rgb(33,102,172)\"],[1.0,\"rgb(5,48,97)\"]],\"sequential\":[[0.0,\"#440154\"],[0.1111111111111111,\"#482878\"],[0.2222222222222222,\"#3e4989\"],[0.3333333333333333,\"#31688e\"],[0.4444444444444444,\"#26828e\"],[0.5555555555555556,\"#1f9e89\"],[0.6666666666666666,\"#35b779\"],[0.7777777777777778,\"#6ece58\"],[0.8888888888888888,\"#b5de2b\"],[1.0,\"#fde725\"]],\"sequentialminus\":[[0.0,\"#440154\"],[0.1111111111111111,\"#482878\"],[0.2222222222222222,\"#3e4989\"],[0.3333333333333333,\"#31688e\"],[0.4444444444444444,\"#26828e\"],[0.5555555555555556,\"#1f9e89\"],[0.6666666666666666,\"#35b779\"],[0.7777777777777778,\"#6ece58\"],[0.8888888888888888,\"#b5de2b\"],[1.0,\"#fde725\"]]},\"colorway\":[\"#1F77B4\",\"#FF7F0E\",\"#2CA02C\",\"#D62728\",\"#9467BD\",\"#8C564B\",\"#E377C2\",\"#7F7F7F\",\"#BCBD22\",\"#17BECF\"],\"font\":{\"color\":\"rgb(36,36,36)\"},\"geo\":{\"bgcolor\":\"white\",\"lakecolor\":\"white\",\"landcolor\":\"white\",\"showlakes\":true,\"showland\":true,\"subunitcolor\":\"white\"},\"hoverlabel\":{\"align\":\"left\"},\"hovermode\":\"closest\",\"mapbox\":{\"style\":\"light\"},\"paper_bgcolor\":\"white\",\"plot_bgcolor\":\"white\",\"polar\":{\"angularaxis\":{\"gridcolor\":\"rgb(232,232,232)\",\"linecolor\":\"rgb(36,36,36)\",\"showgrid\":false,\"showline\":true,\"ticks\":\"outside\"},\"bgcolor\":\"white\",\"radialaxis\":{\"gridcolor\":\"rgb(232,232,232)\",\"linecolor\":\"rgb(36,36,36)\",\"showgrid\":false,\"showline\":true,\"ticks\":\"outside\"}},\"scene\":{\"xaxis\":{\"backgroundcolor\":\"white\",\"gridcolor\":\"rgb(232,232,232)\",\"gridwidth\":2,\"linecolor\":\"rgb(36,36,36)\",\"showbackground\":true,\"showgrid\":false,\"showline\":true,\"ticks\":\"outside\",\"zeroline\":false,\"zerolinecolor\":\"rgb(36,36,36)\"},\"yaxis\":{\"backgroundcolor\":\"white\",\"gridcolor\":\"rgb(232,232,232)\",\"gridwidth\":2,\"linecolor\":\"rgb(36,36,36)\",\"showbackground\":true,\"showgrid\":false,\"showline\":true,\"ticks\":\"outside\",\"zeroline\":false,\"zerolinecolor\":\"rgb(36,36,36)\"},\"zaxis\":{\"backgroundcolor\":\"white\",\"gridcolor\":\"rgb(232,232,232)\",\"gridwidth\":2,\"linecolor\":\"rgb(36,36,36)\",\"showbackground\":true,\"showgrid\":false,\"showline\":true,\"ticks\":\"outside\",\"zeroline\":false,\"zerolinecolor\":\"rgb(36,36,36)\"}},\"shapedefaults\":{\"fillcolor\":\"black\",\"line\":{\"width\":0},\"opacity\":0.3},\"ternary\":{\"aaxis\":{\"gridcolor\":\"rgb(232,232,232)\",\"linecolor\":\"rgb(36,36,36)\",\"showgrid\":false,\"showline\":true,\"ticks\":\"outside\"},\"baxis\":{\"gridcolor\":\"rgb(232,232,232)\",\"linecolor\":\"rgb(36,36,36)\",\"showgrid\":false,\"showline\":true,\"ticks\":\"outside\"},\"bgcolor\":\"white\",\"caxis\":{\"gridcolor\":\"rgb(232,232,232)\",\"linecolor\":\"rgb(36,36,36)\",\"showgrid\":false,\"showline\":true,\"ticks\":\"outside\"}},\"title\":{\"x\":0.05},\"xaxis\":{\"automargin\":true,\"gridcolor\":\"rgb(232,232,232)\",\"linecolor\":\"rgb(36,36,36)\",\"showgrid\":false,\"showline\":true,\"ticks\":\"outside\",\"title\":{\"standoff\":15},\"zeroline\":false,\"zerolinecolor\":\"rgb(36,36,36)\"},\"yaxis\":{\"automargin\":true,\"gridcolor\":\"rgb(232,232,232)\",\"linecolor\":\"rgb(36,36,36)\",\"showgrid\":false,\"showline\":true,\"ticks\":\"outside\",\"title\":{\"standoff\":15},\"zeroline\":false,\"zerolinecolor\":\"rgb(36,36,36)\"}}},\"xaxis\":{\"anchor\":\"y\",\"domain\":[0.0,1.0],\"title\":{\"text\":\"Hours\"},\"ticks\":\"inside\"},\"yaxis\":{\"anchor\":\"x\",\"domain\":[0.575,1.0],\"title\":{\"text\":\"Week-of-Month\"},\"ticks\":\"inside\"},\"xaxis2\":{\"anchor\":\"y2\",\"domain\":[0.0,1.0],\"title\":{\"text\":\"Hours\"},\"ticks\":\"inside\"},\"yaxis2\":{\"anchor\":\"x2\",\"domain\":[0.0,0.425],\"title\":{\"text\":\"Week-of-Month\"},\"ticks\":\"inside\"},\"margin\":{\"r\":50,\"t\":50,\"b\":50,\"l\":50},\"title\":{\"xanchor\":\"center\",\"yanchor\":\"top\",\"y\":0.999,\"x\":0.5,\"text\":\"Hourly sales by Week-of-month\"},\"height\":600,\"showlegend\":false},                        {\"responsive\": true}                    ).then(function(){\n",
              "                            \n",
              "var gd = document.getElementById('57a9c3fb-2ece-4b0e-b72e-5fb59318c8fe');\n",
              "var x = new MutationObserver(function (mutations, observer) {{\n",
              "        var display = window.getComputedStyle(gd).display;\n",
              "        if (!display || display === 'none') {{\n",
              "            console.log([gd, 'removed!']);\n",
              "            Plotly.purge(gd);\n",
              "            observer.disconnect();\n",
              "        }}\n",
              "}});\n",
              "\n",
              "// Listen for the removal of the full notebook cells\n",
              "var notebookContainer = gd.closest('#notebook-container');\n",
              "if (notebookContainer) {{\n",
              "    x.observe(notebookContainer, {childList: true});\n",
              "}}\n",
              "\n",
              "// Listen for the clearing of the current output cell\n",
              "var outputEl = gd.closest('.output');\n",
              "if (outputEl) {{\n",
              "    x.observe(outputEl, {childList: true});\n",
              "}}\n",
              "\n",
              "                        })                };                            </script>        </div>\n",
              "</body>\n",
              "</html>"
            ]
          },
          "metadata": {}
        }
      ]
    },
    {
      "cell_type": "markdown",
      "source": [
        "The highest order values have happened toward the last weeks of December.\n",
        "During this time, the highes order values are placed between ***8 AM - 12 PM***, and later between ***4 PM - 8 PM***.\n",
        "\n",
        "# Recommendation:\n",
        "* From this, we will ramp up the marketing activities **just before Christmas**, with special emphasis on the times shown with the highest order value.\n",
        "* Our product **recommendations** in this time will be **more varied**, in order to attract and maximise the items purchased."
      ],
      "metadata": {
        "id": "RcxTsqPSkKzg"
      }
    }
  ]
}